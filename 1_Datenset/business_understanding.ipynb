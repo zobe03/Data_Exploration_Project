{
 "cells": [
  {
   "cell_type": "markdown",
   "metadata": {},
   "source": [
    "\n",
    "# **Kapitel 1: Business Understanding**  \n",
    "\n",
    "## **Einleitung**  \n",
    "Streaming-Dienste wie Netflix und Disney+ bieten eine riesige Auswahl an Filmen und Serien. Doch genau diese Vielfalt stellt viele Nutzer vor ein Problem: **Welche Show soll ich mir ansehen?** Die Entscheidungsfindung kann durch zu viele Optionen überfordernd sein, was oft zu langem Suchen oder sogar zur Frustration führt. Das Ziel dieses Projekts ist es, eine **Show-Empfehlung** basierend auf den individuellen Vorlieben der Nutzer bereitzustellen, um die Entscheidungszeit zu minimieren und das Seherlebnis zu verbessern.  \n",
    "\n",
    "## **1.1 Bestimmung der betriebswirtschaftlichen Problemstellung**  \n",
    "Das Hauptproblem ist die **Überforderung durch die große Auswahl**. Nutzer möchten sich einfach zurücklehnen und eine Show genießen, ohne lange suchen zu müssen. Die Empfehlung soll daher auf Basis von Nutzerpräferenzen erfolgen, um eine schnellere und gezieltere Auswahl zu ermöglichen.  \n",
    "\n",
    "## **1.2 Situationsbewertung**  \n",
    "- **Datenquellen:** Filme und Serien von **Netflix und Disney+** mit Metadaten wie Genre, Altersfreigabe und Dauer.  \n",
    "- **Software & Tools:** Python, Pandas, Scikit-Learn, Matplotlib für Analysen und Visualisierungen.  \n",
    "- **Mögliche Risiken:**  \n",
    "  - Fehlende oder unvollständige Nutzerdaten für Personalisierung.  \n",
    "  - Unterschiedliche Geschmäcker erschweren eine allgemeingültige Empfehlung.  \n",
    "  - Datenbereinigung und -verarbeitung könnten zeitaufwendig sein.  \n",
    "\n",
    "## **1.3 Bestimmung analytischer Ziele**  \n",
    "Das Ziel ist es, eine **personalisierte Empfehlung für Filme und Serien** zu entwickeln. Dazu werden folgende Fragen analysiert:  \n",
    "- Welche Genres bevorzugt der Nutzer?  \n",
    "- Hat der Nutzer eine Präferenz für Filme oder Serien?  \n",
    "- Welche Altersfreigaben sind relevant?  \n",
    "- Bevorzugt der Nutzer Inhalte einer bestimmten Plattform?\n",
    "- Was ist ihr/sein lieblingsfilm/-serie?  \n",
    "\n",
    "**Erfolgskriterium:** Eine **schnellere und zufriedenstellende Empfehlung**, die basierend auf Nutzerpräferenzen eine passende Show vorschlägt und damit die Entscheidungszeit minimiert.  \n",
    "\n",
    "## **1.4 Erstellung des Projektplans**  \n",
    "- **Datenaufbereitung (50%-70%)**: Bereinigung, Formatierung und Strukturierung der Streaming-Daten.  \n",
    "- **Datenverständnis (20%-30%)**: Analyse relevanter Merkmale (Genres, Altersfreigaben, Plattformen).  \n",
    "- **Modellierung (10%-20%)**: Entwicklung eines Empfehlungssystems basierend auf Nutzerpräferenzen.  \n",
    "- **Implementierung & Erfolgsmessung (5%-10%)**: Bereitstellung der Empfehlungen und Evaluierung der Nutzerzufriedenheit.  \n",
    "\n",
    "Dieses Projekt soll den Nutzern helfen, **ohne Stress** die passende Show zu finden – für ein entspanntes Streaming-Erlebnis.  \n",
    "\n",
    "---\n"
   ]
  },
  {
   "cell_type": "markdown",
   "metadata": {},
   "source": [
    "https://datasolut.com/crisp-dm-standard/"
   ]
  }
 ],
 "metadata": {
  "language_info": {
   "name": "python"
  }
 },
 "nbformat": 4,
 "nbformat_minor": 2
}
