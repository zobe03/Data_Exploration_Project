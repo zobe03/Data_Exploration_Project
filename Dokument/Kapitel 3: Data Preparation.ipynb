{
 "cells": [
  {
   "cell_type": "markdown",
   "metadata": {},
   "source": [
    "# **Kapitel 3: Data Preparation**\n",
    "\n",
    "Die Datenvorbereitungsphase umfasst alle Aktivitäten zur Erstellung des endgültigen Datensatzes oder der endgültigen Datenauswahl, die in die Modellierungssoftware zur Analyse geladen wird. Der Schwerpunkt liegt dabei auf der Auswahl von Tabellen, Einträgen und Attributen sowie insbesondere auf der Transformation und Bereinigung der Daten. Im Folgenden werden die Schritte der Datenaufbereitung beschrieben:\n",
    "\n",
    "## **3.1 Auswahl der Daten**\n",
    "Die Auswahl der Daten für das Data Mining hängt stark von den definierten Projektzielen ab. Dabei spielen die Datenqualität und die technischen Gegebenheiten eine entscheidende Rolle. Folgende Auswahlkriterien wurden angewendet:\n",
    "- **Relevante Spalten:** Es wurden nur die Spalten beibehalten, die für die Analyse wichtig sind (z. B. `title`, `type`, `director`, `cast`, `listed_in`, `rating`, `duration`).\n",
    "- **Datenbereinigung:** Duplikate wurden entfernt, und inkonsistente oder unvollständige Einträge wurden überprüft.\n",
    "- **Selektion nach Plattform:** Die Daten wurden je nach Plattform (Netflix, Disney+) getrennt verarbeitet, um gezieltere Analysen zu ermöglichen.\n",
    "\n",
    "Am Ende dieses Prozesses wurde sichergestellt, dass nur die relevanten Daten für die Analyse verwendet werden.\n",
    "\n",
    "## **3.2 Bereinigung der Daten**\n",
    "Die Bereinigung der Daten ist essenziell, um ein erfolgreiches Data Mining-Projekt zu gewährleisten. Folgende Bereinigungsmaßnahmen wurden durchgeführt:\n",
    "- **Umgang mit fehlenden Werten:**\n",
    "  - `director` und `cast`: Fehlende Werte wurden als \"Unknown\" markiert.\n",
    "  - `country`: Falls das Produktionsland fehlte, wurde es durch \"Unknown\" ersetzt.\n",
    "  - `rating`: Falsche Werte wie Laufzeiten in der Rating-Spalte wurden in die korrekte Spalte verschoben.\n",
    "- **Duplikate:**\n",
    "  - Keine doppelten Titel innerhalb der Plattformen, um Mehrfachzählungen zu vermeiden.\n",
    "- **Standardisierung:**\n",
    "  - Unterschiedliche Genre-Bezeichnungen wurden vereinheitlicht.\n",
    "  - Altersfreigaben wurden auf eine einheitliche Notation gebracht.\n",
    "\n",
    "## **3.3 Transformation und Integration der Daten**\n",
    "Damit die Daten in einer brauchbaren Darstellungsform für die Modellierung vorliegen, wurden folgende Schritte durchgeführt:\n",
    "- **Kodierung von Textmerkmalen:**\n",
    "  - Genres wurden mittels One-Hot-Encoding kodiert.\n",
    "  - Schauspieler und Regisseure wurden numerisch umgewandelt, indem IDs zugewiesen wurden.\n",
    "- **Aggregation von Daten:**\n",
    "  - Anzahl der Staffeln bei Serien wurde standardisiert.\n",
    "  - Laufzeiten von Filmen wurden in Minuten konvertiert.\n",
    "- **Erweiterung durch neue Features:**\n",
    "  - Ein Feature wurde erstellt, das Filme nach Anlass (z. B. \"Halloween\", \"Date Night\") kategorisiert.\n",
    "  - Beliebtheit basierend auf IMDb-Bewertungen (falls verfügbar) wurde als Feature integriert.\n",
    "\n",
    "## **3.4 Anpassung des Datenformats**\n",
    "Einige Spalten mussten für die Modellierung angepasst werden:\n",
    "- **Datentypen wurden konvertiert:**\n",
    "  - `release_year` wurde in einen numerischen Wert umgewandelt.\n",
    "  - `duration` wurde in Minuten gespeichert.\n",
    "- **Speicherung des finalen Datensatzes:**\n",
    "  - Die bereinigten und transformierten Daten wurden in einer CSV-Datei gespeichert.\n",
    "  \n",
    "Durch diese Vorbereitungen sind die Daten nun in einer strukturierten und bereinigten Form für die Modellierung bereit.\n",
    "\n"
   ]
  }
 ],
 "metadata": {
  "language_info": {
   "name": "python"
  }
 },
 "nbformat": 4,
 "nbformat_minor": 2
}
