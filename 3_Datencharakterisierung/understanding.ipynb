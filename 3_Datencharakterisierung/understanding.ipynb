{
 "cells": [
  {
   "cell_type": "markdown",
   "metadata": {},
   "source": [
    "# Datencharakterisierung\n",
    "\n",
    "Als erstes werden notwendige <span style=\"color:seagreen\">packages</span> installiert und <span style=\"color:coral\">csv</span> Dateien von Netflix und Disney+ eingelesen und in <span style=\"color:lightblue\">df_list</span> gespeichert für eine schnellere Untersuchung und weniger Codezeilen."
   ]
  },
  {
   "cell_type": "code",
   "execution_count": 2,
   "metadata": {},
   "outputs": [],
   "source": [
    "import pandas as pd\n",
    "import numpy as np\n",
    "import os\n",
    "import plotly as pl\n",
    "\n",
    "notebook_dir = os.path.dirname(os.path.abspath(\"__file__\"))\n",
    "dataset_dir = os.path.join(notebook_dir, '../1_Datenset/ursprüngliche')\n",
    "\n",
    "disney_df = pd.read_csv(os.path.join(dataset_dir, 'disney_plus_titles.csv'), sep=',')\n",
    "netflix_df = pd.read_csv(os.path.join(dataset_dir, 'netflix_titles.csv'), sep=',')\n",
    "\n",
    "df_list = [\n",
    "    ('disney_df', disney_df),\n",
    "    ('netflix_df', netflix_df)\n",
    "]"
   ]
  },
  {
   "cell_type": "markdown",
   "metadata": {},
   "source": [
    "## Untersuchung der Daten"
   ]
  },
  {
   "cell_type": "code",
   "execution_count": null,
   "metadata": {},
   "outputs": [],
   "source": [
    "for df in df\n",
    "print('Info:')\n",
    "print(df.info())\n",
    "\n",
    "print('--------------------------------------------------------------------')\n",
    "print('Head:')\n",
    "print(df.head())\n",
    "\n",
    "print('--------------------------------------------------------------------')\n",
    "print('Shape:')\n",
    "print(df.shape)\n",
    "\n",
    "print('--------------------------------------------------------------------')\n",
    "print('Nullwerte?: ')\n",
    "print(df.isna())"
   ]
  }
 ],
 "metadata": {
  "kernelspec": {
   "display_name": "Python 3",
   "language": "python",
   "name": "python3"
  },
  "language_info": {
   "codemirror_mode": {
    "name": "ipython",
    "version": 3
   },
   "file_extension": ".py",
   "mimetype": "text/x-python",
   "name": "python",
   "nbconvert_exporter": "python",
   "pygments_lexer": "ipython3",
   "version": "3.13.2"
  }
 },
 "nbformat": 4,
 "nbformat_minor": 2
}
