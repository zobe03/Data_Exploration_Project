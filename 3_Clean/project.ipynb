{
 "cells": [
  {
   "cell_type": "code",
   "execution_count": 2,
   "metadata": {},
   "outputs": [
    {
     "name": "stdout",
     "output_type": "stream",
     "text": [
      "Disney: Filme mit Altersfreigabe unter 12 Jahren\n",
      "     show_id  ...                                        description\n",
      "0         s1  ...   Join Mickey and the gang as they duck the halls!\n",
      "1         s2  ...  Santa Claus passes his magic bag to a new St. ...\n",
      "2         s3  ...          Sid the Sloth is on Santa's naughty list.\n",
      "3         s4  ...               This is real life, not just fantasy!\n",
      "8         s9  ...  A day in the life at ZooTampa is anything but ...\n",
      "...      ...  ...                                                ...\n",
      "1442   s1443  ...  A jaded genius and an optimistic teen unearth ...\n",
      "1443   s1444  ...  Two 13-year-old best friends embark on an adve...\n",
      "1444   s1445  ...  Our prehistoric pals visit a world inhabited b...\n",
      "1446   s1447  ...  Larry Daley returns to rescue some old friends...\n",
      "1449   s1450  ...         View one of Sparky's favorite home movies.\n",
      "\n",
      "[1302 rows x 10 columns]\n",
      "\n",
      "Netflix: Filme mit Altersfreigabe unter 12 Jahren\n",
      "     show_id  ...                                        description\n",
      "6         s7  ...  Equestria's divided. But a bright-eyed hero be...\n",
      "13       s14  ...  When the clever but socially-awkward Tetê join...\n",
      "22       s23  ...  Newly divorced and denied visitation rights wi...\n",
      "23       s24  ...  From arcade games to sled days and hiccup cure...\n",
      "26       s27  ...  A tangled love triangle ensues when a man fall...\n",
      "...      ...  ...                                                ...\n",
      "8796   s8797  ...  During the Mongol invasions, Yunus Emre leaves...\n",
      "8797   s8798  ...  Teen surfer Zak Storm is mysteriously transpor...\n",
      "8800   s8801  ...  Strong-willed, middle-class Kashaf and carefre...\n",
      "8803   s8804  ...  While living alone in a spooky town, a young g...\n",
      "8805   s8806  ...  Dragged from civilian life, a former superhero...\n",
      "\n",
      "[2058 rows x 10 columns]\n"
     ]
    }
   ],
   "source": [
    "import pandas as pd\n",
    "\n",
    "disney = pd.read_csv('/Users/student/Desktop/Data_Exploration_Project/1_Datenset/erstellte/cleaned/disney_plus_titles_cleaned.csv')\n",
    "netflix = pd.read_csv('/Users/student/Desktop/Data_Exploration_Project/1_Datenset/erstellte/cleaned/netflix_titles_cleaned.csv')\n",
    "\n",
    "agerating_map = { \"G\": 0, \"TV-Y\": 0, \"TV-G\": 0, \"PG\": 10, \"TV-Y7\": 7, \"TV-Y7-FV\": 7, \"TV-PG\": 10, \"PG-13\": 13, \"R\": 17, \"TV-14\": 14, \"NC-17\": 18, \"TV-MA\": 17, \"NR\": -1, \"UR\": -1 } \n",
    "# Altersfreigaben für unter 12 Jahre\n",
    "under_12_ratings = [\"G\", \"TV-Y\", \"TV-G\", \"TV-Y7\", \"TV-Y7-FV\", \"PG\", \"TV-PG\"]\n",
    "\n",
    "# Disney\n",
    "print(\"Disney: Filme mit Altersfreigabe unter 12 Jahren\")\n",
    "print(disney[disney['rating'].isin(under_12_ratings)])\n",
    "\n",
    "# Netflix\n",
    "print(\"\\nNetflix: Filme mit Altersfreigabe unter 12 Jahren\")\n",
    "print(netflix[netflix['rating'].isin(under_12_ratings)])\n"
   ]
  },
  {
   "cell_type": "markdown",
   "metadata": {},
   "source": [
    "# <a id='toc6_'></a>[4 Modelling](#toc0_)\n",
    "\n",
    "## <a id='toc6_1_'></a>[](#toc0_)\n",
    "\n",
    "es gibt bei Empfehlungssystemen einen kleinen Unterschied zu klassischen ML-Modellen:\n",
    "\n",
    "Wir haben keine klassische Zielvariable (y) → Stattdessen nutzen wir Ähnlichkeitsmessungen.\n",
    "Das bedeutet, dass ein normaler train_test_split nicht immer sinnvoll ist.\n",
    "\n",
    "1. Train-Test-Split mit Scikit-Learn\n",
    "\n",
    "Falls du trotzdem eine klassische Aufteilung möchtest:\n",
    "Hier teilen wir das Feature-Set in 70% Training, 15% Validierung, 15% Test.\n",
    "\n",
    "2. Alternativer Ansatz: Leave-One-Out-Cross-Validation (LOOCV)\n",
    "\n",
    "Da wir Filme basierend auf Ähnlichkeit empfehlen, ist eine Leave-One-Out-Validierung (LOOCV) oft besser.\n",
    "LOOCV simuliert echte Empfehlungen:\n",
    "Nimmt einen Film als \"Test\"\n",
    "Überprüft, ob ähnliche Filme richtig empfohlen wurden"
   ]
  },
  {
   "cell_type": "markdown",
   "metadata": {},
   "source": [
    "wir sind an diesem Punkt angekommen. was sind die nächsten Schritte, damit der Ergebnis dieser Business case ist. : "
   ]
  },
  {
   "cell_type": "markdown",
   "metadata": {},
   "source": [
    "gebe mir den code mit kommentaren, Erklärungen und Kapitel Überschriften für den Jupiternotebook\n",
    " \n",
    "Eingabe: \n",
    "- age: Droptown liste: 1, 2, 3, 4, 5, 6, ....bis 99 [muss] -> 100%\n",
    "- hast du ein Abo: Netflix, Disney, beide -> nur eins aaswählbar [muss] -> 100%\n",
    "- Anlass: 8 aufgezählt + 'no event' (bei no event werden events bei der suche nicht beachtet) -> mehrfach Auswahl möglich bei allen außer bei 'no event'[muss] -> 70%\n",
    "- bevorzugte Genres: alle aufgezählt -> Mehrfachauswahl [kann, muss nicht] -> 40\n",
    "- möchtest du angäbe zu etwas machen: liebkingsfilm, Lieblingsregisseur, Lieblingsschauspieler (Mehrfachauswahl möglich, nicht muss) wenn es angeklickt wird dann kommt eine section unterhalb um Vorschein  mit einem Textfeld"
   ]
  }
 ],
 "metadata": {
  "kernelspec": {
   "display_name": "Python 3",
   "language": "python",
   "name": "python3"
  },
  "language_info": {
   "codemirror_mode": {
    "name": "ipython",
    "version": 3
   },
   "file_extension": ".py",
   "mimetype": "text/x-python",
   "name": "python",
   "nbconvert_exporter": "python",
   "pygments_lexer": "ipython3",
   "version": "3.13.2"
  }
 },
 "nbformat": 4,
 "nbformat_minor": 2
}
