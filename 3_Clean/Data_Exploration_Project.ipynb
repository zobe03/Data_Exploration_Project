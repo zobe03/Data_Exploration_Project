{
 "cells": [
  {
   "cell_type": "markdown",
   "metadata": {},
   "source": [
    "# <a id='toc1_'></a>[🍿 Show Recommendation With Machine Learning 🍿](#toc0_)\n",
    "\n",
    "Tipp:\n",
    "- Vor der Ausführung muss wahrscheinlich das Paket dash-bootstrap-components installiert werden.\n",
    "\n",
    "| pip install dash-bootstrap-components\n",
    "\n",
    "# <a id='toc2_'></a>[📚 Inhaltsverzeichnis](#toc0_)"
   ]
  },
  {
   "cell_type": "markdown",
   "metadata": {},
   "source": [
    "<a id='toc0_'></a>    \n",
    "- [🍿 Show Recommendation With Machine Learning 🍿](#toc1_)    \n",
    "- [📚 Inhaltsverzeichnis](#toc2_)    \n",
    "- [📦 Bibliotheken und Initialisierung](#toc3_)    \n",
    "- [1 Datencharakterisierung](#toc4_)    \n",
    "  - [1.1 Netflix](#toc4_1_)    \n",
    "    - [1.1.1 DataFrame-Info anschauen:](#toc4_1_1_)    \n",
    "    - [1.1.2 Form der DF](#toc4_1_2_)    \n",
    "    - [1.1.3 Nullwerte](#toc4_1_3_)    \n",
    "    - [1.1.4 Erste Zeile der DF (DataFrame) anschauen](#toc4_1_4_)    \n",
    "  - [1.2 Disney+](#toc4_2_)    \n",
    "    - [1.2.1 DataFrame-Info anschauen:](#toc4_2_1_)    \n",
    "    - [1.2.2 Form der DF](#toc4_2_2_)    \n",
    "    - [1.2.3 Nullwerte](#toc4_2_3_)    \n",
    "    - [1.2.4 Erste Zeile der DF (DataFrame) anschauen](#toc4_2_4_)    \n",
    "  - [1.3 Weitere Untersuchung der Beiden DF's](#toc4_3_)    \n",
    "    - [Grafik 1 - Anzhal Filme je Typ und Plattform](#toc4_3_1_)    \n",
    "    - [1.3.2  Rating - Alterfreigabe](#toc4_3_2_)    \n",
    "    - [Grafik 2 - Anzahl der Inhalte je Rating und Plattform](#toc4_3_3_)    \n",
    "    - [1.3.3 Länder, Genres und Regisseure](#toc4_3_4_)    \n",
    "      - [a) Netflix Länder](#toc4_3_4_1_)    \n",
    "      - [b) Netflix Genres](#toc4_3_4_2_)    \n",
    "      - [c) Netflix Regisseure](#toc4_3_4_3_)    \n",
    "      - [d) Disney+ Länder](#toc4_3_4_4_)    \n",
    "      - [e) Disney+ Genres](#toc4_3_4_5_)    \n",
    "      - [f) Disney+ Regisseure](#toc4_3_4_6_)    \n",
    "    - [Grafik 3 - Top 10 Genres je Platform](#toc4_3_5_)    \n",
    "- [2 Datenaufbereitung](#toc5_)    \n",
    "  - [2.1 Cleaning](#toc5_1_)    \n",
    "    - [2.1.1 Für Beide](#toc5_1_1_)    \n",
    "    - [2.1.2 Netflix - Länder](#toc5_1_2_)    \n",
    "    - [2.1.3 Disney+ - Länder](#toc5_1_3_)    \n",
    "    - [2.1.4 Netflix - 3 falsche Rating](#toc5_1_4_)    \n",
    "  - [2.2 Speichern der gecleanten DF's](#toc5_2_)    \n",
    "  - [2.3 Zusammenführen](#toc5_3_)    \n",
    "  - [2.4 Genres vereinfachen](#toc5_4_)    \n",
    "- [3 Encoding & Features Engineering](#toc6_)    \n",
    "  - [3.1 Nummerische Features vorbereiten](#toc6_1_)    \n",
    "    - [3.1.1 Duration](#toc6_1_1_)    \n",
    "    - [3.1.2 Altersfreigabe](#toc6_1_2_)    \n",
    "    - [3.1.3 Normalisierung](#toc6_1_3_)    \n",
    "  - [3.2 Multi-Label-Encoding](#toc6_2_)    \n",
    "      - [3.2.1 Genres](#toc6_2_1_1_)    \n",
    "    - [3.2.2 Plattformen](#toc6_2_2_)    \n",
    "  - [3.3 TF-IDF Vektorisierung](#toc6_3_)    \n",
    "- [4 Modellierung](#toc7_)    \n",
    "  - [4.1 Regelbasierte Anlass-Zuweisung](#toc7_1_)    \n",
    "  - [4.2 Keyword-Matching mit TF-IDF](#toc7_2_)    \n",
    "  - [4.3 Supervisod Module für unklare Fälle](#toc7_3_)    \n",
    "    - [4.3.1 Plot der ROC-AUC](#toc7_3_1_)    \n",
    "    - [4.3.2 Apply Model zur Labeling](#toc7_3_2_)    \n",
    "    - [4.3.3 Methode fürs Trainieren der Model](#toc7_3_3_)    \n",
    "- [5 Hyperpamatertuning](#toc8_)    \n",
    "- [6 Evaluierung](#toc9_)    \n",
    "  - [6.1 Plot Feature Importance](#toc9_1_)    \n",
    "  - [6.2 Fehleranalyse](#toc9_2_)    \n",
    "  - [6.3 Ergänzung zu 3.3 TF-IDF Vektorisierung für alle Spalten mit Text](#toc9_3_)    \n",
    "  - [6.4 Ausführung](#toc9_4_)    \n",
    "    - [Grafik 4 - Durchschnittliche Feature Importance](#toc9_4_1_)    \n",
    "    - [Grafik 5 - Anzahl der Fehler pro Anlässe](#toc9_4_2_)    \n",
    "    - [6.4.1 Interpretation der ROC-Kurve:](#toc9_4_3_)    \n",
    "    - [6.4.2 Interpretation Fehleranalyse Halloween Night](#toc9_4_4_)    \n",
    "      - [a) Ergebnis-Zusammenfassung:](#toc9_4_4_1_)    \n",
    "      - [b) Beispielhafte False Negatives:](#toc9_4_4_2_)    \n",
    "      - [c) Interpretation:](#toc9_4_4_3_)    \n",
    "    - [6.4.3 as man machen könnte:](#toc9_4_5_)    \n",
    "    - [Grafik 6 - Heatmap Anlässe pro Filme](#toc9_4_6_)    \n",
    "- [7 UI und Empfehlungssystem](#toc10_)    \n",
    "  - [7.1 Feature Matrix der Filme](#toc10_1_)    \n",
    "  - [7.2 Recommend by Fav Show](#toc10_2_)    \n",
    "  - [7.3 Virtual User Vector](#toc10_3_)    \n",
    "  - [7.4 Recommendation by Nutzereingabe](#toc10_4_)    \n",
    "  - [7.5 UI starten](#toc10_5_)    \n",
    "- [📎 Anhang](#toc11_)    \n",
    "  - [Anhang: extra Grafik - Weltkarten](#toc11_1_)    \n",
    "\n",
    "<!-- vscode-jupyter-toc-config\n",
    "\tnumbering=false\n",
    "\tanchor=true\n",
    "\tflat=false\n",
    "\tminLevel=1\n",
    "\tmaxLevel=6\n",
    "\t/vscode-jupyter-toc-config -->\n",
    "<!-- THIS CELL WILL BE REPLACED ON TOC UPDATE. DO NOT WRITE YOUR TEXT IN THIS CELL -->"
   ]
  },
  {
   "cell_type": "markdown",
   "metadata": {},
   "source": [
    "# <a id='toc3_'></a>[📦 Bibliotheken und Initialisierung](#toc0_)\n",
    "In diesem Abschnitt werden alle benötigten Bibliotheken geladen und grundlegende Einstellungen vorgenommen."
   ]
  },
  {
   "cell_type": "code",
   "execution_count": 2,
   "metadata": {},
   "outputs": [],
   "source": [
    "# 📦 Standard Library\n",
    "import os\n",
    "import re\n",
    "import difflib\n",
    "\n",
    "# 📊 Data Manipulation\n",
    "import numpy as np\n",
    "import pandas as pd\n",
    "from pandas.api.types import is_numeric_dtype\n",
    "\n",
    "# 📈 Visualization\n",
    "import matplotlib.pyplot as plt\n",
    "import seaborn as sns\n",
    "import plotly as pl\n",
    "import plotly.express as px\n",
    "import plotly.graph_objects as go\n",
    "from plotly.subplots import make_subplots\n",
    "from matplotlib import font_manager as fm\n",
    "\n",
    "# 🌐 Dash (Web App Framework)\n",
    "import dash\n",
    "import dash_bootstrap_components as dbc\n",
    "from dash import dcc, html, Input, Output, State, callback_context\n",
    "\n",
    "# 🧪 Machine Learning\n",
    "from sklearn.ensemble import RandomForestClassifier\n",
    "from sklearn.feature_extraction.text import TfidfVectorizer\n",
    "from sklearn.metrics import (\n",
    "    classification_report,\n",
    "    f1_score,\n",
    "    precision_recall_fscore_support,\n",
    "    roc_curve,\n",
    "    auc\n",
    ")\n",
    "from sklearn.metrics.pairwise import cosine_similarity\n",
    "from sklearn.model_selection import train_test_split\n",
    "from sklearn.multiclass import OneVsRestClassifier\n",
    "from sklearn.preprocessing import MinMaxScaler, MultiLabelBinarizer\n",
    "from sklearn.metrics import classification_report\n",
    "import scipy.sparse as sp\n",
    "from scipy.sparse import hstack\n",
    "\n",
    "# 🌍 Other Tools\n",
    "import pycountry\n",
    "\n",
    "\n",
    "notebook_dir = os.path.dirname(os.path.abspath(\"__file__\"))\n",
    "dataset_dir = os.path.join(notebook_dir, '../1_Datenset/ursprüngliche')\n",
    "\n",
    "disney_df = pd.read_csv(os.path.join(dataset_dir, 'disney_plus_titles.csv'), sep=',')\n",
    "netflix_df = pd.read_csv(os.path.join(dataset_dir, 'netflix_titles.csv'), sep=',')\n",
    "\n",
    "df_list = [\n",
    "    ('disney_df', disney_df),\n",
    "    ('netflix_df', netflix_df)\n",
    "]"
   ]
  },
  {
   "cell_type": "markdown",
   "metadata": {},
   "source": [
    "# <a id='toc4_'></a>[1 Datencharakterisierung](#toc0_)\n",
    "\n",
    "Als erstes werden notwendige <span style=\"color:seagreen\">packages</span> installiert und <span style=\"color:coral\">csv</span> Dateien von Netflix und Disney+ eingelesen und in <span style=\"color:lightblue\">df_list</span> gespeichert für eine schnellere Untersuchung und weniger Codezeilen.\n",
    "\n",
    "## <a id='toc4_1_'></a>[1.1 Netflix](#toc0_)\n",
    "\n",
    "### <a id='toc4_1_1_'></a>[1.1.1 DataFrame-Info anschauen:](#toc0_)\n",
    "- Anzahl der Einträge, -> 8807 Zeilen \n",
    "- Spaltennamen, -> 12 Spalten\n",
    "- Nicht-Null-Werte, -> Nullwerte vorhanden in ein paar Spalten\n",
    "- Datentypen -> fast überall object, manche bräuchten wir als integer"
   ]
  },
  {
   "cell_type": "code",
   "execution_count": 3,
   "metadata": {},
   "outputs": [
    {
     "name": "stdout",
     "output_type": "stream",
     "text": [
      "--------------------------------------------------------------------\n",
      "Info:\n",
      "<class 'pandas.core.frame.DataFrame'>\n",
      "RangeIndex: 8807 entries, 0 to 8806\n",
      "Data columns (total 12 columns):\n",
      " #   Column        Non-Null Count  Dtype \n",
      "---  ------        --------------  ----- \n",
      " 0   show_id       8807 non-null   object\n",
      " 1   type          8807 non-null   object\n",
      " 2   title         8807 non-null   object\n",
      " 3   director      6173 non-null   object\n",
      " 4   cast          7982 non-null   object\n",
      " 5   country       7976 non-null   object\n",
      " 6   date_added    8797 non-null   object\n",
      " 7   release_year  8807 non-null   int64 \n",
      " 8   rating        8803 non-null   object\n",
      " 9   duration      8804 non-null   object\n",
      " 10  listed_in     8807 non-null   object\n",
      " 11  description   8807 non-null   object\n",
      "dtypes: int64(1), object(11)\n",
      "memory usage: 825.8+ KB\n",
      "None\n",
      "--------------------------------------------------------------------\n"
     ]
    }
   ],
   "source": [
    "print('--------------------------------------------------------------------')\n",
    "print('Info:')\n",
    "print(netflix_df.info()) \n",
    "print('--------------------------------------------------------------------')"
   ]
  },
  {
   "cell_type": "markdown",
   "metadata": {},
   "source": [
    "### <a id='toc4_1_2_'></a>[1.1.2 Form der DF](#toc0_)\n",
    "\n",
    "-> Anzahl Zeilen und Spalten"
   ]
  },
  {
   "cell_type": "code",
   "execution_count": 4,
   "metadata": {},
   "outputs": [
    {
     "name": "stdout",
     "output_type": "stream",
     "text": [
      "--------------------------------------------------------------------\n",
      "Shape:\n",
      "(8807, 12)\n",
      "--------------------------------------------------------------------\n"
     ]
    }
   ],
   "source": [
    "print('--------------------------------------------------------------------')\n",
    "print('Shape:')\n",
    "print(netflix_df.shape)\n",
    "print('--------------------------------------------------------------------')"
   ]
  },
  {
   "cell_type": "markdown",
   "metadata": {},
   "source": [
    "### <a id='toc4_1_3_'></a>[1.1.3 Nullwerte](#toc0_)\n",
    "\n",
    "Schon vorhin bei info gesehen, aber nochmal deutlicher anschauen.\n",
    "\n",
    "- Nullwerte bei Regisseur, Scahuspieler und Länder kann man später mit 'unknow' füllen.\n",
    "- ist date_added nötig?\n",
    "    - nicht wirklich\n",
    "- rating und duration später als Nummer vllt mit Median füllen? \n",
    "    - bei duration sinnvol \n",
    "    - bei rating nicht -> stattdessen als Unrated gekennzeichen"
   ]
  },
  {
   "cell_type": "code",
   "execution_count": 5,
   "metadata": {},
   "outputs": [
    {
     "name": "stdout",
     "output_type": "stream",
     "text": [
      "--------------------------------------------------------------------\n",
      "Nullwerte pro Spalte: \n",
      "show_id            0\n",
      "type               0\n",
      "title              0\n",
      "director        2634\n",
      "cast             825\n",
      "country          831\n",
      "date_added        10\n",
      "release_year       0\n",
      "rating             4\n",
      "duration           3\n",
      "listed_in          0\n",
      "description        0\n",
      "dtype: int64\n",
      "--------------------------------------------------------------------\n"
     ]
    }
   ],
   "source": [
    "print('--------------------------------------------------------------------')\n",
    "print('Nullwerte pro Spalte: ')\n",
    "print(netflix_df.isna().sum())\n",
    "print('--------------------------------------------------------------------')"
   ]
  },
  {
   "cell_type": "markdown",
   "metadata": {},
   "source": [
    "### <a id='toc4_1_4_'></a>[1.1.4 Erste Zeile der DF (DataFrame) anschauen](#toc0_)\n",
    "\n",
    "Struktur und Eigenschaften der Rohdaten analysieren\n",
    "\n",
    "Beobachtungen:\n",
    "- show_id mit 's' + x\n",
    "- type: 2 Werte -> Movie oder TV Show\n",
    "- Titel, Regisseur, Cast, Beschreibung: sehr unterschiedliche, manche Werte fehlen.\n",
    "- Genres und Länder: mehrere Hintereinander angereiht\n",
    "- Duration: bei Filmen als Minute, bei Serien als Stafel"
   ]
  },
  {
   "cell_type": "code",
   "execution_count": 6,
   "metadata": {},
   "outputs": [
    {
     "name": "stdout",
     "output_type": "stream",
     "text": [
      "--------------------------------------------------------------------\n",
      "Head:\n",
      "  show_id     type                  title         director  \\\n",
      "0      s1    Movie   Dick Johnson Is Dead  Kirsten Johnson   \n",
      "1      s2  TV Show          Blood & Water              NaN   \n",
      "2      s3  TV Show              Ganglands  Julien Leclercq   \n",
      "3      s4  TV Show  Jailbirds New Orleans              NaN   \n",
      "4      s5  TV Show           Kota Factory              NaN   \n",
      "\n",
      "                                                cast        country  \\\n",
      "0                                                NaN  United States   \n",
      "1  Ama Qamata, Khosi Ngema, Gail Mabalane, Thaban...   South Africa   \n",
      "2  Sami Bouajila, Tracy Gotoas, Samuel Jouy, Nabi...            NaN   \n",
      "3                                                NaN            NaN   \n",
      "4  Mayur More, Jitendra Kumar, Ranjan Raj, Alam K...          India   \n",
      "\n",
      "           date_added  release_year rating   duration  \\\n",
      "0  September 25, 2021          2020  PG-13     90 min   \n",
      "1  September 24, 2021          2021  TV-MA  2 Seasons   \n",
      "2  September 24, 2021          2021  TV-MA   1 Season   \n",
      "3  September 24, 2021          2021  TV-MA   1 Season   \n",
      "4  September 24, 2021          2021  TV-MA  2 Seasons   \n",
      "\n",
      "                                           listed_in  \\\n",
      "0                                      Documentaries   \n",
      "1    International TV Shows, TV Dramas, TV Mysteries   \n",
      "2  Crime TV Shows, International TV Shows, TV Act...   \n",
      "3                             Docuseries, Reality TV   \n",
      "4  International TV Shows, Romantic TV Shows, TV ...   \n",
      "\n",
      "                                         description  \n",
      "0  As her father nears the end of his life, filmm...  \n",
      "1  After crossing paths at a party, a Cape Town t...  \n",
      "2  To protect his family from a powerful drug lor...  \n",
      "3  Feuds, flirtations and toilet talk go down amo...  \n",
      "4  In a city of coaching centers known to train I...  \n",
      "--------------------------------------------------------------------\n"
     ]
    }
   ],
   "source": [
    "print('--------------------------------------------------------------------')\n",
    "print('Head:')\n",
    "print(netflix_df.head())\n",
    "print('--------------------------------------------------------------------')"
   ]
  },
  {
   "cell_type": "markdown",
   "metadata": {},
   "source": [
    "## <a id='toc4_2_'></a>[1.2 Disney+](#toc0_)\n",
    "\n",
    "### <a id='toc4_2_1_'></a>[1.2.1 DataFrame-Info anschauen:](#toc0_)\n",
    "- Anzahl der Einträge, -> 1450 Zeilen \n",
    "- Spaltennamen, -> 12 Spalten\n",
    "- Nicht-Null-Werte, -> Nullwerte vorhanden in ein paar Spalten\n",
    "- Datentypen -> fast überall object, manche bräuchten wir als integer\n",
    "\n",
    "-> Außer die Zeilenanzahl genau gleich aufgebaut wie der Netflix Datensatz."
   ]
  },
  {
   "cell_type": "code",
   "execution_count": 7,
   "metadata": {},
   "outputs": [
    {
     "name": "stdout",
     "output_type": "stream",
     "text": [
      "--------------------------------------------------------------------\n",
      "Info:\n",
      "<class 'pandas.core.frame.DataFrame'>\n",
      "RangeIndex: 1450 entries, 0 to 1449\n",
      "Data columns (total 12 columns):\n",
      " #   Column        Non-Null Count  Dtype \n",
      "---  ------        --------------  ----- \n",
      " 0   show_id       1450 non-null   object\n",
      " 1   type          1450 non-null   object\n",
      " 2   title         1450 non-null   object\n",
      " 3   director      977 non-null    object\n",
      " 4   cast          1260 non-null   object\n",
      " 5   country       1231 non-null   object\n",
      " 6   date_added    1447 non-null   object\n",
      " 7   release_year  1450 non-null   int64 \n",
      " 8   rating        1447 non-null   object\n",
      " 9   duration      1450 non-null   object\n",
      " 10  listed_in     1450 non-null   object\n",
      " 11  description   1450 non-null   object\n",
      "dtypes: int64(1), object(11)\n",
      "memory usage: 136.1+ KB\n",
      "None\n",
      "--------------------------------------------------------------------\n"
     ]
    }
   ],
   "source": [
    "print('--------------------------------------------------------------------')\n",
    "print('Info:')\n",
    "print(disney_df.info())\n",
    "print('--------------------------------------------------------------------')"
   ]
  },
  {
   "cell_type": "markdown",
   "metadata": {},
   "source": [
    "### <a id='toc4_2_2_'></a>[1.2.2 Form der DF](#toc0_)\n",
    "\n",
    "-> Anzahl Zeilen und Spalten"
   ]
  },
  {
   "cell_type": "code",
   "execution_count": 8,
   "metadata": {},
   "outputs": [
    {
     "name": "stdout",
     "output_type": "stream",
     "text": [
      "--------------------------------------------------------------------\n",
      "Shape:\n",
      "(1450, 12)\n",
      "--------------------------------------------------------------------\n"
     ]
    }
   ],
   "source": [
    "print('--------------------------------------------------------------------')\n",
    "print('Shape:')\n",
    "print(disney_df.shape)\n",
    "print('--------------------------------------------------------------------')"
   ]
  },
  {
   "cell_type": "markdown",
   "metadata": {},
   "source": [
    "### <a id='toc4_2_3_'></a>[1.2.3 Nullwerte](#toc0_)\n",
    "\n",
    "Schon vorhin bei info gesehen, aber nochmal deutlicher anschauen.\n",
    "\n",
    "- Nullwerte bei Regisseur, Scahuspieler und Länder kann man später mit 'unknow' füllen.\n",
    "- ist date_added nötig?\n",
    "    - nicht wirklich\n",
    "- Nullwerte in rating später als unrated "
   ]
  },
  {
   "cell_type": "code",
   "execution_count": 9,
   "metadata": {},
   "outputs": [
    {
     "name": "stdout",
     "output_type": "stream",
     "text": [
      "--------------------------------------------------------------------\n",
      "Nullwerte pro Spalte: \n",
      "show_id           0\n",
      "type              0\n",
      "title             0\n",
      "director        473\n",
      "cast            190\n",
      "country         219\n",
      "date_added        3\n",
      "release_year      0\n",
      "rating            3\n",
      "duration          0\n",
      "listed_in         0\n",
      "description       0\n",
      "dtype: int64\n",
      "--------------------------------------------------------------------\n"
     ]
    }
   ],
   "source": [
    "print('--------------------------------------------------------------------')\n",
    "print('Nullwerte pro Spalte: ')\n",
    "print(disney_df.isna().sum())\n",
    "print('--------------------------------------------------------------------')"
   ]
  },
  {
   "cell_type": "markdown",
   "metadata": {},
   "source": [
    "### <a id='toc4_2_4_'></a>[1.2.4 Erste Zeile der DF (DataFrame) anschauen](#toc0_)\n",
    "\n",
    "Beobachtungen:\n",
    "- show_id mit 's' + x\n",
    "- type: 2 Werte -> Movie oder TV Show\n",
    "- Titel, Regisseur, Cast, Beschreibung: sehr unterschiedliche, manche Werte fehlen.\n",
    "- Genres und Länder: mehrere Hintereinander angereiht\n",
    "- Duration: bei Filmen als Minute, bei Serien als Stafel\n",
    "\n",
    "-> alles genauso wie bei Netflix Datensatz"
   ]
  },
  {
   "cell_type": "code",
   "execution_count": 10,
   "metadata": {},
   "outputs": [
    {
     "name": "stdout",
     "output_type": "stream",
     "text": [
      "--------------------------------------------------------------------\n",
      "Head:\n",
      "  show_id     type                                             title  \\\n",
      "0      s1    Movie  Duck the Halls: A Mickey Mouse Christmas Special   \n",
      "1      s2    Movie                            Ernest Saves Christmas   \n",
      "2      s3    Movie                      Ice Age: A Mammoth Christmas   \n",
      "3      s4    Movie                        The Queen Family Singalong   \n",
      "4      s5  TV Show                             The Beatles: Get Back   \n",
      "\n",
      "                            director  \\\n",
      "0  Alonso Ramirez Ramos, Dave Wasson   \n",
      "1                        John Cherry   \n",
      "2                       Karen Disher   \n",
      "3                    Hamish Hamilton   \n",
      "4                                NaN   \n",
      "\n",
      "                                                cast        country  \\\n",
      "0  Chris Diamantopoulos, Tony Anselmo, Tress MacN...            NaN   \n",
      "1           Jim Varney, Noelle Parker, Douglas Seale            NaN   \n",
      "2  Raymond Albert Romano, John Leguizamo, Denis L...  United States   \n",
      "3  Darren Criss, Adam Lambert, Derek Hough, Alexa...            NaN   \n",
      "4  John Lennon, Paul McCartney, George Harrison, ...            NaN   \n",
      "\n",
      "          date_added  release_year rating  duration  \\\n",
      "0  November 26, 2021          2016   TV-G    23 min   \n",
      "1  November 26, 2021          1988     PG    91 min   \n",
      "2  November 26, 2021          2011   TV-G    23 min   \n",
      "3  November 26, 2021          2021  TV-PG    41 min   \n",
      "4  November 25, 2021          2021    NaN  1 Season   \n",
      "\n",
      "                       listed_in  \\\n",
      "0              Animation, Family   \n",
      "1                         Comedy   \n",
      "2      Animation, Comedy, Family   \n",
      "3                        Musical   \n",
      "4  Docuseries, Historical, Music   \n",
      "\n",
      "                                         description  \n",
      "0   Join Mickey and the gang as they duck the halls!  \n",
      "1  Santa Claus passes his magic bag to a new St. ...  \n",
      "2          Sid the Sloth is on Santa's naughty list.  \n",
      "3               This is real life, not just fantasy!  \n",
      "4  A three-part documentary from Peter Jackson ca...  \n",
      "--------------------------------------------------------------------\n"
     ]
    }
   ],
   "source": [
    "print('--------------------------------------------------------------------')\n",
    "print('Head:')\n",
    "print(disney_df.head())\n",
    "print('--------------------------------------------------------------------')"
   ]
  },
  {
   "cell_type": "markdown",
   "metadata": {},
   "source": [
    "## <a id='toc4_3_'></a>[1.3 Weitere Untersuchung der Beiden DF's](#toc0_)\n",
    "\n",
    "Beobachtungen:\n",
    "- Anzahl Duplikate wird anhand des Titels untersucht. Da es 0 ist muss man keine Duplikate entfernen.\n",
    "- Anteil Filme und Serien ist ca gleich auf dne beiden Platformen.\n",
    "- Alterfreigabe wird gleich näher untersucht.\n",
    "- Regisseure, Genres und Länder untersuchen !!!"
   ]
  },
  {
   "cell_type": "code",
   "execution_count": 11,
   "metadata": {},
   "outputs": [
    {
     "name": "stdout",
     "output_type": "stream",
     "text": [
      "disney_df\n",
      "Anzahl der Duplikate: 0\n",
      "Typen: type\n",
      "Movie      1052\n",
      "TV Show     398\n",
      "Name: count, dtype: int64\n",
      "Anzahl Alterfreigaben: 9\n",
      "Anzahl Regisseure: 609\n",
      "Anzahl Genres: 329\n",
      "Anzahl Länder: 89\n",
      "--------------------------------------------------------------------\n",
      "netflix_df\n",
      "Anzahl der Duplikate: 0\n",
      "Typen: type\n",
      "Movie      6131\n",
      "TV Show    2676\n",
      "Name: count, dtype: int64\n",
      "Anzahl Alterfreigaben: 17\n",
      "Anzahl Regisseure: 4528\n",
      "Anzahl Genres: 514\n",
      "Anzahl Länder: 748\n",
      "--------------------------------------------------------------------\n"
     ]
    }
   ],
   "source": [
    "for name, df in df_list:\n",
    "    print(name)\n",
    "    print('Anzahl der Duplikate:', df[df.duplicated(subset=['title'])].shape[0])\n",
    "    print('Typen:', df['type'].value_counts())\n",
    "    print('Anzahl Alterfreigaben:', df['rating'].nunique())\n",
    "    print('Anzahl Regisseure:', df['director'].nunique())\n",
    "    print('Anzahl Genres:', df['listed_in'].nunique()) # sehr hohe Zahl -> Werte anschauen\n",
    "    print('Anzahl Länder:', df['country'].nunique()) # bei Netflix 740 -> Werte anschauen\n",
    "    print('--------------------------------------------------------------------')\n"
   ]
  },
  {
   "cell_type": "markdown",
   "metadata": {},
   "source": [
    "### <a id='toc4_3_1_'></a>[Grafik 1 - Anzhal Filme je Typ und Plattform](#toc0_)"
   ]
  },
  {
   "cell_type": "code",
   "execution_count": 12,
   "metadata": {},
   "outputs": [
    {
     "data": {
      "application/vnd.plotly.v1+json": {
       "config": {
        "plotlyServerURL": "https://plot.ly"
       },
       "data": [
        {
         "marker": {
          "color": [
           "#7D2020",
           "#7D2020"
          ]
         },
         "name": "Netflix",
         "text": [
          "6131",
          "2676"
         ],
         "textfont": {
          "color": "white",
          "family": "Arial",
          "size": 14
         },
         "textposition": "auto",
         "type": "bar",
         "x": [
          "Movie",
          "TV Show"
         ],
         "y": [
          6131,
          2676
         ]
        },
        {
         "marker": {
          "color": [
           "#7EAAD3",
           "#7EAAD3"
          ]
         },
         "name": "Disney+",
         "text": [
          "1052",
          "398"
         ],
         "textfont": {
          "color": "white",
          "family": "Arial",
          "size": 14
         },
         "textposition": "auto",
         "type": "bar",
         "x": [
          "Movie",
          "TV Show"
         ],
         "y": [
          1052,
          398
         ]
        }
       ],
       "layout": {
        "font": {
         "color": "white",
         "family": "cursive",
         "size": 18
        },
        "legend": {
         "bgcolor": "rgba(0, 0, 0, 1)",
         "font": {
          "color": "white",
          "family": "Droid Serif",
          "size": 15
         },
         "title": {
          "text": "Platform"
         },
         "traceorder": "normal",
         "x": 1,
         "y": 1
        },
        "paper_bgcolor": "rgba(0, 0, 0, 1)",
        "plot_bgcolor": "rgba(0, 0, 0, 1)",
        "template": {
         "data": {
          "bar": [
           {
            "error_x": {
             "color": "#2a3f5f"
            },
            "error_y": {
             "color": "#2a3f5f"
            },
            "marker": {
             "line": {
              "color": "#E5ECF6",
              "width": 0.5
             },
             "pattern": {
              "fillmode": "overlay",
              "size": 10,
              "solidity": 0.2
             }
            },
            "type": "bar"
           }
          ],
          "barpolar": [
           {
            "marker": {
             "line": {
              "color": "#E5ECF6",
              "width": 0.5
             },
             "pattern": {
              "fillmode": "overlay",
              "size": 10,
              "solidity": 0.2
             }
            },
            "type": "barpolar"
           }
          ],
          "carpet": [
           {
            "aaxis": {
             "endlinecolor": "#2a3f5f",
             "gridcolor": "white",
             "linecolor": "white",
             "minorgridcolor": "white",
             "startlinecolor": "#2a3f5f"
            },
            "baxis": {
             "endlinecolor": "#2a3f5f",
             "gridcolor": "white",
             "linecolor": "white",
             "minorgridcolor": "white",
             "startlinecolor": "#2a3f5f"
            },
            "type": "carpet"
           }
          ],
          "choropleth": [
           {
            "colorbar": {
             "outlinewidth": 0,
             "ticks": ""
            },
            "type": "choropleth"
           }
          ],
          "contour": [
           {
            "colorbar": {
             "outlinewidth": 0,
             "ticks": ""
            },
            "colorscale": [
             [
              0,
              "#0d0887"
             ],
             [
              0.1111111111111111,
              "#46039f"
             ],
             [
              0.2222222222222222,
              "#7201a8"
             ],
             [
              0.3333333333333333,
              "#9c179e"
             ],
             [
              0.4444444444444444,
              "#bd3786"
             ],
             [
              0.5555555555555556,
              "#d8576b"
             ],
             [
              0.6666666666666666,
              "#ed7953"
             ],
             [
              0.7777777777777778,
              "#fb9f3a"
             ],
             [
              0.8888888888888888,
              "#fdca26"
             ],
             [
              1,
              "#f0f921"
             ]
            ],
            "type": "contour"
           }
          ],
          "contourcarpet": [
           {
            "colorbar": {
             "outlinewidth": 0,
             "ticks": ""
            },
            "type": "contourcarpet"
           }
          ],
          "heatmap": [
           {
            "colorbar": {
             "outlinewidth": 0,
             "ticks": ""
            },
            "colorscale": [
             [
              0,
              "#0d0887"
             ],
             [
              0.1111111111111111,
              "#46039f"
             ],
             [
              0.2222222222222222,
              "#7201a8"
             ],
             [
              0.3333333333333333,
              "#9c179e"
             ],
             [
              0.4444444444444444,
              "#bd3786"
             ],
             [
              0.5555555555555556,
              "#d8576b"
             ],
             [
              0.6666666666666666,
              "#ed7953"
             ],
             [
              0.7777777777777778,
              "#fb9f3a"
             ],
             [
              0.8888888888888888,
              "#fdca26"
             ],
             [
              1,
              "#f0f921"
             ]
            ],
            "type": "heatmap"
           }
          ],
          "histogram": [
           {
            "marker": {
             "pattern": {
              "fillmode": "overlay",
              "size": 10,
              "solidity": 0.2
             }
            },
            "type": "histogram"
           }
          ],
          "histogram2d": [
           {
            "colorbar": {
             "outlinewidth": 0,
             "ticks": ""
            },
            "colorscale": [
             [
              0,
              "#0d0887"
             ],
             [
              0.1111111111111111,
              "#46039f"
             ],
             [
              0.2222222222222222,
              "#7201a8"
             ],
             [
              0.3333333333333333,
              "#9c179e"
             ],
             [
              0.4444444444444444,
              "#bd3786"
             ],
             [
              0.5555555555555556,
              "#d8576b"
             ],
             [
              0.6666666666666666,
              "#ed7953"
             ],
             [
              0.7777777777777778,
              "#fb9f3a"
             ],
             [
              0.8888888888888888,
              "#fdca26"
             ],
             [
              1,
              "#f0f921"
             ]
            ],
            "type": "histogram2d"
           }
          ],
          "histogram2dcontour": [
           {
            "colorbar": {
             "outlinewidth": 0,
             "ticks": ""
            },
            "colorscale": [
             [
              0,
              "#0d0887"
             ],
             [
              0.1111111111111111,
              "#46039f"
             ],
             [
              0.2222222222222222,
              "#7201a8"
             ],
             [
              0.3333333333333333,
              "#9c179e"
             ],
             [
              0.4444444444444444,
              "#bd3786"
             ],
             [
              0.5555555555555556,
              "#d8576b"
             ],
             [
              0.6666666666666666,
              "#ed7953"
             ],
             [
              0.7777777777777778,
              "#fb9f3a"
             ],
             [
              0.8888888888888888,
              "#fdca26"
             ],
             [
              1,
              "#f0f921"
             ]
            ],
            "type": "histogram2dcontour"
           }
          ],
          "mesh3d": [
           {
            "colorbar": {
             "outlinewidth": 0,
             "ticks": ""
            },
            "type": "mesh3d"
           }
          ],
          "parcoords": [
           {
            "line": {
             "colorbar": {
              "outlinewidth": 0,
              "ticks": ""
             }
            },
            "type": "parcoords"
           }
          ],
          "pie": [
           {
            "automargin": true,
            "type": "pie"
           }
          ],
          "scatter": [
           {
            "fillpattern": {
             "fillmode": "overlay",
             "size": 10,
             "solidity": 0.2
            },
            "type": "scatter"
           }
          ],
          "scatter3d": [
           {
            "line": {
             "colorbar": {
              "outlinewidth": 0,
              "ticks": ""
             }
            },
            "marker": {
             "colorbar": {
              "outlinewidth": 0,
              "ticks": ""
             }
            },
            "type": "scatter3d"
           }
          ],
          "scattercarpet": [
           {
            "marker": {
             "colorbar": {
              "outlinewidth": 0,
              "ticks": ""
             }
            },
            "type": "scattercarpet"
           }
          ],
          "scattergeo": [
           {
            "marker": {
             "colorbar": {
              "outlinewidth": 0,
              "ticks": ""
             }
            },
            "type": "scattergeo"
           }
          ],
          "scattergl": [
           {
            "marker": {
             "colorbar": {
              "outlinewidth": 0,
              "ticks": ""
             }
            },
            "type": "scattergl"
           }
          ],
          "scattermap": [
           {
            "marker": {
             "colorbar": {
              "outlinewidth": 0,
              "ticks": ""
             }
            },
            "type": "scattermap"
           }
          ],
          "scattermapbox": [
           {
            "marker": {
             "colorbar": {
              "outlinewidth": 0,
              "ticks": ""
             }
            },
            "type": "scattermapbox"
           }
          ],
          "scatterpolar": [
           {
            "marker": {
             "colorbar": {
              "outlinewidth": 0,
              "ticks": ""
             }
            },
            "type": "scatterpolar"
           }
          ],
          "scatterpolargl": [
           {
            "marker": {
             "colorbar": {
              "outlinewidth": 0,
              "ticks": ""
             }
            },
            "type": "scatterpolargl"
           }
          ],
          "scatterternary": [
           {
            "marker": {
             "colorbar": {
              "outlinewidth": 0,
              "ticks": ""
             }
            },
            "type": "scatterternary"
           }
          ],
          "surface": [
           {
            "colorbar": {
             "outlinewidth": 0,
             "ticks": ""
            },
            "colorscale": [
             [
              0,
              "#0d0887"
             ],
             [
              0.1111111111111111,
              "#46039f"
             ],
             [
              0.2222222222222222,
              "#7201a8"
             ],
             [
              0.3333333333333333,
              "#9c179e"
             ],
             [
              0.4444444444444444,
              "#bd3786"
             ],
             [
              0.5555555555555556,
              "#d8576b"
             ],
             [
              0.6666666666666666,
              "#ed7953"
             ],
             [
              0.7777777777777778,
              "#fb9f3a"
             ],
             [
              0.8888888888888888,
              "#fdca26"
             ],
             [
              1,
              "#f0f921"
             ]
            ],
            "type": "surface"
           }
          ],
          "table": [
           {
            "cells": {
             "fill": {
              "color": "#EBF0F8"
             },
             "line": {
              "color": "white"
             }
            },
            "header": {
             "fill": {
              "color": "#C8D4E3"
             },
             "line": {
              "color": "white"
             }
            },
            "type": "table"
           }
          ]
         },
         "layout": {
          "annotationdefaults": {
           "arrowcolor": "#2a3f5f",
           "arrowhead": 0,
           "arrowwidth": 1
          },
          "autotypenumbers": "strict",
          "coloraxis": {
           "colorbar": {
            "outlinewidth": 0,
            "ticks": ""
           }
          },
          "colorscale": {
           "diverging": [
            [
             0,
             "#8e0152"
            ],
            [
             0.1,
             "#c51b7d"
            ],
            [
             0.2,
             "#de77ae"
            ],
            [
             0.3,
             "#f1b6da"
            ],
            [
             0.4,
             "#fde0ef"
            ],
            [
             0.5,
             "#f7f7f7"
            ],
            [
             0.6,
             "#e6f5d0"
            ],
            [
             0.7,
             "#b8e186"
            ],
            [
             0.8,
             "#7fbc41"
            ],
            [
             0.9,
             "#4d9221"
            ],
            [
             1,
             "#276419"
            ]
           ],
           "sequential": [
            [
             0,
             "#0d0887"
            ],
            [
             0.1111111111111111,
             "#46039f"
            ],
            [
             0.2222222222222222,
             "#7201a8"
            ],
            [
             0.3333333333333333,
             "#9c179e"
            ],
            [
             0.4444444444444444,
             "#bd3786"
            ],
            [
             0.5555555555555556,
             "#d8576b"
            ],
            [
             0.6666666666666666,
             "#ed7953"
            ],
            [
             0.7777777777777778,
             "#fb9f3a"
            ],
            [
             0.8888888888888888,
             "#fdca26"
            ],
            [
             1,
             "#f0f921"
            ]
           ],
           "sequentialminus": [
            [
             0,
             "#0d0887"
            ],
            [
             0.1111111111111111,
             "#46039f"
            ],
            [
             0.2222222222222222,
             "#7201a8"
            ],
            [
             0.3333333333333333,
             "#9c179e"
            ],
            [
             0.4444444444444444,
             "#bd3786"
            ],
            [
             0.5555555555555556,
             "#d8576b"
            ],
            [
             0.6666666666666666,
             "#ed7953"
            ],
            [
             0.7777777777777778,
             "#fb9f3a"
            ],
            [
             0.8888888888888888,
             "#fdca26"
            ],
            [
             1,
             "#f0f921"
            ]
           ]
          },
          "colorway": [
           "#636efa",
           "#EF553B",
           "#00cc96",
           "#ab63fa",
           "#FFA15A",
           "#19d3f3",
           "#FF6692",
           "#B6E880",
           "#FF97FF",
           "#FECB52"
          ],
          "font": {
           "color": "#2a3f5f"
          },
          "geo": {
           "bgcolor": "white",
           "lakecolor": "white",
           "landcolor": "#E5ECF6",
           "showlakes": true,
           "showland": true,
           "subunitcolor": "white"
          },
          "hoverlabel": {
           "align": "left"
          },
          "hovermode": "closest",
          "mapbox": {
           "style": "light"
          },
          "paper_bgcolor": "white",
          "plot_bgcolor": "#E5ECF6",
          "polar": {
           "angularaxis": {
            "gridcolor": "white",
            "linecolor": "white",
            "ticks": ""
           },
           "bgcolor": "#E5ECF6",
           "radialaxis": {
            "gridcolor": "white",
            "linecolor": "white",
            "ticks": ""
           }
          },
          "scene": {
           "xaxis": {
            "backgroundcolor": "#E5ECF6",
            "gridcolor": "white",
            "gridwidth": 2,
            "linecolor": "white",
            "showbackground": true,
            "ticks": "",
            "zerolinecolor": "white"
           },
           "yaxis": {
            "backgroundcolor": "#E5ECF6",
            "gridcolor": "white",
            "gridwidth": 2,
            "linecolor": "white",
            "showbackground": true,
            "ticks": "",
            "zerolinecolor": "white"
           },
           "zaxis": {
            "backgroundcolor": "#E5ECF6",
            "gridcolor": "white",
            "gridwidth": 2,
            "linecolor": "white",
            "showbackground": true,
            "ticks": "",
            "zerolinecolor": "white"
           }
          },
          "shapedefaults": {
           "line": {
            "color": "#2a3f5f"
           }
          },
          "ternary": {
           "aaxis": {
            "gridcolor": "white",
            "linecolor": "white",
            "ticks": ""
           },
           "baxis": {
            "gridcolor": "white",
            "linecolor": "white",
            "ticks": ""
           },
           "bgcolor": "#E5ECF6",
           "caxis": {
            "gridcolor": "white",
            "linecolor": "white",
            "ticks": ""
           }
          },
          "title": {
           "x": 0.05
          },
          "xaxis": {
           "automargin": true,
           "gridcolor": "white",
           "linecolor": "white",
           "ticks": "",
           "title": {
            "standoff": 15
           },
           "zerolinecolor": "white",
           "zerolinewidth": 2
          },
          "yaxis": {
           "automargin": true,
           "gridcolor": "white",
           "linecolor": "white",
           "ticks": "",
           "title": {
            "standoff": 15
           },
           "zerolinecolor": "white",
           "zerolinewidth": 2
          }
         }
        },
        "title": {
         "text": "<i><b>Content type provided by Netflix and Disney+</b></i>",
         "x": 0.5
        },
        "xaxis": {
         "anchor": "y",
         "domain": [
          0,
          1
         ],
         "tickfont": {
          "color": "white",
          "family": "Droid Serif",
          "size": 15
         }
        },
        "yaxis": {
         "anchor": "x",
         "domain": [
          0,
          1
         ],
         "tickfont": {
          "color": "white",
          "family": "Droid Serif",
          "size": 15
         },
         "title": {
          "text": "Content Count"
         }
        }
       }
      }
     },
     "metadata": {},
     "output_type": "display_data"
    }
   ],
   "source": [
    "Typ_Disney = disney_df['type'].value_counts()\n",
    "Typ_Netflix = netflix_df['type'].value_counts()\n",
    "\n",
    "netflix_kleiner_teil_index = Typ_Netflix.idxmin()\n",
    "netflix_kleiner_teil_wert = Typ_Netflix.min()\n",
    "netflix_großer_teil_wert = Typ_Netflix.sum() - netflix_kleiner_teil_wert\n",
    "\n",
    "disney_kleiner_teil_index = Typ_Disney.idxmin()\n",
    "disney_kleiner_teil_wert = Typ_Disney.min()\n",
    "disney_großer_teil_wert = Typ_Disney.sum() - disney_kleiner_teil_wert\n",
    "\n",
    "fig = make_subplots(rows=1, cols=1, specs=[[{'type':'xy'}]])\n",
    "\n",
    "# Netflix und Disney+ in einem Diagramm\n",
    "fig.add_trace(go.Bar(name='Netflix', x=Typ_Netflix.index, y=[netflix_großer_teil_wert, netflix_kleiner_teil_wert],\n",
    "                     marker=dict(color=['#7D2020', '#7D2020']),\n",
    "                     text=[netflix_großer_teil_wert, netflix_kleiner_teil_wert], textposition='auto',\n",
    "                     textfont=dict(family=\"Arial\", size=14, color=\"white\")))\n",
    "\n",
    "fig.add_trace(go.Bar(name='Disney+', x=Typ_Disney.index, y=[disney_großer_teil_wert, disney_kleiner_teil_wert],\n",
    "                     marker=dict(color=['#7EAAD3', '#7EAAD3']),\n",
    "                     text=[disney_großer_teil_wert, disney_kleiner_teil_wert], textposition='auto',\n",
    "                     textfont=dict(family=\"Arial\", size=14, color=\"white\")))\n",
    "\n",
    "# Update layout – Stil ändern, aber Texte behalten\n",
    "fig.update_layout(\n",
    "    title='<i><b>Content type provided by Netflix and Disney+</b></i>',\n",
    "    title_x=0.5,\n",
    "    font=dict(family='cursive', size=18, color='white'),\n",
    "    plot_bgcolor='rgba(0, 0, 0, 1)',\n",
    "    paper_bgcolor='rgba(0, 0, 0, 1)',\n",
    "\n",
    "    legend=dict(\n",
    "        x=1,\n",
    "        y=1,\n",
    "        traceorder=\"normal\",\n",
    "        font=dict(\n",
    "            family=\"Droid Serif\",\n",
    "            size=15,\n",
    "            color=\"white\"  \n",
    "        ),\n",
    "        bgcolor=\"rgba(0, 0, 0, 1)\",  \n",
    "        title='Platform'\n",
    "    )\n",
    ")\n",
    "\n",
    "# Achsenbeschriftungen anpassen\n",
    "fig.update_xaxes(tickfont=dict(size=15, family='Droid Serif', color='white'))\n",
    "fig.update_yaxes(tickfont=dict(size=15, family='Droid Serif', color='white'))\n",
    "fig.update_yaxes(\n",
    "    tickfont=dict(size=15, family='Droid Serif', color='white'),\n",
    "    title_text=\"Content Count\"  \n",
    ")\n",
    "\n",
    "fig.show()"
   ]
  },
  {
   "cell_type": "markdown",
   "metadata": {},
   "source": [
    "### <a id='toc4_3_2_'></a>[1.3.2  Rating - Alterfreigabe](#toc0_)\n",
    "\n",
    "1. Welche Ratings gibt es je Platform?\n",
    "2. Anzahl der jeweilige Shows je Platform, je Typ und je Alterfreigabe.\n",
    "3. Grafik"
   ]
  },
  {
   "cell_type": "code",
   "execution_count": 13,
   "metadata": {},
   "outputs": [
    {
     "name": "stdout",
     "output_type": "stream",
     "text": [
      "1.\n",
      "--------------------------------------------------------------------\n",
      "Einzigartige Ratings für Disney+:\n",
      "{'PG-13', 'TV-PG', 'PG', nan, 'G', 'TV-Y7', 'TV-Y', 'TV-G', 'TV-14', 'TV-Y7-FV'}\n",
      "--------------------------------------------------------------------\n",
      "Einzigartige Ratings für Netflix:\n",
      "{'PG-13', 'NC-17', 'R', '84 min', '74 min', '66 min', 'TV-PG', 'PG', 'G', 'TV-Y7', nan, 'UR', 'TV-Y', 'TV-G', 'TV-14', 'TV-MA', 'TV-Y7-FV', 'NR'}\n",
      "--------------------------------------------------------------------\n",
      "Gemeinsame Ratings:\n",
      "{'PG-13', 'TV-PG', 'PG', 'G', nan, 'TV-Y7', 'TV-Y', 'TV-G', 'TV-14', 'TV-Y7-FV'}\n",
      "--------------------------------------------------------------------\n",
      "Unterschiedliche Ratings:\n",
      "{'R', '84 min', '66 min', 'TV-MA', '74 min', 'NC-17', 'UR', 'NR'}\n",
      "--------------------------------------------------------------------\n"
     ]
    }
   ],
   "source": [
    "print('1.')\n",
    "print('--------------------------------------------------------------------')\n",
    "\n",
    "# Einzigartige Ratings für Disney+ anzeigen\n",
    "print('Einzigartige Ratings für Disney+:')\n",
    "disney_ratings = set(disney_df['rating'].unique())\n",
    "print(disney_ratings)\n",
    "print('--------------------------------------------------------------------')\n",
    "\n",
    "# Einzigartige Ratings für Netflix anzeigen\n",
    "print('Einzigartige Ratings für Netflix:')\n",
    "netflix_ratings = set(netflix_df['rating'].unique())\n",
    "print(netflix_ratings)\n",
    "print('--------------------------------------------------------------------')\n",
    "\n",
    "# Gemeinsame Ratings anzeigen\n",
    "print('Gemeinsame Ratings:')\n",
    "common_ratings = disney_ratings.intersection(netflix_ratings)\n",
    "print(common_ratings)\n",
    "print('--------------------------------------------------------------------')\n",
    "\n",
    "# Unterschiedliche Ratings anzeigen\n",
    "print('Unterschiedliche Ratings:')\n",
    "unique_ratings = disney_ratings.symmetric_difference(netflix_ratings)\n",
    "print(unique_ratings)\n",
    "print('--------------------------------------------------------------------')"
   ]
  },
  {
   "cell_type": "markdown",
   "metadata": {},
   "source": [
    "- '66 min', '74 min', '84 min',\n",
    "die hier dürften nicht in der Spalte 'rating' sein"
   ]
  },
  {
   "cell_type": "code",
   "execution_count": 14,
   "metadata": {},
   "outputs": [
    {
     "name": "stdout",
     "output_type": "stream",
     "text": [
      "'66 min' befindet sich in den Zeilen [5813] in der Spalte 'rating'\n",
      "'74 min' befindet sich in den Zeilen [5541] in der Spalte 'rating'\n",
      "'84 min' befindet sich in den Zeilen [5794] in der Spalte 'rating'\n"
     ]
    }
   ],
   "source": [
    "# Zeilen finden, die die Werte '66 min', '74 min' oder '84 min' in der Spalte 'rating' enthalten\n",
    "values_to_find = ['66 min', '74 min', '84 min']\n",
    "for value in values_to_find:\n",
    "    rows = netflix_df[netflix_df['rating'] == value].index.tolist()\n",
    "    if rows:\n",
    "        print(f\"'{value}' befindet sich in den Zeilen {rows} in der Spalte 'rating'\")"
   ]
  },
  {
   "cell_type": "markdown",
   "metadata": {},
   "source": [
    "Die 3 falsch Einträge sind in der falschen Spalte. Diese müssen später in die Duration Spalte umgeschreiben werden beim Cleanen."
   ]
  },
  {
   "cell_type": "code",
   "execution_count": 15,
   "metadata": {},
   "outputs": [
    {
     "name": "stdout",
     "output_type": "stream",
     "text": [
      "2.\n",
      "--------------------------------------------------------------------\n",
      "      rating  count         source\n",
      "0          G    253  Disney+ Movie\n",
      "1         PG    235  Disney+ Movie\n",
      "2         PG      1  Disney+ Serie\n",
      "3      PG-13     66  Disney+ Movie\n",
      "4      TV-14     37  Disney+ Movie\n",
      "5      TV-14     42  Disney+ Serie\n",
      "6       TV-G    233  Disney+ Movie\n",
      "7       TV-G     85  Disney+ Serie\n",
      "8      TV-PG    181  Disney+ Movie\n",
      "9      TV-PG    120  Disney+ Serie\n",
      "10      TV-Y      3  Disney+ Movie\n",
      "11      TV-Y     47  Disney+ Serie\n",
      "12     TV-Y7     36  Disney+ Movie\n",
      "13     TV-Y7     95  Disney+ Serie\n",
      "14  TV-Y7-FV      7  Disney+ Movie\n",
      "15  TV-Y7-FV      6  Disney+ Serie\n",
      "0     66 min      1  Netflix Movie\n",
      "1     74 min      1  Netflix Movie\n",
      "2     84 min      1  Netflix Movie\n",
      "3          G     41  Netflix Movie\n",
      "4      NC-17      3  Netflix Movie\n",
      "5         NR     75  Netflix Movie\n",
      "6         NR      5  Netflix Serie\n",
      "7         PG    287  Netflix Movie\n",
      "8      PG-13    490  Netflix Movie\n",
      "9          R    797  Netflix Movie\n",
      "10         R      2  Netflix Serie\n",
      "11     TV-14   1427  Netflix Movie\n",
      "12     TV-14    733  Netflix Serie\n",
      "13      TV-G    126  Netflix Movie\n",
      "14      TV-G     94  Netflix Serie\n",
      "15     TV-MA   2062  Netflix Movie\n",
      "16     TV-MA   1145  Netflix Serie\n",
      "17     TV-PG    540  Netflix Movie\n",
      "18     TV-PG    323  Netflix Serie\n",
      "19      TV-Y    131  Netflix Movie\n",
      "20      TV-Y    176  Netflix Serie\n",
      "21     TV-Y7    139  Netflix Movie\n",
      "22     TV-Y7    195  Netflix Serie\n",
      "23  TV-Y7-FV      5  Netflix Movie\n",
      "24  TV-Y7-FV      1  Netflix Serie\n",
      "25        UR      3  Netflix Movie\n",
      "--------------------------------------------------------------------\n"
     ]
    }
   ],
   "source": [
    "print('2.')\n",
    "print('--------------------------------------------------------------------')\n",
    "\n",
    "# Ratings und deren Anzahlen für Disney+\n",
    "disney_ratings = disney_df.groupby(['rating', 'type']).size().reset_index(name='count')\n",
    "disney_ratings['source'] = disney_ratings['type'].apply(lambda x: 'Disney+ Movie' if x == 'Movie' else 'Disney+ Serie')\n",
    "disney_ratings = disney_ratings.drop(columns=['type'])\n",
    "\n",
    "# Ratings und deren Anzahlen für Netflix\n",
    "netflix_ratings = netflix_df.groupby(['rating', 'type']).size().reset_index(name='count')\n",
    "netflix_ratings['source'] = netflix_ratings['type'].apply(lambda x: 'Netflix Movie' if x == 'Movie' else 'Netflix Serie')\n",
    "netflix_ratings = netflix_ratings.drop(columns=['type'])\n",
    "\n",
    "# Zusammenführen der beiden DataFrames\n",
    "all_ratings = pd.concat([disney_ratings, netflix_ratings])\n",
    "\n",
    "# Ausgabe der Ratings mit den jeweiligen Anzahlen\n",
    "print(all_ratings)\n",
    "print('--------------------------------------------------------------------')\n"
   ]
  },
  {
   "cell_type": "markdown",
   "metadata": {},
   "source": [
    "### <a id='toc4_3_3_'></a>[Grafik 2 - Anzahl der Inhalte je Rating und Plattform](#toc0_)"
   ]
  },
  {
   "cell_type": "code",
   "execution_count": 16,
   "metadata": {},
   "outputs": [
    {
     "data": {
      "application/vnd.plotly.v1+json": {
       "config": {
        "plotlyServerURL": "https://plot.ly"
       },
       "data": [
        {
         "hovertemplate": "Platform=Disney+ Movie<br>Minimum Age Rating=%{x}<br>Content Count=%{y}<extra></extra>",
         "legendgroup": "Disney+ Movie",
         "marker": {
          "color": "#636efa",
          "size": 12,
          "symbol": "circle"
         },
         "mode": "markers",
         "name": "Disney+ Movie",
         "orientation": "v",
         "showlegend": true,
         "type": "scatter",
         "x": [
          ">0",
          "≥7",
          "≥10+P",
          "≥13+P",
          "≥14"
         ],
         "xaxis": "x",
         "y": {
          "bdata": "6QErAKABQgAlAA==",
          "dtype": "i2"
         },
         "yaxis": "y"
        },
        {
         "hovertemplate": "Platform=Disney+ Serie<br>Minimum Age Rating=%{x}<br>Content Count=%{y}<extra></extra>",
         "legendgroup": "Disney+ Serie",
         "marker": {
          "color": "#EF553B",
          "size": 12,
          "symbol": "circle"
         },
         "mode": "markers",
         "name": "Disney+ Serie",
         "orientation": "v",
         "showlegend": true,
         "type": "scatter",
         "x": [
          ">0",
          "≥7",
          "≥10+P",
          "≥14"
         ],
         "xaxis": "x",
         "y": {
          "bdata": "hABlAHkAKgA=",
          "dtype": "i2"
         },
         "yaxis": "y"
        },
        {
         "hovertemplate": "Platform=Netflix Movie<br>Minimum Age Rating=%{x}<br>Content Count=%{y}<extra></extra>",
         "legendgroup": "Netflix Movie",
         "marker": {
          "color": "#00cc96",
          "size": 12,
          "symbol": "circle"
         },
         "mode": "markers",
         "name": "Netflix Movie",
         "orientation": "v",
         "showlegend": true,
         "type": "scatter",
         "x": [
          ">0",
          "≥7",
          "≥10+P",
          "≥13+P",
          "≥14",
          "≥17",
          "≥18",
          "-"
         ],
         "xaxis": "x",
         "y": {
          "bdata": "KgGQADsD6gGTBSsLAwBOAA==",
          "dtype": "i2"
         },
         "yaxis": "y"
        },
        {
         "hovertemplate": "Platform=Netflix Serie<br>Minimum Age Rating=%{x}<br>Content Count=%{y}<extra></extra>",
         "legendgroup": "Netflix Serie",
         "marker": {
          "color": "#ab63fa",
          "size": 12,
          "symbol": "circle"
         },
         "mode": "markers",
         "name": "Netflix Serie",
         "orientation": "v",
         "showlegend": true,
         "type": "scatter",
         "x": [
          ">0",
          "≥7",
          "≥10+P",
          "≥14",
          "≥17",
          "-"
         ],
         "xaxis": "x",
         "y": {
          "bdata": "DgHEAEMB3QJ7BAUA",
          "dtype": "i2"
         },
         "yaxis": "y"
        }
       ],
       "layout": {
        "font": {
         "color": "black",
         "family": "cursive",
         "size": 18
        },
        "legend": {
         "bgcolor": "#D8EDF9",
         "font": {
          "color": "black",
          "family": "Droid Serif",
          "size": 15
         },
         "title": {
          "text": "Platform"
         },
         "tracegroupgap": 0,
         "traceorder": "normal",
         "x": 1,
         "y": 1
        },
        "margin": {
         "t": 60
        },
        "paper_bgcolor": "#D8EDF9",
        "plot_bgcolor": "#D8EDF9",
        "template": {
         "data": {
          "bar": [
           {
            "error_x": {
             "color": "#2a3f5f"
            },
            "error_y": {
             "color": "#2a3f5f"
            },
            "marker": {
             "line": {
              "color": "#E5ECF6",
              "width": 0.5
             },
             "pattern": {
              "fillmode": "overlay",
              "size": 10,
              "solidity": 0.2
             }
            },
            "type": "bar"
           }
          ],
          "barpolar": [
           {
            "marker": {
             "line": {
              "color": "#E5ECF6",
              "width": 0.5
             },
             "pattern": {
              "fillmode": "overlay",
              "size": 10,
              "solidity": 0.2
             }
            },
            "type": "barpolar"
           }
          ],
          "carpet": [
           {
            "aaxis": {
             "endlinecolor": "#2a3f5f",
             "gridcolor": "white",
             "linecolor": "white",
             "minorgridcolor": "white",
             "startlinecolor": "#2a3f5f"
            },
            "baxis": {
             "endlinecolor": "#2a3f5f",
             "gridcolor": "white",
             "linecolor": "white",
             "minorgridcolor": "white",
             "startlinecolor": "#2a3f5f"
            },
            "type": "carpet"
           }
          ],
          "choropleth": [
           {
            "colorbar": {
             "outlinewidth": 0,
             "ticks": ""
            },
            "type": "choropleth"
           }
          ],
          "contour": [
           {
            "colorbar": {
             "outlinewidth": 0,
             "ticks": ""
            },
            "colorscale": [
             [
              0,
              "#0d0887"
             ],
             [
              0.1111111111111111,
              "#46039f"
             ],
             [
              0.2222222222222222,
              "#7201a8"
             ],
             [
              0.3333333333333333,
              "#9c179e"
             ],
             [
              0.4444444444444444,
              "#bd3786"
             ],
             [
              0.5555555555555556,
              "#d8576b"
             ],
             [
              0.6666666666666666,
              "#ed7953"
             ],
             [
              0.7777777777777778,
              "#fb9f3a"
             ],
             [
              0.8888888888888888,
              "#fdca26"
             ],
             [
              1,
              "#f0f921"
             ]
            ],
            "type": "contour"
           }
          ],
          "contourcarpet": [
           {
            "colorbar": {
             "outlinewidth": 0,
             "ticks": ""
            },
            "type": "contourcarpet"
           }
          ],
          "heatmap": [
           {
            "colorbar": {
             "outlinewidth": 0,
             "ticks": ""
            },
            "colorscale": [
             [
              0,
              "#0d0887"
             ],
             [
              0.1111111111111111,
              "#46039f"
             ],
             [
              0.2222222222222222,
              "#7201a8"
             ],
             [
              0.3333333333333333,
              "#9c179e"
             ],
             [
              0.4444444444444444,
              "#bd3786"
             ],
             [
              0.5555555555555556,
              "#d8576b"
             ],
             [
              0.6666666666666666,
              "#ed7953"
             ],
             [
              0.7777777777777778,
              "#fb9f3a"
             ],
             [
              0.8888888888888888,
              "#fdca26"
             ],
             [
              1,
              "#f0f921"
             ]
            ],
            "type": "heatmap"
           }
          ],
          "histogram": [
           {
            "marker": {
             "pattern": {
              "fillmode": "overlay",
              "size": 10,
              "solidity": 0.2
             }
            },
            "type": "histogram"
           }
          ],
          "histogram2d": [
           {
            "colorbar": {
             "outlinewidth": 0,
             "ticks": ""
            },
            "colorscale": [
             [
              0,
              "#0d0887"
             ],
             [
              0.1111111111111111,
              "#46039f"
             ],
             [
              0.2222222222222222,
              "#7201a8"
             ],
             [
              0.3333333333333333,
              "#9c179e"
             ],
             [
              0.4444444444444444,
              "#bd3786"
             ],
             [
              0.5555555555555556,
              "#d8576b"
             ],
             [
              0.6666666666666666,
              "#ed7953"
             ],
             [
              0.7777777777777778,
              "#fb9f3a"
             ],
             [
              0.8888888888888888,
              "#fdca26"
             ],
             [
              1,
              "#f0f921"
             ]
            ],
            "type": "histogram2d"
           }
          ],
          "histogram2dcontour": [
           {
            "colorbar": {
             "outlinewidth": 0,
             "ticks": ""
            },
            "colorscale": [
             [
              0,
              "#0d0887"
             ],
             [
              0.1111111111111111,
              "#46039f"
             ],
             [
              0.2222222222222222,
              "#7201a8"
             ],
             [
              0.3333333333333333,
              "#9c179e"
             ],
             [
              0.4444444444444444,
              "#bd3786"
             ],
             [
              0.5555555555555556,
              "#d8576b"
             ],
             [
              0.6666666666666666,
              "#ed7953"
             ],
             [
              0.7777777777777778,
              "#fb9f3a"
             ],
             [
              0.8888888888888888,
              "#fdca26"
             ],
             [
              1,
              "#f0f921"
             ]
            ],
            "type": "histogram2dcontour"
           }
          ],
          "mesh3d": [
           {
            "colorbar": {
             "outlinewidth": 0,
             "ticks": ""
            },
            "type": "mesh3d"
           }
          ],
          "parcoords": [
           {
            "line": {
             "colorbar": {
              "outlinewidth": 0,
              "ticks": ""
             }
            },
            "type": "parcoords"
           }
          ],
          "pie": [
           {
            "automargin": true,
            "type": "pie"
           }
          ],
          "scatter": [
           {
            "fillpattern": {
             "fillmode": "overlay",
             "size": 10,
             "solidity": 0.2
            },
            "type": "scatter"
           }
          ],
          "scatter3d": [
           {
            "line": {
             "colorbar": {
              "outlinewidth": 0,
              "ticks": ""
             }
            },
            "marker": {
             "colorbar": {
              "outlinewidth": 0,
              "ticks": ""
             }
            },
            "type": "scatter3d"
           }
          ],
          "scattercarpet": [
           {
            "marker": {
             "colorbar": {
              "outlinewidth": 0,
              "ticks": ""
             }
            },
            "type": "scattercarpet"
           }
          ],
          "scattergeo": [
           {
            "marker": {
             "colorbar": {
              "outlinewidth": 0,
              "ticks": ""
             }
            },
            "type": "scattergeo"
           }
          ],
          "scattergl": [
           {
            "marker": {
             "colorbar": {
              "outlinewidth": 0,
              "ticks": ""
             }
            },
            "type": "scattergl"
           }
          ],
          "scattermap": [
           {
            "marker": {
             "colorbar": {
              "outlinewidth": 0,
              "ticks": ""
             }
            },
            "type": "scattermap"
           }
          ],
          "scattermapbox": [
           {
            "marker": {
             "colorbar": {
              "outlinewidth": 0,
              "ticks": ""
             }
            },
            "type": "scattermapbox"
           }
          ],
          "scatterpolar": [
           {
            "marker": {
             "colorbar": {
              "outlinewidth": 0,
              "ticks": ""
             }
            },
            "type": "scatterpolar"
           }
          ],
          "scatterpolargl": [
           {
            "marker": {
             "colorbar": {
              "outlinewidth": 0,
              "ticks": ""
             }
            },
            "type": "scatterpolargl"
           }
          ],
          "scatterternary": [
           {
            "marker": {
             "colorbar": {
              "outlinewidth": 0,
              "ticks": ""
             }
            },
            "type": "scatterternary"
           }
          ],
          "surface": [
           {
            "colorbar": {
             "outlinewidth": 0,
             "ticks": ""
            },
            "colorscale": [
             [
              0,
              "#0d0887"
             ],
             [
              0.1111111111111111,
              "#46039f"
             ],
             [
              0.2222222222222222,
              "#7201a8"
             ],
             [
              0.3333333333333333,
              "#9c179e"
             ],
             [
              0.4444444444444444,
              "#bd3786"
             ],
             [
              0.5555555555555556,
              "#d8576b"
             ],
             [
              0.6666666666666666,
              "#ed7953"
             ],
             [
              0.7777777777777778,
              "#fb9f3a"
             ],
             [
              0.8888888888888888,
              "#fdca26"
             ],
             [
              1,
              "#f0f921"
             ]
            ],
            "type": "surface"
           }
          ],
          "table": [
           {
            "cells": {
             "fill": {
              "color": "#EBF0F8"
             },
             "line": {
              "color": "white"
             }
            },
            "header": {
             "fill": {
              "color": "#C8D4E3"
             },
             "line": {
              "color": "white"
             }
            },
            "type": "table"
           }
          ]
         },
         "layout": {
          "annotationdefaults": {
           "arrowcolor": "#2a3f5f",
           "arrowhead": 0,
           "arrowwidth": 1
          },
          "autotypenumbers": "strict",
          "coloraxis": {
           "colorbar": {
            "outlinewidth": 0,
            "ticks": ""
           }
          },
          "colorscale": {
           "diverging": [
            [
             0,
             "#8e0152"
            ],
            [
             0.1,
             "#c51b7d"
            ],
            [
             0.2,
             "#de77ae"
            ],
            [
             0.3,
             "#f1b6da"
            ],
            [
             0.4,
             "#fde0ef"
            ],
            [
             0.5,
             "#f7f7f7"
            ],
            [
             0.6,
             "#e6f5d0"
            ],
            [
             0.7,
             "#b8e186"
            ],
            [
             0.8,
             "#7fbc41"
            ],
            [
             0.9,
             "#4d9221"
            ],
            [
             1,
             "#276419"
            ]
           ],
           "sequential": [
            [
             0,
             "#0d0887"
            ],
            [
             0.1111111111111111,
             "#46039f"
            ],
            [
             0.2222222222222222,
             "#7201a8"
            ],
            [
             0.3333333333333333,
             "#9c179e"
            ],
            [
             0.4444444444444444,
             "#bd3786"
            ],
            [
             0.5555555555555556,
             "#d8576b"
            ],
            [
             0.6666666666666666,
             "#ed7953"
            ],
            [
             0.7777777777777778,
             "#fb9f3a"
            ],
            [
             0.8888888888888888,
             "#fdca26"
            ],
            [
             1,
             "#f0f921"
            ]
           ],
           "sequentialminus": [
            [
             0,
             "#0d0887"
            ],
            [
             0.1111111111111111,
             "#46039f"
            ],
            [
             0.2222222222222222,
             "#7201a8"
            ],
            [
             0.3333333333333333,
             "#9c179e"
            ],
            [
             0.4444444444444444,
             "#bd3786"
            ],
            [
             0.5555555555555556,
             "#d8576b"
            ],
            [
             0.6666666666666666,
             "#ed7953"
            ],
            [
             0.7777777777777778,
             "#fb9f3a"
            ],
            [
             0.8888888888888888,
             "#fdca26"
            ],
            [
             1,
             "#f0f921"
            ]
           ]
          },
          "colorway": [
           "#636efa",
           "#EF553B",
           "#00cc96",
           "#ab63fa",
           "#FFA15A",
           "#19d3f3",
           "#FF6692",
           "#B6E880",
           "#FF97FF",
           "#FECB52"
          ],
          "font": {
           "color": "#2a3f5f"
          },
          "geo": {
           "bgcolor": "white",
           "lakecolor": "white",
           "landcolor": "#E5ECF6",
           "showlakes": true,
           "showland": true,
           "subunitcolor": "white"
          },
          "hoverlabel": {
           "align": "left"
          },
          "hovermode": "closest",
          "mapbox": {
           "style": "light"
          },
          "paper_bgcolor": "white",
          "plot_bgcolor": "#E5ECF6",
          "polar": {
           "angularaxis": {
            "gridcolor": "white",
            "linecolor": "white",
            "ticks": ""
           },
           "bgcolor": "#E5ECF6",
           "radialaxis": {
            "gridcolor": "white",
            "linecolor": "white",
            "ticks": ""
           }
          },
          "scene": {
           "xaxis": {
            "backgroundcolor": "#E5ECF6",
            "gridcolor": "white",
            "gridwidth": 2,
            "linecolor": "white",
            "showbackground": true,
            "ticks": "",
            "zerolinecolor": "white"
           },
           "yaxis": {
            "backgroundcolor": "#E5ECF6",
            "gridcolor": "white",
            "gridwidth": 2,
            "linecolor": "white",
            "showbackground": true,
            "ticks": "",
            "zerolinecolor": "white"
           },
           "zaxis": {
            "backgroundcolor": "#E5ECF6",
            "gridcolor": "white",
            "gridwidth": 2,
            "linecolor": "white",
            "showbackground": true,
            "ticks": "",
            "zerolinecolor": "white"
           }
          },
          "shapedefaults": {
           "line": {
            "color": "#2a3f5f"
           }
          },
          "ternary": {
           "aaxis": {
            "gridcolor": "white",
            "linecolor": "white",
            "ticks": ""
           },
           "baxis": {
            "gridcolor": "white",
            "linecolor": "white",
            "ticks": ""
           },
           "bgcolor": "#E5ECF6",
           "caxis": {
            "gridcolor": "white",
            "linecolor": "white",
            "ticks": ""
           }
          },
          "title": {
           "x": 0.05
          },
          "xaxis": {
           "automargin": true,
           "gridcolor": "white",
           "linecolor": "white",
           "ticks": "",
           "title": {
            "standoff": 15
           },
           "zerolinecolor": "white",
           "zerolinewidth": 2
          },
          "yaxis": {
           "automargin": true,
           "gridcolor": "white",
           "linecolor": "white",
           "ticks": "",
           "title": {
            "standoff": 15
           },
           "zerolinecolor": "white",
           "zerolinewidth": 2
          }
         }
        },
        "title": {
         "text": "<i><b>Number of Content per Age Group and Platform</b></i>",
         "x": 0.5
        },
        "xaxis": {
         "anchor": "y",
         "domain": [
          0,
          1
         ],
         "title": {
          "text": "Minimum Age Rating"
         }
        },
        "yaxis": {
         "anchor": "x",
         "domain": [
          0,
          1
         ],
         "title": {
          "text": "Content Count"
         }
        }
       }
      }
     },
     "metadata": {},
     "output_type": "display_data"
    }
   ],
   "source": [
    "# Ausgeschlossene Werte\n",
    "values_to_exclude = ['66 min', '74 min', '84 min']\n",
    "\n",
    "# Altersfreigaben-Mapping\n",
    "agerating_map = {\n",
    "    \"TV-Y\": \">0\", \"TV-G\": \">0\", \"G\": \">0\", \n",
    "    \"TV-Y7\": \"≥7\", \"TV-Y7-FV\": \"≥7\", \n",
    "    \"PG\": \"≥10+P\", \"TV-PG\": \"≥10+P\", \n",
    "    \"PG-13\": \"≥13+P\", \n",
    "    \"TV-14\": \"≥14\", \n",
    "    \"R\": \"≥17\", \"TV-MA\": \"≥17\", \n",
    "    \"NC-17\": \"≥18\", \n",
    "    \"NR\": \"-\", \"UR\": \"-\"\n",
    "}\n",
    "\n",
    "# Altersreihenfolge\n",
    "age_order = [\">0\", \"≥7\", \"≥10+P\", \"≥13+P\", \"≥14\", \"≥17\", \"≥18\", \"-\"]\n",
    "\n",
    "# Altersgruppe zuordnen\n",
    "all_ratings['age_group'] = all_ratings['rating'].map(agerating_map)\n",
    "filtered = all_ratings[~all_ratings['rating'].isin(values_to_exclude)]\n",
    "\n",
    "# Gruppieren\n",
    "grouped = (\n",
    "    filtered\n",
    "    .groupby(['age_group', 'source'])\n",
    "    .agg({'count': 'sum'})\n",
    "    .reset_index()\n",
    ")\n",
    "\n",
    "# Sortieren\n",
    "grouped['age_group'] = pd.Categorical(grouped['age_group'], categories=age_order, ordered=True)\n",
    "grouped = grouped.sort_values('age_group')\n",
    "\n",
    "# Plotly-Scatterplot\n",
    "fig = px.scatter(\n",
    "    grouped,\n",
    "    x=\"age_group\",\n",
    "    y=\"count\",\n",
    "    color=\"source\",\n",
    "    labels={\n",
    "        \"age_group\": \"Minimum Age Rating\",\n",
    "        \"count\": \"Content Count\",\n",
    "        \"source\": \"Platform\"\n",
    "    }\n",
    ")\n",
    "\n",
    "fig.update_traces(marker=dict(size=12))\n",
    "\n",
    "# Layout anpassen\n",
    "fig.update_layout(\n",
    "    title='<i><b>Number of Content per Age Group and Platform</b></i>',\n",
    "    title_x=0.5,\n",
    "    font=dict(family='cursive', size=18, color='black'),\n",
    "    paper_bgcolor='#D8EDF9',\n",
    "    plot_bgcolor='#D8EDF9',\n",
    "    legend=dict(\n",
    "        x=1,\n",
    "        y=1,\n",
    "        traceorder=\"normal\",\n",
    "        font=dict(\n",
    "            family=\"Droid Serif\",\n",
    "            size=15,\n",
    "            color=\"black\"\n",
    "        ),\n",
    "        bgcolor=\"#D8EDF9\",\n",
    "        title='Platform'\n",
    "    )\n",
    ")\n",
    "\n",
    "fig.show()"
   ]
  },
  {
   "cell_type": "markdown",
   "metadata": {},
   "source": [
    "### <a id='toc4_3_4_'></a>[1.3.3 Länder, Genres und Regisseure](#toc0_)\n",
    "\n",
    "1. Wieso gibt es so viele?\n",
    "    - 748 Stück bei Netflix -> unmöglich\n",
    "2. Sind all die Einträge für Länder plausibel?\n",
    "\n",
    "Beobachtung: \n",
    "- 'United States, Ghana, Burkina Faso, United Kingdom, Germany, Ethiopia'\n",
    "\n",
    "-> Das hier wird als ein Land gewertet, welcher falsch ist. \n",
    "\n",
    "#### <a id='toc4_3_4_1_'></a>[a) Netflix Länder](#toc0_)"
   ]
  },
  {
   "cell_type": "code",
   "execution_count": 17,
   "metadata": {},
   "outputs": [
    {
     "name": "stdout",
     "output_type": "stream",
     "text": [
      "1.\n",
      "--------------------------------------------------------------------\n"
     ]
    },
    {
     "data": {
      "text/plain": [
       "array(['United States', 'South Africa', nan, 'India',\n",
       "       'United States, Ghana, Burkina Faso, United Kingdom, Germany, Ethiopia',\n",
       "       'United Kingdom', 'Germany, Czech Republic', 'Mexico', 'Turkey',\n",
       "       'Australia', 'United States, India, France', 'Finland',\n",
       "       'China, Canada, United States',\n",
       "       'South Africa, United States, Japan', 'Nigeria', 'Japan',\n",
       "       'Spain, United States', 'France', 'Belgium',\n",
       "       'United Kingdom, United States', 'United States, United Kingdom',\n",
       "       'France, United States', 'South Korea', 'Spain',\n",
       "       'United States, Singapore', 'United Kingdom, Australia, France',\n",
       "       'United Kingdom, Australia, France, United States',\n",
       "       'United States, Canada', 'Germany, United States',\n",
       "       'South Africa, United States', 'United States, Mexico',\n",
       "       'United States, Italy, France, Japan',\n",
       "       'United States, Italy, Romania, United Kingdom',\n",
       "       'Australia, United States', 'Argentina, Venezuela',\n",
       "       'United States, United Kingdom, Canada', 'China, Hong Kong',\n",
       "       'Russia', 'Canada', 'Hong Kong', 'United States, China, Hong Kong',\n",
       "       'Italy, United States', 'United States, Germany',\n",
       "       'United Kingdom, Canada, United States', ', South Korea',\n",
       "       'Ireland', 'India, Nepal',\n",
       "       'New Zealand, Australia, France, United States', 'Italy',\n",
       "       'Italy, Brazil, Greece', 'Argentina', 'Jordan', 'Colombia',\n",
       "       'United States, Japan', 'Belgium, United Kingdom',\n",
       "       'Switzerland, United Kingdom, Australia', 'Israel, United States',\n",
       "       'Canada, United States', 'Brazil', 'Argentina, Spain', 'Taiwan',\n",
       "       'United States, Nigeria', 'Bulgaria, United States',\n",
       "       'Spain, United Kingdom, United States', 'United States, China',\n",
       "       'United States, France',\n",
       "       'Spain, France, United Kingdom, United States',\n",
       "       ', France, Algeria', 'Poland', 'Germany',\n",
       "       'France, Israel, Germany, United States, United Kingdom',\n",
       "       'New Zealand', 'Saudi Arabia', 'Thailand', 'Indonesia',\n",
       "       'Egypt, Denmark, Germany', 'United States, Switzerland',\n",
       "       'Hong Kong, Canada, United States', 'Kuwait, United States',\n",
       "       'France, Canada, United States, Spain',\n",
       "       'France, Netherlands, Singapore', 'France, Belgium',\n",
       "       'Ireland, United States, United Kingdom', 'Egypt', 'Malaysia',\n",
       "       'Israel', 'Australia, New Zealand', 'United Kingdom, Germany',\n",
       "       'Belgium, Netherlands', 'South Korea, Czech Republic',\n",
       "       'Australia, Germany', 'Vietnam', 'United Kingdom, Belgium',\n",
       "       'United Kingdom, Australia, United States',\n",
       "       'France, Japan, United States',\n",
       "       'United Kingdom, Germany, Spain, United States',\n",
       "       'United Kingdom, United States, France, Italy',\n",
       "       'United States, Germany, Canada',\n",
       "       'United States, France, Italy, United Kingdom',\n",
       "       'United States, United Kingdom, Germany, Hungary',\n",
       "       'United States, New Zealand', 'Sweden', 'China', 'Lebanon',\n",
       "       'Romania', 'Finland, Germany', 'Lebanon, Syria', 'Philippines',\n",
       "       'Iceland', 'Denmark', 'United States, India',\n",
       "       'Philippines, Singapore, Indonesia',\n",
       "       'China, United States, Canada', 'Lebanon, United Arab Emirates',\n",
       "       'Canada, United States, Denmark', 'United Arab Emirates',\n",
       "       'Mexico, France, Colombia', 'Netherlands',\n",
       "       'Germany, United States, France', 'United States, Bulgaria',\n",
       "       'United Kingdom, France, Germany, United States',\n",
       "       'Norway, Denmark', 'Syria, France, Lebanon, Qatar',\n",
       "       'United States, Czech Republic', 'Mauritius',\n",
       "       'Canada, South Africa', 'Austria', 'Mexico, Brazil',\n",
       "       'Germany, France', 'Mexico, United States',\n",
       "       'United Kingdom, France, Spain, United States',\n",
       "       'United States, Australia',\n",
       "       'United States, United Kingdom, France', 'United States, Russia',\n",
       "       'United States, United Kingdom, New Zealand',\n",
       "       'Australia, United Kingdom', 'Canada, Nigeria, United States',\n",
       "       'France, United States, United Kingdom, Canada',\n",
       "       'France, United Kingdom', 'India, United Kingdom',\n",
       "       'Canada, United States, Mexico',\n",
       "       'United Kingdom, Germany, United States',\n",
       "       'Czech Republic, United Kingdom, United States',\n",
       "       'China, United Kingdom', 'Italy, United Kingdom', 'China, Taiwan',\n",
       "       'United States, Brazil, Japan, Spain, India',\n",
       "       'United States, China, United Kingdom', 'Cameroon',\n",
       "       'Lebanon, Palestine, Denmark, Qatar', 'Japan, United States',\n",
       "       'Uruguay, Germany', 'Egypt, Saudi Arabia',\n",
       "       'United Kingdom, France, Poland, Germany, United States',\n",
       "       'Ireland, Switzerland, United Kingdom, France, United States',\n",
       "       'United Kingdom, South Africa, France',\n",
       "       'Ireland, United Kingdom, France, Germany',\n",
       "       'Russia, United States', 'United Kingdom, United States, France',\n",
       "       'United Kingdom,', 'United States, India, United Kingdom', 'Kenya',\n",
       "       'Spain, Argentina', 'India, United Kingdom, France, Qatar',\n",
       "       'Belgium, France', 'Argentina, Chile', 'United States, Thailand',\n",
       "       'Chile, Brazil', 'United States, Colombia',\n",
       "       'Canada, United States, United Kingdom', 'Uruguay', 'Luxembourg',\n",
       "       'United States, Cambodia, Romania', 'Bangladesh',\n",
       "       'Spain, Belgium, United States',\n",
       "       'United Kingdom, United States, Australia',\n",
       "       'Canada, United States, France', 'Portugal, United States',\n",
       "       'Portugal, Spain', 'India, United States',\n",
       "       'United Kingdom, Ireland', 'United Kingdom, Spain, United States',\n",
       "       'Hungary, United States', 'United States, South Korea',\n",
       "       'Canada, United States, Cayman Islands', 'India, France',\n",
       "       'France, Canada', 'Canada, Hungary, United States', 'Norway',\n",
       "       'Canada, United Kingdom, United States',\n",
       "       'United Kingdom, Germany, France, United States',\n",
       "       'Denmark, United States', 'Senegal', 'France, Algeria',\n",
       "       'United Kingdom, Finland, Germany, United States, Australia, Japan, France, Ireland',\n",
       "       'Philippines, Canada, United Kingdom, United States',\n",
       "       'Ireland, France, Iceland, United States, Mexico, Belgium, United Kingdom, Hong Kong',\n",
       "       'Singapore', 'Kuwait', 'United States, France, Serbia',\n",
       "       'United States, Italy', 'Spain, Italy',\n",
       "       'United States, Ireland, United Kingdom, India',\n",
       "       'United Kingdom, Singapore', 'Hong Kong, United States',\n",
       "       'United States, Malta, France, United Kingdom',\n",
       "       'United States, China, Canada', 'Canada, United States, Ireland',\n",
       "       'Lebanon, Canada, France', 'Japan, Canada, United States',\n",
       "       'Spain, France, Canada',\n",
       "       'Denmark, Singapore, Canada, United States',\n",
       "       'United States, France, Denmark', 'United States, China, Colombia',\n",
       "       'Spain, Thailand, United States', 'Mexico, Spain',\n",
       "       'Ireland, Luxembourg, Belgium', 'China, United States',\n",
       "       'Canada, Belgium', 'Canada, United Kingdom',\n",
       "       'Lebanon, United Arab Emirates, France, Switzerland, Germany',\n",
       "       'France, Belgium, Italy',\n",
       "       'Lebanon, United States, United Arab Emirates', 'Lebanon, France',\n",
       "       'France, Lebanon', 'France, Lebanon, United Kingdom',\n",
       "       'France, Norway, Lebanon, Belgium',\n",
       "       'Sweden, Czech Republic, United Kingdom, Denmark, Netherlands',\n",
       "       'United States, United Kingdom, India', 'Indonesia, Netherlands',\n",
       "       'Turkey, South Korea', 'Serbia, United States', 'Namibia',\n",
       "       'United Kingdom, Kenya', 'United Kingdom, France, Germany, Spain',\n",
       "       'United Kingdom, France, United States, Belgium, Luxembourg, China, Germany',\n",
       "       'Thailand, United States',\n",
       "       'United States, France, Canada, Belgium', 'United Kingdom, China',\n",
       "       'Germany, China, United Kingdom',\n",
       "       'Australia, New Zealand, United States',\n",
       "       'Hong Kong, Iceland, United States', 'France, Australia, Germany',\n",
       "       'United States, Belgium, Canada, France', 'South Africa, Angola',\n",
       "       'United States, Philippines',\n",
       "       'United States, United Kingdom, Canada, China',\n",
       "       'United States, Canada, United Kingdom', 'Turkey, United States',\n",
       "       'Peru, Germany, Norway', 'Mozambique', 'Brazil, France',\n",
       "       'China, Spain, South Korea, United States', 'Spain, Germany',\n",
       "       'Hong Kong, China', 'France, Belgium, Luxembourg, Cambodia,',\n",
       "       'United Kingdom, Australia', 'Belarus',\n",
       "       'Indonesia, United Kingdom',\n",
       "       'Switzerland, France, Belgium, United States', 'Ghana',\n",
       "       'Spain, France, Canada, United States', 'Chile, Italy',\n",
       "       'United Kingdom, Nigeria', 'Chile', 'France, Egypt',\n",
       "       'Egypt, France', 'France, Brazil, Spain, Belgium',\n",
       "       'Egypt, Algeria', 'Canada, South Korea, United States',\n",
       "       'Nigeria, United Kingdom', 'United States, France, Canada',\n",
       "       'Poland, United States',\n",
       "       'United Arab Emirates, Jordan, Lebanon, Saudi Arabia',\n",
       "       'United States, Mexico, Spain, Malta',\n",
       "       'Saudi Arabia, United Arab Emirates', 'Zimbabwe',\n",
       "       'United Kingdom, Germany, United Arab Emirates, New Zealand',\n",
       "       'Romania, United States', 'Canada, Nigeria',\n",
       "       'Saudi Arabia, Netherlands, Germany, Jordan, United Arab Emirates, United States',\n",
       "       'United Kingdom, Spain', 'Finland, France',\n",
       "       'United Kingdom, Germany, United States, France',\n",
       "       'India, United Kingdom, China, Canada, Japan, South Korea, United States',\n",
       "       'Italy, United Kingdom, France', 'United States, Mexico, Colombia',\n",
       "       'Turkey, India', 'Italy, Turkey',\n",
       "       'United Kingdom, United States, Japan',\n",
       "       'France, Belgium, United States',\n",
       "       'Puerto Rico, United States, Colombia', 'Uruguay, Argentina',\n",
       "       'United States, United Kingdom, Japan', 'United States, Argentina',\n",
       "       'United Kingdom, Italy', 'Ireland, United Kingdom',\n",
       "       'United Kingdom, France, Belgium, Canada, United States',\n",
       "       'Netherlands, Germany, Denmark, United Kingdom', 'Hungary',\n",
       "       'Austria, Germany', 'Taiwan, China',\n",
       "       'United Kingdom, United States, Ireland',\n",
       "       'South Korea, United States', 'Brazil, United Kingdom',\n",
       "       'Pakistan, United States', 'Romania, France, Switzerland, Germany',\n",
       "       'Romania, United Kingdom', 'France, Malta, United States',\n",
       "       'Cyprus',\n",
       "       'United Kingdom, France, Belgium, Ireland, United States',\n",
       "       'United States, Norway, Canada', 'Kenya, United States',\n",
       "       'France, South Korea, Japan, United States', 'Taiwan, Malaysia',\n",
       "       'Uruguay, Argentina, Germany, Spain',\n",
       "       'United States, United Kingdom, France, Germany, Japan',\n",
       "       'United States, France, Japan',\n",
       "       'United Kingdom, France, United States',\n",
       "       'Spain, France, United States',\n",
       "       'Indonesia, South Korea, Singapore', 'United States, Spain',\n",
       "       'Netherlands, Germany, Italy, Canada',\n",
       "       'Spain, Germany, Denmark, United States', 'Norway, Sweden',\n",
       "       'South Korea, Canada, United States, China',\n",
       "       'Argentina, Uruguay, Serbia', 'France, Japan',\n",
       "       'Mauritius, South Africa', 'United States, Poland',\n",
       "       'United Kingdom, United States, Germany, Denmark, Belgium, Japan',\n",
       "       'India, Germany', 'India, United Kingdom, Canada, United States',\n",
       "       'Philippines, United States', 'Romania, Bulgaria, Hungary',\n",
       "       'Uruguay, Guatemala', 'France, Senegal, Belgium',\n",
       "       'United Kingdom, Canada', 'Mexico, United States, Spain, Colombia',\n",
       "       'Canada, Norway', 'Singapore, United States',\n",
       "       'Finland, Germany, Belgium', 'United Kingdom, France',\n",
       "       'United States, Chile', 'United Kingdom, Japan, United States',\n",
       "       'Spain, United Kingdom', 'Argentina, United States, Mexico',\n",
       "       'United States, South Korea, Japan', 'Canada, Australia',\n",
       "       'United Kingdom, Hungary, Australia', 'Italy, Belgium',\n",
       "       'United States, United Kingdom, Germany', 'Switzerland',\n",
       "       'Singapore, Malaysia',\n",
       "       'France, Belgium, Luxembourg, Romania, Canada, United States',\n",
       "       'South Africa, Nigeria', 'Spain, France',\n",
       "       'United Kingdom, Hong Kong', 'Pakistan', 'Brazil, United States',\n",
       "       'Denmark, Brazil, France, Portugal, Sweden', 'India, Turkey',\n",
       "       'Malaysia, Singapore, Hong Kong', 'Philippines, Singapore',\n",
       "       'Australia, Canada', 'Taiwan, China, France, United States',\n",
       "       'Germany, Italy', 'Colombia, Peru, United Kingdom',\n",
       "       'Thailand, China, United States', 'Argentina, United States',\n",
       "       'Sweden, United States', 'Uruguay, Spain, Mexico',\n",
       "       'France, Luxembourg, Canada', 'Denmark, Spain', 'Chile, Argentina',\n",
       "       'United Kingdom, Belgium, Sweden', 'Canada, Brazil',\n",
       "       'Italy, France', 'Canada, Germany',\n",
       "       'Pakistan, United Arab Emirates', 'Ghana, United States',\n",
       "       'Mexico, Finland', 'United Arab Emirates, United Kingdom, India',\n",
       "       'Netherlands, Belgium', 'United States, Taiwan',\n",
       "       'Austria, Iraq, United States', 'United Kingdom, Malawi',\n",
       "       'Paraguay, Argentina', 'United Kingdom, Russia, United States',\n",
       "       'India, Pakistan', 'Indonesia, Singapore', 'Spain, Belgium',\n",
       "       'Iceland, Sweden, Belgium', 'Croatia', 'Uruguay, Argentina, Spain',\n",
       "       'United Kingdom, Ireland, United States',\n",
       "       'Canada, Germany, France, United States', 'United Kingdom, Japan',\n",
       "       'Norway, Denmark, Netherlands, Sweden',\n",
       "       'Hong Kong, China, United States', 'Ireland, Canada',\n",
       "       'Italy, Switzerland, France, Germany', 'Mexico, Netherlands',\n",
       "       'United States, Sweden', 'Germany, France, Russia',\n",
       "       'France, Iran, United States', 'United Kingdom, India',\n",
       "       'Russia, Poland, Serbia', 'Spain, Portugal', 'Peru',\n",
       "       'Mexico, Argentina',\n",
       "       'United Kingdom, Canada, United States, Cayman Islands',\n",
       "       'Indonesia, United States',\n",
       "       'United States, Israel, United Kingdom, Canada',\n",
       "       'Norway, Iceland, United States', 'Czech Republic, United States',\n",
       "       'United Kingdom, India, United States',\n",
       "       'United Kingdom, West Germany', 'India, Australia',\n",
       "       'United States,', 'Belgium, United Kingdom, United States',\n",
       "       'India, Germany, Austria',\n",
       "       'United States, Brazil, South Korea, Mexico, Japan, Germany',\n",
       "       'Spain, Mexico', 'China, Japan', 'Argentina, France',\n",
       "       'China, United States, United Kingdom',\n",
       "       'France, Luxembourg, United States',\n",
       "       'China, United States, Australia', 'Colombia, Mexico',\n",
       "       'United States, Canada, Ireland', 'Chile, Peru',\n",
       "       'Argentina, Italy', 'Canada, Japan, United States',\n",
       "       'United Kingdom, Canada, United States, Germany',\n",
       "       'Italy, Switzerland, Albania, Poland',\n",
       "       'United States, Japan, Canada', 'Cambodia',\n",
       "       'Italy, United States, Argentina',\n",
       "       'Saudi Arabia, Syria, Egypt, Lebanon, Kuwait',\n",
       "       'United States, Canada, Indonesia, United Kingdom, China, Singapore',\n",
       "       'Spain, Colombia',\n",
       "       'United Kingdom, South Africa, Australia, United States',\n",
       "       'Bulgaria', 'Argentina, Brazil, France, Poland, Germany, Denmark',\n",
       "       'United Kingdom, Spain, United States, Germany',\n",
       "       'Philippines, Qatar', 'Netherlands, Belgium, Germany, Jordan',\n",
       "       'United Arab Emirates, United States', 'Norway, Germany, Sweden',\n",
       "       'South Korea, China', 'Georgia', 'Soviet Union, India',\n",
       "       'Australia, United Arab Emirates', 'Canada, Germany, South Africa',\n",
       "       'South Korea, China, United States', 'India, Soviet Union',\n",
       "       'India, Mexico', 'Georgia, Germany, France',\n",
       "       'United Arab Emirates, Romania', 'India, Malaysia',\n",
       "       'Germany, Jordan, Netherlands', 'Turkey, France, Germany, Poland',\n",
       "       'Greece, United States', 'France, United Kingdom, United States',\n",
       "       'Norway, Germany', 'France, Morocco', 'Cambodia, United States',\n",
       "       'United States, Denmark', 'United States, Colombia, Mexico',\n",
       "       'United Kingdom, Italy, Israel, Peru, United States',\n",
       "       'Argentina, Uruguay, Spain, France',\n",
       "       'United Kingdom, France, United States, Belgium',\n",
       "       'France, Canada, China, Cambodia',\n",
       "       'United Kingdom, France, Belgium, United States', 'Chile, France',\n",
       "       'Netherlands, United States', 'France, United Kingdom, India',\n",
       "       'Czech Republic, Slovakia', 'Singapore, France',\n",
       "       'Spain, Switzerland', 'United States, Australia, China',\n",
       "       'South Africa, United States, Germany',\n",
       "       'United States, United Kingdom, Australia',\n",
       "       'Spain, Italy, Argentina', 'Chile, Spain, Argentina, Germany',\n",
       "       'West Germany', 'Austria, Czech Republic', 'Lebanon, Qatar',\n",
       "       'United Kingdom, Jordan, Qatar, Iran',\n",
       "       'France, South Korea, Japan', 'Israel, Germany, France',\n",
       "       'Canada, Japan, Netherlands', 'United States, Hungary',\n",
       "       'France, Germany', 'France, Qatar',\n",
       "       'United Kingdom, Germany, Canada', 'Ireland, South Africa',\n",
       "       'Chile, United States, France', 'Belgium, France, Netherlands',\n",
       "       'United Kingdom, Ukraine, United States',\n",
       "       'Germany, Australia, France, China', 'Norway, United States',\n",
       "       'United States, Bermuda, Ecuador',\n",
       "       'United States, Hungary, Ireland, Canada',\n",
       "       'United Kingdom, Egypt, United States',\n",
       "       'United States, France, United Kingdom', 'Spain, Mexico, France',\n",
       "       'United States, South Africa', 'Hong Kong, China, Singapore',\n",
       "       'South Africa, China, United States', 'Denmark, France, Poland',\n",
       "       'New Zealand, United Kingdom',\n",
       "       'Netherlands, Denmark, South Africa', 'Iran, France',\n",
       "       'United Kingdom, United States, France, Germany',\n",
       "       'Australia, France', 'Ireland, United Kingdom, United States',\n",
       "       'United Kingdom, France, Germany', 'Canada, Luxembourg',\n",
       "       'Brazil, Netherlands, United States, Colombia, Austria, Germany',\n",
       "       'France, Canada, Belgium', 'Canada, France',\n",
       "       'Bulgaria, United States, Spain, Canada', 'Sweden, Netherlands',\n",
       "       'France, United States, Mexico',\n",
       "       'Australia, United Kingdom, United Arab Emirates, Canada',\n",
       "       'Australia, Armenia, Japan, Jordan, Mexico, Mongolia, New Zealand, Philippines, South Africa, Sweden, United States, Uruguay',\n",
       "       'India, Iran', 'France, Belgium, Spain',\n",
       "       'Denmark, Sweden, Israel, United States', 'United States, Iceland',\n",
       "       'United Kingdom, Russia',\n",
       "       'United States, Israel, Italy, South Africa',\n",
       "       'Netherlands, Denmark, France, Germany', 'South Korea, Japan',\n",
       "       'United Kingdom, Pakistan', 'France, New Zealand',\n",
       "       'United Kingdom, Czech Republic, United States, Germany, Bahamas',\n",
       "       'China, Germany, India, United States', 'Germany, Sri Lanka',\n",
       "       'United States, India, Bangladesh',\n",
       "       'United States, Canada, France', 'Brazil, France, Germany',\n",
       "       'Germany, United States, Hong Kong, Singapore',\n",
       "       'France, Germany, Switzerland',\n",
       "       'Germany, France, Luxembourg, United Kingdom, United States',\n",
       "       'United Kingdom, Canada, Italy', 'Czech Republic, France',\n",
       "       'Taiwan, Hong Kong, United States, China', 'Germany, Australia',\n",
       "       'United Kingdom, Poland, United States', 'Denmark, Zimbabwe',\n",
       "       'United Kingdom, South Africa',\n",
       "       'Finland, Sweden, Norway, Latvia, Germany',\n",
       "       'South Africa, United States, New Zealand, Canada',\n",
       "       'United States, Italy, United Kingdom, Liechtenstein',\n",
       "       'Denmark, France, Belgium, Italy, Netherlands, United States, United Kingdom',\n",
       "       'United States, Australia, Mexico',\n",
       "       'United Kingdom, Czech Republic, Germany, United States',\n",
       "       'France, China, Japan, United States',\n",
       "       'United States, South Korea, China', 'Germany, Belgium',\n",
       "       'Pakistan, Norway, United States',\n",
       "       'United States, Canada, Belgium, United Kingdom', 'Venezuela',\n",
       "       'Canada, France, Italy, Morocco, United States',\n",
       "       'Canada, Spain, France', 'United States, Indonesia',\n",
       "       'Spain, France, Italy',\n",
       "       'United Arab Emirates, United States, United Kingdom',\n",
       "       'United Kingdom, Israel, Russia', 'Spain, Cuba',\n",
       "       'United States, Brazil', 'United States, France, Mexico',\n",
       "       'United States, Nicaragua',\n",
       "       'United Kingdom, United States, Spain, Germany, Greece, Canada',\n",
       "       'Italy, Canada, France',\n",
       "       'United Kingdom, Denmark, Canada, Croatia', 'Italy, Germany',\n",
       "       'United States, France, United Kingdom, Japan',\n",
       "       'United States, United Kingdom, Denmark, Sweden',\n",
       "       'United States, United Kingdom, Italy',\n",
       "       'United States, France, Canada, Spain',\n",
       "       'Russia, United States, China', 'United States, Canada, Germany',\n",
       "       'Ireland, United States', 'United States, United Arab Emirates',\n",
       "       'United States, Ireland',\n",
       "       'Ireland, United Kingdom, Italy, United States', 'Poland,',\n",
       "       'Slovenia, Croatia, Germany, Czech Republic, Qatar',\n",
       "       'Canada, United Kingdom, Netherlands',\n",
       "       'United States, Spain, Germany', 'India, Japan',\n",
       "       'China, South Korea, United States',\n",
       "       'United Kingdom, France, Belgium',\n",
       "       'Canada, Ireland, United States',\n",
       "       'United Kingdom, United States, Dominican Republic',\n",
       "       'United States, Senegal', 'Germany, United Kingdom, United States',\n",
       "       'South Africa, Germany, Netherlands, France',\n",
       "       'Canada, United States, United Kingdom, France, Luxembourg',\n",
       "       'Ireland, United States, France', 'Germany, United States, Canada',\n",
       "       'United Kingdom, Germany, Canada, United States',\n",
       "       'United States, France, Canada, Lebanon, Qatar',\n",
       "       'Netherlands, Belgium, United Kingdom, United States',\n",
       "       'France, Belgium, China, United States',\n",
       "       'United States, Chile, Israel',\n",
       "       'United Kingdom, Norway, Denmark, Germany, Sweden',\n",
       "       'Norway, Denmark, Sweden', 'China, India, Nepal',\n",
       "       'Colombia, Mexico, United States', 'United Kingdom, South Korea',\n",
       "       'Denmark, China', 'United States, Greece, Brazil',\n",
       "       'South Korea, France',\n",
       "       'United States, Australia, Samoa, United Kingdom',\n",
       "       'Germany, United Kingdom', 'Argentina, Chile, Peru',\n",
       "       'Turkey, Azerbaijan', 'Poland, West Germany',\n",
       "       'Germany, United States, Sweden', 'Canada, Spain',\n",
       "       'United States, Cambodia', 'United States, Greece',\n",
       "       'Norway, United Kingdom, France, Ireland',\n",
       "       'United Kingdom, Poland', 'Israel, Sweden, Germany, Netherlands',\n",
       "       'Switzerland, France', 'Italy, India', 'United States, Botswana',\n",
       "       'Chile, Argentina, France, Spain, United States',\n",
       "       'United States, India, South Korea, China',\n",
       "       'Denmark, Germany, Belgium, United Kingdom, France',\n",
       "       'Denmark, Germany, Belgium, United Kingdom, France, Sweden',\n",
       "       'France, Switzerland, Spain, United States, United Arab Emirates',\n",
       "       'Brazil, India, China, United States',\n",
       "       'Denmark, France, United States, Sweden', 'Australia, Iraq',\n",
       "       'China, Morocco, Hong Kong', 'Canada, United States, Germany',\n",
       "       'United Kingdom, Thailand', 'Venezuela, Colombia',\n",
       "       'Colombia, United States',\n",
       "       'France, Germany, Czech Republic, Belgium',\n",
       "       'Switzerland, Vatican City, Italy, Germany, France',\n",
       "       'Portugal, France, Poland, United States',\n",
       "       'United States, New Zealand, Japan',\n",
       "       'United States, Netherlands, Japan, France', 'India, Switzerland',\n",
       "       'Canada, India', 'United States, Morocco',\n",
       "       'Singapore, Japan, France',\n",
       "       'Canada, Mexico, Germany, South Africa',\n",
       "       'United Kingdom, United States, Canada',\n",
       "       'Germany, France, United States, Canada, United Kingdom',\n",
       "       'United States, Uruguay', 'India, Canada',\n",
       "       'Ireland, Canada, United Kingdom, United States',\n",
       "       'United States, Germany, Australia', 'Australia, France, Ireland',\n",
       "       'Australia, India', 'United States, United Kingdom, Canada, Japan',\n",
       "       'Sweden, United Kingdom, Finland', 'Hong Kong, Taiwan',\n",
       "       'United States, United Kingdom, Spain, South Korea', 'Guatemala',\n",
       "       'Ukraine',\n",
       "       'Italy, South Africa, West Germany, Australia, United States',\n",
       "       'United States, Germany, United Kingdom, Australia',\n",
       "       'Italy, France, Switzerland', 'Canada, France, United States',\n",
       "       'Switzerland, United States', 'Thailand, Canada, United States',\n",
       "       'China, Hong Kong, United States', 'United Kingdom, New Zealand',\n",
       "       'Czech Republic, United Kingdom, France',\n",
       "       'Australia, United Kingdom, Canada', 'Jamaica, United States',\n",
       "       'Australia, United Kingdom, United States, New Zealand, Italy, France',\n",
       "       'France, United States, Canada',\n",
       "       'United Kingdom, France, Canada, Belgium, United States',\n",
       "       'Denmark, United Kingdom, Sweden', 'United States, Hong Kong',\n",
       "       'United States, Kazakhstan',\n",
       "       'Argentina, France, United States, Germany, Qatar',\n",
       "       'United States, Germany, United Kingdom',\n",
       "       'United States, Germany, United Kingdom, Italy',\n",
       "       'United States, New Zealand, United Kingdom',\n",
       "       'Finland, United States', 'Spain, France, Uruguay',\n",
       "       'France, Canada, United States', 'United States, Canada, China',\n",
       "       'Ireland, Canada, Luxembourg, United States, United Kingdom, Philippines, India',\n",
       "       'United States, Czech Republic, United Kingdom', 'Israel, Germany',\n",
       "       'Mexico, France',\n",
       "       'Israel, Germany, Poland, Luxembourg, Belgium, France, United States',\n",
       "       'Austria, United States', 'United Kingdom, Lithuania',\n",
       "       'United States, Greece, United Kingdom',\n",
       "       'United Kingdom, China, United States, India',\n",
       "       'United States, Sweden, Norway',\n",
       "       'United Kingdom, United States, Morocco',\n",
       "       'United States, United Kingdom, Morocco',\n",
       "       'Spain, Canada, United States',\n",
       "       'United States, India, United Arab Emirates',\n",
       "       'United Kingdom, Canada, France, United States',\n",
       "       'India, Germany, France',\n",
       "       'Belgium, Ireland, Netherlands, Germany, Afghanistan',\n",
       "       'France, Canada, Italy, United States, China',\n",
       "       'Ireland, United Kingdom, Greece, France, Netherlands',\n",
       "       'Denmark, Indonesia, Finland, Norway, United Kingdom, Israel, France, United States, Germany, Netherlands',\n",
       "       'New Zealand, United States',\n",
       "       'United States, Australia, South Africa, United Kingdom',\n",
       "       'United States, Germany, Mexico',\n",
       "       'Somalia, Kenya, Sudan, South Africa, United States',\n",
       "       'United States, Canada, Japan, Panama',\n",
       "       'United Kingdom, Spain, Belgium', 'Serbia, South Korea, Slovenia',\n",
       "       'Denmark, United Kingdom, South Africa, Sweden, Belgium',\n",
       "       'Germany, Canada, United States',\n",
       "       'Ireland, Canada, United States, United Kingdom',\n",
       "       'New Zealand, United Kingdom, Australia',\n",
       "       'United Kingdom, Australia, Canada, United States',\n",
       "       'Germany, United States, Italy', 'United States, Venezuela',\n",
       "       'United Kingdom, Canada, Japan',\n",
       "       'United Kingdom, United States, Czech Republic',\n",
       "       'United Kingdom, China, United States',\n",
       "       'United Kingdom, Brazil, Germany',\n",
       "       'United Kingdom, Namibia, South Africa, Zimbabwe, United States',\n",
       "       'Canada, United States, India, United Kingdom',\n",
       "       'Switzerland, United Kingdom, United States',\n",
       "       'United Kingdom, India, Sweden',\n",
       "       'United States, Brazil, India, Uganda, China',\n",
       "       'Peru, United States, United Kingdom',\n",
       "       'Germany, United States, United Kingdom, Canada',\n",
       "       'Canada, India, Thailand, United States, United Arab Emirates',\n",
       "       'United States, East Germany, West Germany',\n",
       "       'France, Netherlands, South Africa, Finland',\n",
       "       'Egypt, Austria, United States', 'Russia, Spain',\n",
       "       'Croatia, Slovenia, Serbia, Montenegro', 'Japan, Canada',\n",
       "       'United States, France, South Korea, Indonesia',\n",
       "       'United Arab Emirates, Jordan'], dtype=object)"
      ]
     },
     "execution_count": 17,
     "metadata": {},
     "output_type": "execute_result"
    }
   ],
   "source": [
    "print('1.')\n",
    "print('--------------------------------------------------------------------')\n",
    "netflix_df['country'].unique()"
   ]
  },
  {
   "cell_type": "code",
   "execution_count": 18,
   "metadata": {},
   "outputs": [
    {
     "name": "stdout",
     "output_type": "stream",
     "text": [
      "2.\n",
      "--------------------------------------------------------------------\n",
      "Nicht plasible Länder\n",
      "2       [nan]\n",
      "3       [nan]\n",
      "5       [nan]\n",
      "6       [nan]\n",
      "10      [nan]\n",
      "        ...  \n",
      "8718    [nan]\n",
      "8759    [nan]\n",
      "8783    [nan]\n",
      "8785    [nan]\n",
      "8803    [nan]\n",
      "Name: country, Length: 838, dtype: object\n"
     ]
    }
   ],
   "source": [
    "print('2.')\n",
    "print('--------------------------------------------------------------------')\n",
    "\n",
    "def is_valid_country(country_name):\n",
    "    if pd.isna(country_name) or country_name.lower() in ['unknown'] + ['russia']:\n",
    "        return True\n",
    "    try:\n",
    "        pycountry.countries.lookup(country_name)\n",
    "        return True\n",
    "    except LookupError:\n",
    "        return False\n",
    "\n",
    "def is_valid_country(country_name):\n",
    "    valid_countries = ['turkey', 'russia', 'palestine', 'vatican city', 'soviet union']\n",
    "    if pd.isna(country_name) or country_name.lower() in ['unknown'] + valid_countries:\n",
    "        return True\n",
    "    if country_name.lower() == 'soviet union':\n",
    "        country_name = 'russia'\n",
    "    if country_name.lower() in ['west germany', 'east germany']:\n",
    "        country_name = 'germany'\n",
    "    try:\n",
    "        pycountry.countries.lookup(country_name)\n",
    "        return True\n",
    "    except LookupError:\n",
    "        return False\n",
    "\n",
    "\n",
    "invalid_countries = netflix_df['country'].apply(lambda x: [country.strip() for country in str(x).split(',') if country.strip() != 'unknown' and not is_valid_country(country.strip())])\n",
    "print('Nicht plasible Länder')\n",
    "\n",
    "print(invalid_countries[invalid_countries.apply(len) > 0])\n"
   ]
  },
  {
   "cell_type": "markdown",
   "metadata": {},
   "source": [
    "-> Wird später gecleant und anschließend wieder untersucht\n",
    "\n",
    "#### <a id='toc4_3_4_2_'></a>[b) Netflix Genres](#toc0_)\n",
    "\n",
    "Beobachtung:\n",
    "- Es gibt zu viele Genres.\n",
    "- Es gibt aber keine falschen Einträge."
   ]
  },
  {
   "cell_type": "code",
   "execution_count": 19,
   "metadata": {},
   "outputs": [
    {
     "name": "stdout",
     "output_type": "stream",
     "text": [
      "['Documentaries' 'International TV Shows' 'TV Dramas' 'TV Mysteries'\n",
      " 'Crime TV Shows' 'TV Action & Adventure' 'Docuseries' 'Reality TV'\n",
      " 'Romantic TV Shows' 'TV Comedies' 'TV Horror' 'Children & Family Movies'\n",
      " 'Dramas' 'Independent Movies' 'International Movies' 'British TV Shows'\n",
      " 'Comedies' 'Spanish-Language TV Shows' 'Thrillers' 'Romantic Movies'\n",
      " 'Music & Musicals' 'Horror Movies' 'Sci-Fi & Fantasy' 'TV Thrillers'\n",
      " \"Kids' TV\" 'Action & Adventure' 'TV Sci-Fi & Fantasy' 'Classic Movies'\n",
      " 'Anime Features' 'Sports Movies' 'Anime Series' 'Korean TV Shows'\n",
      " 'Science & Nature TV' 'Teen TV Shows' 'Cult Movies' 'TV Shows'\n",
      " 'Faith & Spirituality' 'LGBTQ Movies' 'Stand-Up Comedy' 'Movies'\n",
      " 'Stand-Up Comedy & Talk Shows' 'Classic & Cult TV']\n"
     ]
    }
   ],
   "source": [
    "netflix_df_copy_1 = netflix_df.copy()\n",
    "netflix_df_copy_1['listed_in'] = netflix_df_copy_1['listed_in'].str.split(',')\n",
    "netflix_df_copy_1['listed_in'] = netflix_df_copy_1['listed_in'].apply(lambda x: [genre.strip() for genre in x])\n",
    "netflix_df_genres = netflix_df_copy_1.explode('listed_in')\n",
    "unique_genres_netflix = netflix_df_genres['listed_in'].unique()\n",
    "print(unique_genres_netflix)"
   ]
  },
  {
   "cell_type": "code",
   "execution_count": 20,
   "metadata": {},
   "outputs": [
    {
     "name": "stdout",
     "output_type": "stream",
     "text": [
      "listed_in\n",
      "International Movies            2752\n",
      "Dramas                          2427\n",
      "Comedies                        1674\n",
      "International TV Shows          1351\n",
      "Documentaries                    869\n",
      "Action & Adventure               859\n",
      "TV Dramas                        763\n",
      "Independent Movies               756\n",
      "Children & Family Movies         641\n",
      "Romantic Movies                  616\n",
      "TV Comedies                      581\n",
      "Thrillers                        577\n",
      "Crime TV Shows                   470\n",
      "Kids' TV                         451\n",
      "Docuseries                       395\n",
      "Music & Musicals                 375\n",
      "Romantic TV Shows                370\n",
      "Horror Movies                    357\n",
      "Stand-Up Comedy                  343\n",
      "Reality TV                       255\n",
      "British TV Shows                 253\n",
      "Sci-Fi & Fantasy                 243\n",
      "Sports Movies                    219\n",
      "Anime Series                     176\n",
      "Spanish-Language TV Shows        174\n",
      "TV Action & Adventure            168\n",
      "Korean TV Shows                  151\n",
      "Classic Movies                   116\n",
      "LGBTQ Movies                     102\n",
      "TV Mysteries                      98\n",
      "Science & Nature TV               92\n",
      "TV Sci-Fi & Fantasy               84\n",
      "TV Horror                         75\n",
      "Cult Movies                       71\n",
      "Anime Features                    71\n",
      "Teen TV Shows                     69\n",
      "Faith & Spirituality              65\n",
      "TV Thrillers                      57\n",
      "Movies                            57\n",
      "Stand-Up Comedy & Talk Shows      56\n",
      "Classic & Cult TV                 28\n",
      "TV Shows                          16\n",
      "Name: count, dtype: int64\n"
     ]
    }
   ],
   "source": [
    "netflix_movies_per_genres = netflix_df_genres['listed_in'].value_counts()\n",
    "print(netflix_movies_per_genres)"
   ]
  },
  {
   "cell_type": "markdown",
   "metadata": {},
   "source": [
    "#### <a id='toc4_3_4_3_'></a>[c) Netflix Regisseure](#toc0_)\n",
    "\n",
    "Beobachtiung:\n",
    "- Es gibt keine falschen Einträge."
   ]
  },
  {
   "cell_type": "code",
   "execution_count": 21,
   "metadata": {},
   "outputs": [
    {
     "name": "stdout",
     "output_type": "stream",
     "text": [
      "['Kirsten Johnson' nan 'Julien Leclercq' ... 'Majid Al Ansari'\n",
      " 'Peter Hewitt' 'Mozez Singh']\n"
     ]
    }
   ],
   "source": [
    "netflix_df_copy_2 = netflix_df.copy()\n",
    "netflix_df_copy_2['director'] = netflix_df_copy_2['director'].str.split(',')\n",
    "netflix_df_copy_2['director'] = netflix_df_copy_2['director'].apply(lambda x: [director.strip() for director in x] if isinstance(x, list) else x)\n",
    "netflix_df_directors = netflix_df_copy_2.explode('director')\n",
    "unique_directors_netflix = netflix_df_directors['director'].unique()\n",
    "print(unique_directors_netflix)"
   ]
  },
  {
   "cell_type": "markdown",
   "metadata": {},
   "source": [
    "\n",
    "#### <a id='toc4_3_4_4_'></a>[d) Disney+ Länder](#toc0_)\n"
   ]
  },
  {
   "cell_type": "code",
   "execution_count": 22,
   "metadata": {},
   "outputs": [
    {
     "data": {
      "text/plain": [
       "array([nan, 'United States', 'United States, Canada',\n",
       "       'United States, Australia', 'Canada',\n",
       "       'United States, United Kingdom', 'United States, South Korea',\n",
       "       'Ireland, United States, Canada, United Kingdom, Denmark, Spain, Poland, Hungary',\n",
       "       'France, United Kingdom', 'United Kingdom, Australia',\n",
       "       'Ireland, United States', 'Canada, United States, France',\n",
       "       'France, South Korea, Japan, United States', 'France',\n",
       "       'United States, United Kingdom, Hungary', 'United States, Germany',\n",
       "       'United States, United Kingdom, Australia', 'United States, India',\n",
       "       'United States, Canada, United Kingdom, Singapore, Australia, Thailand',\n",
       "       'Canada, United States',\n",
       "       'South Korea, United States, China, Japan',\n",
       "       'Australia, United Kingdom', 'United Kingdom',\n",
       "       'United States, United Kingdom, South Korea',\n",
       "       'United States, United Kingdom, Canada',\n",
       "       'United States, Germany, United Kingdom',\n",
       "       'United States, Canada, Ireland', 'United States, Brazil',\n",
       "       'United Kingdom, United States',\n",
       "       'United Kingdom, United States, Canada, Ireland',\n",
       "       'United States, United Kingdom, Belgium, Canada',\n",
       "       'Austria, South Africa', 'United States, Japan',\n",
       "       'United States, Spain', 'United Kingdom, United States, France',\n",
       "       'United States, Canada, Hong Kong', 'Argentina',\n",
       "       'United Arab Emirates', 'United States, Mexico',\n",
       "       'France, Switzerland, Spain, United States, United Arab Emirates',\n",
       "       'United Kingdom, France', 'Argentina, Mexico', 'India',\n",
       "       'France, Japan', 'United Kingdom, Canada, United States',\n",
       "       'United States, Ireland', 'France, United Kingdom, United States',\n",
       "       'United Kingdom, United States, Canada',\n",
       "       'United States, Germany, Ireland, United Kingdom',\n",
       "       'United States, United Kingdom, South Africa',\n",
       "       'United Kingdom, United States, Ireland', 'France, United States',\n",
       "       'Ireland, United Kingdom, United States, South Korea, Canada',\n",
       "       'United States, South Korea, France',\n",
       "       'United States, Australia, France, Canada',\n",
       "       'United States, Hungary, United Kingdom',\n",
       "       'United States, Hong Kong, South Korea, France, Canada, China, United Kingdom, Australia, Japan, Taiwan, Philippines',\n",
       "       'United States, Taiwan, South Korea, China, Japan, United Kingdom',\n",
       "       'Germany, United States', 'United Kingdom, Germany',\n",
       "       'United States, Philippines, South Korea',\n",
       "       'United Kingdom, China, United States', 'Tanzania, United States',\n",
       "       'United States, Panama, Mexico',\n",
       "       'United States, United Kingdom, Australia, Canada',\n",
       "       'United States, France',\n",
       "       'United States, Angola, Botswana, Namibia, South Africa',\n",
       "       'Canada, United States, United Kingdom, France, Luxembourg',\n",
       "       'Australia, United States', 'United States, Denmark',\n",
       "       'Denmark, China', 'United States, Guatemala',\n",
       "       'United States, South Korea, Singapore, Russia, Malaysia, Kazakhstan, Taiwan, Hong Kong, Japan, China, India, Syria, Iran, Egypt, Pakistan',\n",
       "       'United States, Canada, Australia',\n",
       "       'United States, South Korea, China, Taiwan',\n",
       "       'United States, Taiwan, China', 'United States, New Zealand',\n",
       "       'Canada, Malaysia, United States',\n",
       "       'United States, India, United Kingdom',\n",
       "       'Norway, Sweden, United States', 'France, Canada, United States',\n",
       "       'United States, Poland, Slovenia, Czech Republic, United Kingdom',\n",
       "       'United States, Canada, Australia, Taiwan',\n",
       "       'China, Hong Kong, United States',\n",
       "       'Austria, United Kingdom, United States', 'China', 'Germany',\n",
       "       'New Zealand, United States',\n",
       "       'United States, Spain, France, Canada, United Kingdom',\n",
       "       'United Kingdom, Germany, United States'], dtype=object)"
      ]
     },
     "execution_count": 22,
     "metadata": {},
     "output_type": "execute_result"
    }
   ],
   "source": [
    "disney_df['country'].unique()"
   ]
  },
  {
   "cell_type": "markdown",
   "metadata": {},
   "source": [
    "is_valid_country() - Methode bei Netflix erstellt"
   ]
  },
  {
   "cell_type": "code",
   "execution_count": 23,
   "metadata": {},
   "outputs": [
    {
     "name": "stdout",
     "output_type": "stream",
     "text": [
      "Nicht plasible Länder\n",
      "0       [nan]\n",
      "1       [nan]\n",
      "3       [nan]\n",
      "4       [nan]\n",
      "6       [nan]\n",
      "        ...  \n",
      "1136    [nan]\n",
      "1204    [nan]\n",
      "1210    [nan]\n",
      "1259    [nan]\n",
      "1388    [nan]\n",
      "Name: country, Length: 219, dtype: object\n"
     ]
    }
   ],
   "source": [
    "d_invalid_countries = disney_df['country'].apply(lambda x: [country.strip() for country in str(x).split(',') if country.strip() != 'unknown' and not is_valid_country(country.strip())])\n",
    "\n",
    "print('Nicht plasible Länder')\n",
    "if len(d_invalid_countries[d_invalid_countries.apply(len) > 0]) == 0:\n",
    "    print('Alle Länder sind plausibel')\n",
    "else:\n",
    "    print(d_invalid_countries[d_invalid_countries.apply(len) > 0])\n"
   ]
  },
  {
   "cell_type": "markdown",
   "metadata": {},
   "source": [
    "-> Wird später gecleant und anschließend wieder untersucht\n",
    "\n",
    "#### <a id='toc4_3_4_5_'></a>[e) Disney+ Genres](#toc0_)\n",
    "\n",
    "Beobachtung:\n",
    "- Viele Genres die nur einen einzigen Film haben.\n",
    "- Es gibt zu viele Genres.\n",
    "- Es gibt keine falsche Einträge."
   ]
  },
  {
   "cell_type": "code",
   "execution_count": 24,
   "metadata": {},
   "outputs": [
    {
     "name": "stdout",
     "output_type": "stream",
     "text": [
      "['Animation' 'Family' 'Comedy' 'Musical' 'Docuseries' 'Historical' 'Music'\n",
      " 'Biographical' 'Documentary' 'Action-Adventure' 'Superhero' 'Reality'\n",
      " 'Survival' 'Animals & Nature' 'Kids' 'Coming of Age' 'Drama' 'Fantasy'\n",
      " 'Lifestyle' 'Movies' 'Science Fiction' 'Concert Film' 'Crime' 'Sports'\n",
      " 'Anthology' 'Medical' 'Variety' 'Spy/Espionage' 'Buddy' 'Parody'\n",
      " 'Game Show / Competition' 'Romance' 'Anime' 'Romantic Comedy' 'Thriller'\n",
      " 'Police/Cop' 'Talk Show' 'Western' 'Dance' 'Series' 'Mystery'\n",
      " 'Soap Opera / Melodrama' 'Disaster' 'Travel']\n"
     ]
    }
   ],
   "source": [
    "disney_df_copy_1 = disney_df.copy()\n",
    "disney_df_copy_1['listed_in'] = disney_df_copy_1['listed_in'].str.split(',')\n",
    "disney_df_copy_1['listed_in'] = disney_df_copy_1['listed_in'].apply(lambda x: [genre.strip() for genre in x])\n",
    "disney_df_genres = disney_df_copy_1.explode('listed_in')\n",
    "disney_df_genres['listed_in'] = disney_df_genres['listed_in'].str.strip()\n",
    "unique_genres = disney_df_genres['listed_in'].unique()\n",
    "print(unique_genres)"
   ]
  },
  {
   "cell_type": "code",
   "execution_count": 25,
   "metadata": {},
   "outputs": [
    {
     "name": "stdout",
     "output_type": "stream",
     "text": [
      "listed_in\n",
      "Family                     632\n",
      "Animation                  542\n",
      "Comedy                     526\n",
      "Action-Adventure           452\n",
      "Animals & Nature           208\n",
      "Coming of Age              205\n",
      "Fantasy                    192\n",
      "Documentary                174\n",
      "Kids                       141\n",
      "Drama                      134\n",
      "Docuseries                 122\n",
      "Science Fiction             91\n",
      "Historical                  53\n",
      "Music                       48\n",
      "Musical                     44\n",
      "Sports                      43\n",
      "Biographical                41\n",
      "Buddy                       40\n",
      "Anthology                   28\n",
      "Reality                     26\n",
      "Romance                     20\n",
      "Superhero                   19\n",
      "Crime                       16\n",
      "Variety                     12\n",
      "Mystery                     12\n",
      "Game Show / Competition     10\n",
      "Survival                     9\n",
      "Parody                       9\n",
      "Lifestyle                    8\n",
      "Western                      7\n",
      "Concert Film                 7\n",
      "Medical                      6\n",
      "Dance                        6\n",
      "Thriller                     5\n",
      "Anime                        4\n",
      "Movies                       3\n",
      "Spy/Espionage                3\n",
      "Series                       3\n",
      "Disaster                     2\n",
      "Romantic Comedy              2\n",
      "Soap Opera / Melodrama       2\n",
      "Police/Cop                   1\n",
      "Talk Show                    1\n",
      "Travel                       1\n",
      "Name: count, dtype: int64\n"
     ]
    }
   ],
   "source": [
    "disney_movies_per_genres = disney_df_genres['listed_in'].value_counts()\n",
    "print(disney_movies_per_genres) "
   ]
  },
  {
   "cell_type": "markdown",
   "metadata": {},
   "source": [
    "#### <a id='toc4_3_4_6_'></a>[f) Disney+ Regisseure](#toc0_)\n",
    "\n",
    "Beobachtung:\n",
    "- Es gibt keine falsche Einträge."
   ]
  },
  {
   "cell_type": "code",
   "execution_count": 26,
   "metadata": {},
   "outputs": [
    {
     "name": "stdout",
     "output_type": "stream",
     "text": [
      "['Alonso Ramirez Ramos' 'Dave Wasson' 'John Cherry' 'Karen Disher'\n",
      " 'Hamish Hamilton' nan 'Liz Garbus' 'Kirk R. Thatcher' 'John Gleim'\n",
      " 'Leslie Iwerks' 'McKenna Harris' 'Kevin Lima' 'Patrick Osborne'\n",
      " 'Chris Buck' 'Jennifer Lee' 'Lauren MacMullan' 'Dan Mazer'\n",
      " 'Jaume Collet-Serra' 'John Kahrs' 'Destin Daniel Cretton'\n",
      " 'Manjari Makijany' 'Nathan Greno' 'Byron Howard' 'Stevie Wermers-Skelton'\n",
      " 'Kevin Deters' 'Roger Allers' 'David Clair' 'David Silverman'\n",
      " 'Dean Wellins' 'Mike Mitchell' 'Brian Levant' 'Alex Zamm' 'Robert Vince'\n",
      " 'Matthew Vaughn' 'Niki Caro' 'Daniel Stern' 'Don Bluth' 'Gary Goldman'\n",
      " 'Jim Greayer' 'Ben Crichton' 'Jeff Gordon' 'Kirk Thatcher' 'Dave Hoffman'\n",
      " 'Cate Shortland' 'John Hoffman' 'Janet Tobias' 'Tim Hill' 'Walt Becker'\n",
      " 'Ken Cunningham' 'Robert Stromberg' 'Eddie Trigueros' 'Jason Sterman'\n",
      " 'Leanne Dare' 'Josh Boone' 'P.J. Hogan' 'Salvador Simó' 'Jay Hatcher'\n",
      " 'Katie Bauer Murdock' 'Louis Gonzales' 'Rob Marshall' 'Aphton Corbin'\n",
      " 'Robert Rodriguez' 'Simon Kinberg' 'Craig Gillespie' 'Peter Hedges'\n",
      " 'Napoleon Dumo' 'Drew Pearce' 'Frederik Du Chau' 'Stefen Fangmeier'\n",
      " 'Tim Story' 'Bryan Singer' 'Lev L. Spiro' 'Chris Columbus' 'Mark J Davis'\n",
      " 'Peter Hewitt' 'Carlos Saldanha' 'Phil Stebbing' 'Kurt Mattila'\n",
      " 'Barry Cook' 'Neil Nightingale' 'Andy Seestedt' 'Cameron Crowe'\n",
      " 'Kevin Bachar' 'Michael Mayer' 'Thomas Astruc' 'Sigmund Spath Jr.'\n",
      " 'Mark Woodward' 'Sally Aitken' 'Jacob Cobi Benattia' 'Pete Berg'\n",
      " 'James Buchanan' 'David Mickey Evans' 'David Gelb' 'Enrico Casarosa'\n",
      " 'Gary Rydstrom' 'Norman Tokar' 'Adam Shankman' 'Don Hall'\n",
      " 'Carlos López Estrada' 'Anthony Hemingway' 'Zach A. Parrish' 'Aqsa Altaf'\n",
      " 'Hao Zheng' 'Ann Marie Pace' 'Stephanie Abel Horowitz'\n",
      " 'Jessica Mendez Siqeiros' 'Moxie Peng' 'Steve Loter' 'Brett Ratner'\n",
      " 'Steve Miner' 'Kevin Nolting' 'Kentaro Takayanagi' 'Fred Zinnemann'\n",
      " 'Patrick Read Johnson' 'Tom Jennings' 'Joe Cornish' 'Ken Olin'\n",
      " 'Doug Shultz' 'James Orr' 'Daniel Petrie' 'Xavier Koller' 'John Korty'\n",
      " 'Jim Wheat' 'Ken Wheat' 'Robert Stevenson' 'Shawn Levy' 'David Frankel'\n",
      " 'Scott Ressler' 'Ken Annakin' 'Kelly Asbury' 'Chris Hamilton'\n",
      " 'Tim Burton' 'Cristina Costantini' 'Darren Foster' 'Jeff Gipson'\n",
      " 'Dereck Joubert' 'Beverly Joubert' 'Lena Khan' 'Jorge R. Gutiérrez'\n",
      " 'Robert Iscove' 'Andy Fickman' 'Joe Nussbaum' 'Natalie Hewit'\n",
      " 'Harald Pokieser' 'Wes Anderson' 'Steve Purcell' 'Luc Marescot'\n",
      " 'Jimmy Hayward' 'Steve Martino' 'Brandon Hill' 'Marc Ostrick'\n",
      " 'Madeline Sharafian' 'Pete Docter' 'Michal Makarewicz' 'Rich Moore'\n",
      " 'Phil Johnston' 'Reginald Hudlin' 'Sharon Maguire' 'Lasse Hallström'\n",
      " 'Joe Johnston' 'Miguel Arteta' 'Ashley Avis' 'Angela Affinita'\n",
      " 'Klay Hall' 'Bobs Gannaway' 'Raja Gosnell' 'Thierry Fessard'\n",
      " 'Yohann Thiriet' 'Peter Yost' 'Robert Zemeckis' 'Stanley Tong'\n",
      " 'Trevor Moore' 'Jon Turteltaub' 'Dan Abraham' 'Trent Correy' 'Ben Finney'\n",
      " 'Angus MacLane' 'Justin Baldoni' 'Renan Ozturk' 'Leo Riley'\n",
      " 'Michael Apted' 'Christian Baumeister' 'Stephen Herek' 'Jacques Perrin'\n",
      " 'Jacques Cluzaud' 'Theodore Melfi' 'Moritz Katz' 'Andy Tennant'\n",
      " 'Mark Monroe' 'Fabrice Gardel' 'Simon Kessler' 'Josselin Mahot'\n",
      " 'Marc Forster' 'Sam Weisman' 'Robert Lieberman' 'Jack Hannah'\n",
      " 'James Bobin' 'Bill Condon' 'Martin Johnson' 'Thea Sharrock' 'Paul Hoen'\n",
      " 'Mark Waters' 'Peyton Reed' 'Michael Gracey' 'Don Hahn' 'Mike Newell'\n",
      " 'Ben Wallis' 'Emma Fraser' 'Jess Tombs' 'Jeremy Turner'\n",
      " 'Beyoncé Knowles-Carter' 'Tim Conrad' 'Dan Oliver' 'Brad Bird'\n",
      " 'Jim Aikman' 'Sophie Harris' 'Joachim Rønning' 'Espen Sandberg'\n",
      " 'Wilfred Jackson' 'David Bowers' 'John Tracy' 'Ron Howard' 'Thomas Kail'\n",
      " 'Mike Thurmeier' 'Holly Sloan' 'Ward Kimball' 'Anthony Russo' 'Joe Russo'\n",
      " 'Brian Smith' 'Ben Allen' 'Tom Jenner' 'Jon Favreau' 'Peggy Holmes'\n",
      " 'Frank Marshall' 'Rob Minkoff' 'Kenneth Branagh' 'Hamilton Luske'\n",
      " 'William Beaudine' 'Theodore Thomas' 'Kenny Scott' 'Charles Nichols'\n",
      " 'James Neilson' 'Gene Kelly' 'Steven Hunter' 'Jeffrey Sherman'\n",
      " 'Gregory Sherman' 'J.J. Abrams' 'Andrew Stanton' 'Oz Scott' 'David Ellis'\n",
      " 'Duwayne Dunham' 'Jack Kinney' 'James Algar' 'Rob Reiner'\n",
      " 'Ben Sharpsteen' 'Liliana Olszewski' 'Elizabeth Leiter'\n",
      " 'Kimberly Woodard' 'Ron de Moraes' 'Jack Speirs' 'Alastair Fothergill'\n",
      " 'Jeff Wilson' 'Keith Scholey' 'Jack King' 'Mark Linfield' 'Wilfred Jaxon'\n",
      " 'Vanessa Berlowitz' 'Dan Scanlon' 'Milt Schaffer' 'Dick Lundy'\n",
      " 'Gary Nelson' 'David Lynch' 'Simon Wells' 'Julie Robinson' 'Ava DuVernay'\n",
      " 'Hoyt Yeatman IV' 'Julia Hart' 'William Dear' 'Ryan Coogler'\n",
      " 'Stuart Strickson' 'Chris Rutkowski' 'Sol Choi' 'Wayne Wang'\n",
      " 'Tom McCarthy' 'Josh Cooley' 'Kenny Ortega' 'Frank Coraci' 'Jim Abrahams'\n",
      " 'Valerie LaPointe' 'Monfery Dominique' 'Bob Peterson' 'Erica Milsom'\n",
      " 'Guy Ritchie' 'John Lasseter' 'Rob Gibbs' 'Jeremy Lasky' 'Wayne Abbott'\n",
      " 'Jobim Sampson' 'Crispin Sadler' 'Mike Slee' 'Larry Lansburgh'\n",
      " 'Andrew Davis' 'Zak Knutson' 'Rian Johnson' 'David Grossman'\n",
      " 'Clayton Cogswell' 'Ericson Core' 'Edwin Chang' 'Taika Waititi'\n",
      " 'Fritz Mitchell' 'Chad Cohen' 'James Gartner' 'Lee Unkrich' 'Gil Junger'\n",
      " 'Wolfgang Reitherman' 'Clyde Geronimi' 'Jim Kammerud' 'James Hayman'\n",
      " 'Richard Fleischer' 'Michael Gottlieb' 'Greg Beeman' 'Ron Clements'\n",
      " 'John Musker' 'Tad Stones' 'Toby Shelton' 'Alan Zaslove' 'James Cameron'\n",
      " 'Steven Quale' 'Rod Daniel' 'Steve Previn' 'Louie Schwartzberg'\n",
      " 'Vincent McEveety' 'Douglas McCarthy' 'Simcha Jacobovici' 'Victor Cook'\n",
      " 'Gary Trousdale' 'Kirk Wise' 'Ted Mathot' 'Burt Gillett' 'Jack Donohue'\n",
      " 'David Hand' 'Brian Pimental' 'Domee Shi' 'Bob Kline' 'Andy Knight'\n",
      " 'Fisher Stevens' 'Joe Camp' 'Chris Williams' 'Jenny Kubo'\n",
      " 'Rupert Wainwright' 'Bud Luckey' 'Mark Andrews' 'Brenda Chapman'\n",
      " 'Robert Ramirez' 'Martin Roe' 'Aaron Blaise' 'Robert Walker'\n",
      " 'Benjamin Gluck' 'David Jackson' 'Larry Shaw' 'Jonathan Prince'\n",
      " 'Matthew Diamond' 'Paul Schneider' 'Brian Fee' 'Scott Morse' 'Wes Craven'\n",
      " 'Jeff Blyth' 'Mark Dindal' 'John Kafka' 'Frank Nissen' 'Roger Kumble'\n",
      " 'Sara Sugarman' 'Francine McDougall' 'Norman Foster' 'Teddy Newton'\n",
      " 'Andy Byatt' 'Thor Freudenthal' 'Ralph Zondag' 'Eric Leighton'\n",
      " 'John Schultz' 'Stuart Gillard' 'Érik Canuel' 'Mark Taylor'\n",
      " 'Hasraf Dulull' 'Chris Wilson' 'Lu Chuan' 'Matthew Aeberhard'\n",
      " 'Leander Ward' 'Kenneth Johnson' 'Maurice Joyce' 'Bob Hathcock'\n",
      " 'Ronnie Del Carmen' 'Glenn Weiss' 'Geoff Luck' 'Peter Tewksbury'\n",
      " 'Edith Becker' 'Kevin Burns' 'John Hough' 'Mark Davis' 'Samuel Armstrong'\n",
      " 'Bill Roberts' 'Pixote Hunt' 'Hendel Butoy' 'Eric Goldberg'\n",
      " 'Dick Rickard' 'David Evans' 'Randal Kleiser' 'Bobby Rubio'\n",
      " 'Les Mayfield' 'Ralph Eggleston' 'Elizabeth Vasarhelyi' 'Jimmy Chin'\n",
      " 'Daisy Mayer' 'W. Roberts' 'Mick Garris' 'Jeffrey Hornaday' 'Jan Pinkava'\n",
      " 'Maggie Greenwald' 'Ken Corben' 'Arlene Sanford' 'Ramon Menendez'\n",
      " 'C. Nichols' 'Don Chaffey' 'Mark Dippé' 'Mary Lambert' 'Bruce Hendricks'\n",
      " 'Peter Chelsom' 'Steven Brill' 'Will Finn' 'John Sanford' 'Dean Cundey'\n",
      " 'Neal Israel' 'Ricardo Curtis' 'Tim Fywell' 'Leo Matsuda' 'David Kellogg'\n",
      " 'Pete McBride' 'Neil Gelinas' 'Charles Haid' 'Francis Coppola'\n",
      " 'Henry Selick' 'Brett Morgen' 'Eric Bross' 'Steve Boyum' 'Henry Levin'\n",
      " 'Michael Lange' 'John Pasquin' 'Paul Glaser' 'Adam Stein' 'Zach Lipovsky'\n",
      " 'Rosana Sullivan' 'Elliot Bour' 'Saul Blinkoff' 'Charlie Bean'\n",
      " 'James Murphy' 'Michael Hegner' 'Patricia Riggen' 'Roberts Gannaway'\n",
      " 'Tony Craig' 'James Lapine' 'Steven Tsuchida' 'Christopher Sanders'\n",
      " 'Dean DeBlois' 'Tony Leondis' 'Michael LaBash' 'Dave Mullins'\n",
      " 'Julia Reagan' 'Alfred Gimeno' 'Joss Whedon' 'Anna Boden' 'Ryan Fleck'\n",
      " 'Scott Derrickson' 'James Gunn' 'Shane Black' 'Alan Taylor'\n",
      " 'Stephen Anderson' 'Donovan Cook' 'Riley Thomson' 'Burny Mattinson'\n",
      " 'Bradley Raymond' 'Jun Falkenstein' 'Bill Speers' 'Walt Disney'\n",
      " \"Matthew O'Callaghan\" 'Ron Underwood' 'Roger Gould' 'Lev Spiro'\n",
      " \"Gavin O'Connor\" 'Ken Cameron' 'Daniel Smith' 'Stephen Boyum'\n",
      " 'Darrell Rooney' 'Lynne Southerland' 'Brian Henson' 'Donald Petrie'\n",
      " 'Jeff Calhoun' 'Brett Sullivan' 'Marc Lawrence' 'George Scribner'\n",
      " 'Kathleen Marshall' 'Phillip Borsos' 'Andrew Jimenez' 'Simon Wincer'\n",
      " 'Sidney Beaumont' 'Michael Bonfiglio' 'Peter Sohn' 'Kelsey Mann'\n",
      " 'N. Paul Kenworthy' 'Ralph Wright' 'David Lowery' 'Robin Budd'\n",
      " 'Blair Treu' 'Dan Povenmire' 'Robert Hughes' 'Sue Perrotto'\n",
      " 'Francis Glebas' 'Alan Barillaro' 'Gore Verbinski' 'Mike Gabriel'\n",
      " 'Tom Ellery' 'David Swift' 'Karl Geurs' 'Doug Sweetland'\n",
      " 'Allison Liddi-Brown' 'Kristen Lester' 'Mira Nair' 'Bill Corcoran'\n",
      " 'Howy Parkins' 'Chuck Sheetz' 'Boaz Yakin' 'Walter Murch'\n",
      " 'John Murlowski' 'Joyce Chopra' 'Gareth Edwards' 'George Butler'\n",
      " 'Euzhan Palcy' 'Jon Long' 'Ham Luske' 'Sanjay Patel' 'John Hancock'\n",
      " 'Robert Nixon' 'Randall Wallace' 'Bob Strange' 'Michael Lembeck'\n",
      " 'Nils Gaup' 'Emile Ardolino' 'Bill Duke' 'Ralph Hemecker' 'LeVar Burton'\n",
      " 'Brian Larsen' 'Ron Lagomarsino' 'George Lucas' 'Richard Marquand'\n",
      " 'Irvin Kershner' 'Michael Grossman' 'Ub Iwerks' 'Christopher Spencer'\n",
      " 'Savage Holland' 'Ed Abroms' 'Edward Ludwig' 'Jeremiah Chechik'\n",
      " 'Tom Caulfield' 'Stephen Sandoval' 'Timothy Björklund' 'Bob Spiers'\n",
      " 'Alvy Smith' 'Stephen Sommers' 'Bernard McEveety' 'Ted Berman'\n",
      " 'Richard Rich' 'Saschka Unseld' 'Alan Shapiro' 'Andrew Adamson'\n",
      " 'Kevin Hooks' 'Robert Butler' 'Peter Hastings' 'Sean McNamara'\n",
      " 'Brad Bestelink' 'Art Stevens' 'Bruce Bilson' 'Jim Henson' 'Bill Paxton'\n",
      " 'Fletcher Markle' 'Jeremy Kagan' 'Steve Trenbirth' 'Nick Marck'\n",
      " 'Riley Thomas' 'Jim Fall' 'Duncan Singh' 'John Lounsbery' 'James Frawley'\n",
      " 'Nancy Meyers' 'Garry Marshall' 'Bruce Smith' 'Alfred Werker' '朱家欣' '钟智行'\n",
      " 'Charles Barton' 'Lewis Foster' 'Robert Wise' 'Jay Karas'\n",
      " 'Norman Ferguson' 'Jack Cutting' 'Steve Williams' 'Victor Gonzalez'\n",
      " 'Dave Hand' 'Michael Switzer' 'Leonard Nimoy' 'Thomas Grane' 'Mark Walsh'\n",
      " 'Zhong Yu' 'Byron Haskin' 'Steven Lisberger' 'Jay Russell' 'Nick Castle'\n",
      " 'Russ Mayberry' 'Robert Townsend' 'Gary Chapman' 'John Laing'\n",
      " 'Molly Hermann' 'Ed Wexler' 'Gary Katona' 'Jamie Mitchell' 'Bert Gillett'\n",
      " 'Charles Draper' 'Jim Capobianco' 'Peter DeLuise' 'Manny Coto'\n",
      " 'Steve Rash' 'Hollingsworth Morse' 'Dave Michener'\n",
      " 'Elizabeth Allen Rosenbaum' 'Gavin Hood' 'Dexter Fletcher'\n",
      " 'Gurinder Chadha' 'Mark Waring']\n"
     ]
    }
   ],
   "source": [
    "disney_df_copy_2 = disney_df.copy()\n",
    "disney_df_copy_2['director'] = disney_df_copy_2['director'].str.split(',')\n",
    "disney_df_copy_2['director'] = disney_df_copy_2['director'].apply(lambda x: [director.strip() for director in x] if isinstance(x, list) else x)\n",
    "disney_df_directors = disney_df_copy_2.explode('director')\n",
    "\n",
    "unique_directors = disney_df_directors['director'].unique()\n",
    "print(unique_directors)"
   ]
  },
  {
   "cell_type": "markdown",
   "metadata": {},
   "source": [
    "### <a id='toc4_3_5_'></a>[Grafik 3 - Top 10 Genres je Platform](#toc0_)"
   ]
  },
  {
   "cell_type": "code",
   "execution_count": 27,
   "metadata": {},
   "outputs": [
    {
     "data": {
      "application/vnd.plotly.v1+json": {
       "config": {
        "plotlyServerURL": "https://plot.ly"
       },
       "data": [
        {
         "marker": {
          "color": {
           "bdata": "eAIeAg4CxAHQAM0AwACuAI0AhgA=",
           "dtype": "i2"
          },
          "colorscale": [
           [
            0,
            "#BFF5FD"
           ],
           [
            1,
            "#142864"
           ]
          ]
         },
         "showlegend": false,
         "type": "bar",
         "x": [
          "Family",
          "Animation",
          "Comedy",
          "Action-Adventure",
          "Animals & Nature",
          "Coming of Age",
          "Fantasy",
          "Documentary",
          "Kids",
          "Drama"
         ],
         "xaxis": "x",
         "y": {
          "bdata": "eAIeAg4CxAHQAM0AwACuAI0AhgA=",
          "dtype": "i2"
         },
         "yaxis": "y"
        },
        {
         "marker": {
          "color": {
           "bdata": "wAp7CYoGRwVlA1sD+wL0AoECaAI=",
           "dtype": "i2"
          },
          "colorscale": [
           [
            0,
            "#E50914"
           ],
           [
            1,
            "#141414"
           ]
          ]
         },
         "showlegend": false,
         "type": "bar",
         "x": [
          "International Movies",
          "Dramas",
          "Comedies",
          "International TV Shows",
          "Documentaries",
          "Action & Adventure",
          "TV Dramas",
          "Independent Movies",
          "Children & Family Movies",
          "Romantic Movies"
         ],
         "xaxis": "x2",
         "y": {
          "bdata": "wAp7CYoGRwVlA1sD+wL0AoECaAI=",
          "dtype": "i2"
         },
         "yaxis": "y2"
        }
       ],
       "layout": {
        "annotations": [
         {
          "font": {
           "color": "#BFF5FD",
           "family": "cursive",
           "size": 25
          },
          "showarrow": false,
          "text": "<b>Disney+</b>",
          "x": 0.22,
          "xanchor": "center",
          "xref": "paper",
          "y": 0.95,
          "yanchor": "bottom",
          "yref": "paper"
         },
         {
          "font": {
           "color": "#E50914",
           "family": "Open Sans",
           "size": 25
          },
          "showarrow": false,
          "text": "<b>Netflix</b>",
          "x": 0.78,
          "xanchor": "center",
          "xref": "paper",
          "y": 0.95,
          "yanchor": "bottom",
          "yref": "paper"
         }
        ],
        "font": {
         "color": "white",
         "family": "cursive",
         "size": 18
        },
        "paper_bgcolor": "rgba(0, 0, 0, 1)",
        "plot_bgcolor": "rgba(0, 0, 0, 1)",
        "template": {
         "data": {
          "bar": [
           {
            "error_x": {
             "color": "#2a3f5f"
            },
            "error_y": {
             "color": "#2a3f5f"
            },
            "marker": {
             "line": {
              "color": "#E5ECF6",
              "width": 0.5
             },
             "pattern": {
              "fillmode": "overlay",
              "size": 10,
              "solidity": 0.2
             }
            },
            "type": "bar"
           }
          ],
          "barpolar": [
           {
            "marker": {
             "line": {
              "color": "#E5ECF6",
              "width": 0.5
             },
             "pattern": {
              "fillmode": "overlay",
              "size": 10,
              "solidity": 0.2
             }
            },
            "type": "barpolar"
           }
          ],
          "carpet": [
           {
            "aaxis": {
             "endlinecolor": "#2a3f5f",
             "gridcolor": "white",
             "linecolor": "white",
             "minorgridcolor": "white",
             "startlinecolor": "#2a3f5f"
            },
            "baxis": {
             "endlinecolor": "#2a3f5f",
             "gridcolor": "white",
             "linecolor": "white",
             "minorgridcolor": "white",
             "startlinecolor": "#2a3f5f"
            },
            "type": "carpet"
           }
          ],
          "choropleth": [
           {
            "colorbar": {
             "outlinewidth": 0,
             "ticks": ""
            },
            "type": "choropleth"
           }
          ],
          "contour": [
           {
            "colorbar": {
             "outlinewidth": 0,
             "ticks": ""
            },
            "colorscale": [
             [
              0,
              "#0d0887"
             ],
             [
              0.1111111111111111,
              "#46039f"
             ],
             [
              0.2222222222222222,
              "#7201a8"
             ],
             [
              0.3333333333333333,
              "#9c179e"
             ],
             [
              0.4444444444444444,
              "#bd3786"
             ],
             [
              0.5555555555555556,
              "#d8576b"
             ],
             [
              0.6666666666666666,
              "#ed7953"
             ],
             [
              0.7777777777777778,
              "#fb9f3a"
             ],
             [
              0.8888888888888888,
              "#fdca26"
             ],
             [
              1,
              "#f0f921"
             ]
            ],
            "type": "contour"
           }
          ],
          "contourcarpet": [
           {
            "colorbar": {
             "outlinewidth": 0,
             "ticks": ""
            },
            "type": "contourcarpet"
           }
          ],
          "heatmap": [
           {
            "colorbar": {
             "outlinewidth": 0,
             "ticks": ""
            },
            "colorscale": [
             [
              0,
              "#0d0887"
             ],
             [
              0.1111111111111111,
              "#46039f"
             ],
             [
              0.2222222222222222,
              "#7201a8"
             ],
             [
              0.3333333333333333,
              "#9c179e"
             ],
             [
              0.4444444444444444,
              "#bd3786"
             ],
             [
              0.5555555555555556,
              "#d8576b"
             ],
             [
              0.6666666666666666,
              "#ed7953"
             ],
             [
              0.7777777777777778,
              "#fb9f3a"
             ],
             [
              0.8888888888888888,
              "#fdca26"
             ],
             [
              1,
              "#f0f921"
             ]
            ],
            "type": "heatmap"
           }
          ],
          "histogram": [
           {
            "marker": {
             "pattern": {
              "fillmode": "overlay",
              "size": 10,
              "solidity": 0.2
             }
            },
            "type": "histogram"
           }
          ],
          "histogram2d": [
           {
            "colorbar": {
             "outlinewidth": 0,
             "ticks": ""
            },
            "colorscale": [
             [
              0,
              "#0d0887"
             ],
             [
              0.1111111111111111,
              "#46039f"
             ],
             [
              0.2222222222222222,
              "#7201a8"
             ],
             [
              0.3333333333333333,
              "#9c179e"
             ],
             [
              0.4444444444444444,
              "#bd3786"
             ],
             [
              0.5555555555555556,
              "#d8576b"
             ],
             [
              0.6666666666666666,
              "#ed7953"
             ],
             [
              0.7777777777777778,
              "#fb9f3a"
             ],
             [
              0.8888888888888888,
              "#fdca26"
             ],
             [
              1,
              "#f0f921"
             ]
            ],
            "type": "histogram2d"
           }
          ],
          "histogram2dcontour": [
           {
            "colorbar": {
             "outlinewidth": 0,
             "ticks": ""
            },
            "colorscale": [
             [
              0,
              "#0d0887"
             ],
             [
              0.1111111111111111,
              "#46039f"
             ],
             [
              0.2222222222222222,
              "#7201a8"
             ],
             [
              0.3333333333333333,
              "#9c179e"
             ],
             [
              0.4444444444444444,
              "#bd3786"
             ],
             [
              0.5555555555555556,
              "#d8576b"
             ],
             [
              0.6666666666666666,
              "#ed7953"
             ],
             [
              0.7777777777777778,
              "#fb9f3a"
             ],
             [
              0.8888888888888888,
              "#fdca26"
             ],
             [
              1,
              "#f0f921"
             ]
            ],
            "type": "histogram2dcontour"
           }
          ],
          "mesh3d": [
           {
            "colorbar": {
             "outlinewidth": 0,
             "ticks": ""
            },
            "type": "mesh3d"
           }
          ],
          "parcoords": [
           {
            "line": {
             "colorbar": {
              "outlinewidth": 0,
              "ticks": ""
             }
            },
            "type": "parcoords"
           }
          ],
          "pie": [
           {
            "automargin": true,
            "type": "pie"
           }
          ],
          "scatter": [
           {
            "fillpattern": {
             "fillmode": "overlay",
             "size": 10,
             "solidity": 0.2
            },
            "type": "scatter"
           }
          ],
          "scatter3d": [
           {
            "line": {
             "colorbar": {
              "outlinewidth": 0,
              "ticks": ""
             }
            },
            "marker": {
             "colorbar": {
              "outlinewidth": 0,
              "ticks": ""
             }
            },
            "type": "scatter3d"
           }
          ],
          "scattercarpet": [
           {
            "marker": {
             "colorbar": {
              "outlinewidth": 0,
              "ticks": ""
             }
            },
            "type": "scattercarpet"
           }
          ],
          "scattergeo": [
           {
            "marker": {
             "colorbar": {
              "outlinewidth": 0,
              "ticks": ""
             }
            },
            "type": "scattergeo"
           }
          ],
          "scattergl": [
           {
            "marker": {
             "colorbar": {
              "outlinewidth": 0,
              "ticks": ""
             }
            },
            "type": "scattergl"
           }
          ],
          "scattermap": [
           {
            "marker": {
             "colorbar": {
              "outlinewidth": 0,
              "ticks": ""
             }
            },
            "type": "scattermap"
           }
          ],
          "scattermapbox": [
           {
            "marker": {
             "colorbar": {
              "outlinewidth": 0,
              "ticks": ""
             }
            },
            "type": "scattermapbox"
           }
          ],
          "scatterpolar": [
           {
            "marker": {
             "colorbar": {
              "outlinewidth": 0,
              "ticks": ""
             }
            },
            "type": "scatterpolar"
           }
          ],
          "scatterpolargl": [
           {
            "marker": {
             "colorbar": {
              "outlinewidth": 0,
              "ticks": ""
             }
            },
            "type": "scatterpolargl"
           }
          ],
          "scatterternary": [
           {
            "marker": {
             "colorbar": {
              "outlinewidth": 0,
              "ticks": ""
             }
            },
            "type": "scatterternary"
           }
          ],
          "surface": [
           {
            "colorbar": {
             "outlinewidth": 0,
             "ticks": ""
            },
            "colorscale": [
             [
              0,
              "#0d0887"
             ],
             [
              0.1111111111111111,
              "#46039f"
             ],
             [
              0.2222222222222222,
              "#7201a8"
             ],
             [
              0.3333333333333333,
              "#9c179e"
             ],
             [
              0.4444444444444444,
              "#bd3786"
             ],
             [
              0.5555555555555556,
              "#d8576b"
             ],
             [
              0.6666666666666666,
              "#ed7953"
             ],
             [
              0.7777777777777778,
              "#fb9f3a"
             ],
             [
              0.8888888888888888,
              "#fdca26"
             ],
             [
              1,
              "#f0f921"
             ]
            ],
            "type": "surface"
           }
          ],
          "table": [
           {
            "cells": {
             "fill": {
              "color": "#EBF0F8"
             },
             "line": {
              "color": "white"
             }
            },
            "header": {
             "fill": {
              "color": "#C8D4E3"
             },
             "line": {
              "color": "white"
             }
            },
            "type": "table"
           }
          ]
         },
         "layout": {
          "annotationdefaults": {
           "arrowcolor": "#2a3f5f",
           "arrowhead": 0,
           "arrowwidth": 1
          },
          "autotypenumbers": "strict",
          "coloraxis": {
           "colorbar": {
            "outlinewidth": 0,
            "ticks": ""
           }
          },
          "colorscale": {
           "diverging": [
            [
             0,
             "#8e0152"
            ],
            [
             0.1,
             "#c51b7d"
            ],
            [
             0.2,
             "#de77ae"
            ],
            [
             0.3,
             "#f1b6da"
            ],
            [
             0.4,
             "#fde0ef"
            ],
            [
             0.5,
             "#f7f7f7"
            ],
            [
             0.6,
             "#e6f5d0"
            ],
            [
             0.7,
             "#b8e186"
            ],
            [
             0.8,
             "#7fbc41"
            ],
            [
             0.9,
             "#4d9221"
            ],
            [
             1,
             "#276419"
            ]
           ],
           "sequential": [
            [
             0,
             "#0d0887"
            ],
            [
             0.1111111111111111,
             "#46039f"
            ],
            [
             0.2222222222222222,
             "#7201a8"
            ],
            [
             0.3333333333333333,
             "#9c179e"
            ],
            [
             0.4444444444444444,
             "#bd3786"
            ],
            [
             0.5555555555555556,
             "#d8576b"
            ],
            [
             0.6666666666666666,
             "#ed7953"
            ],
            [
             0.7777777777777778,
             "#fb9f3a"
            ],
            [
             0.8888888888888888,
             "#fdca26"
            ],
            [
             1,
             "#f0f921"
            ]
           ],
           "sequentialminus": [
            [
             0,
             "#0d0887"
            ],
            [
             0.1111111111111111,
             "#46039f"
            ],
            [
             0.2222222222222222,
             "#7201a8"
            ],
            [
             0.3333333333333333,
             "#9c179e"
            ],
            [
             0.4444444444444444,
             "#bd3786"
            ],
            [
             0.5555555555555556,
             "#d8576b"
            ],
            [
             0.6666666666666666,
             "#ed7953"
            ],
            [
             0.7777777777777778,
             "#fb9f3a"
            ],
            [
             0.8888888888888888,
             "#fdca26"
            ],
            [
             1,
             "#f0f921"
            ]
           ]
          },
          "colorway": [
           "#636efa",
           "#EF553B",
           "#00cc96",
           "#ab63fa",
           "#FFA15A",
           "#19d3f3",
           "#FF6692",
           "#B6E880",
           "#FF97FF",
           "#FECB52"
          ],
          "font": {
           "color": "#2a3f5f"
          },
          "geo": {
           "bgcolor": "white",
           "lakecolor": "white",
           "landcolor": "#E5ECF6",
           "showlakes": true,
           "showland": true,
           "subunitcolor": "white"
          },
          "hoverlabel": {
           "align": "left"
          },
          "hovermode": "closest",
          "mapbox": {
           "style": "light"
          },
          "paper_bgcolor": "white",
          "plot_bgcolor": "#E5ECF6",
          "polar": {
           "angularaxis": {
            "gridcolor": "white",
            "linecolor": "white",
            "ticks": ""
           },
           "bgcolor": "#E5ECF6",
           "radialaxis": {
            "gridcolor": "white",
            "linecolor": "white",
            "ticks": ""
           }
          },
          "scene": {
           "xaxis": {
            "backgroundcolor": "#E5ECF6",
            "gridcolor": "white",
            "gridwidth": 2,
            "linecolor": "white",
            "showbackground": true,
            "ticks": "",
            "zerolinecolor": "white"
           },
           "yaxis": {
            "backgroundcolor": "#E5ECF6",
            "gridcolor": "white",
            "gridwidth": 2,
            "linecolor": "white",
            "showbackground": true,
            "ticks": "",
            "zerolinecolor": "white"
           },
           "zaxis": {
            "backgroundcolor": "#E5ECF6",
            "gridcolor": "white",
            "gridwidth": 2,
            "linecolor": "white",
            "showbackground": true,
            "ticks": "",
            "zerolinecolor": "white"
           }
          },
          "shapedefaults": {
           "line": {
            "color": "#2a3f5f"
           }
          },
          "ternary": {
           "aaxis": {
            "gridcolor": "white",
            "linecolor": "white",
            "ticks": ""
           },
           "baxis": {
            "gridcolor": "white",
            "linecolor": "white",
            "ticks": ""
           },
           "bgcolor": "#E5ECF6",
           "caxis": {
            "gridcolor": "white",
            "linecolor": "white",
            "ticks": ""
           }
          },
          "title": {
           "x": 0.05
          },
          "xaxis": {
           "automargin": true,
           "gridcolor": "white",
           "linecolor": "white",
           "ticks": "",
           "title": {
            "standoff": 15
           },
           "zerolinecolor": "white",
           "zerolinewidth": 2
          },
          "yaxis": {
           "automargin": true,
           "gridcolor": "white",
           "linecolor": "white",
           "ticks": "",
           "title": {
            "standoff": 15
           },
           "zerolinecolor": "white",
           "zerolinewidth": 2
          }
         }
        },
        "title": {
         "text": "<i><b>Top 10 Genres for Disney+ and Netflix</b></i>",
         "x": 0.5
        },
        "xaxis": {
         "anchor": "y",
         "domain": [
          0,
          0.45
         ],
         "tickangle": 45,
         "tickfont": {
          "color": "white",
          "family": "Droid Serif",
          "size": 15
         }
        },
        "xaxis2": {
         "anchor": "y2",
         "domain": [
          0.55,
          1
         ],
         "tickangle": 45,
         "tickfont": {
          "color": "white",
          "family": "Droid Serif",
          "size": 15
         }
        },
        "yaxis": {
         "anchor": "x",
         "domain": [
          0,
          1
         ],
         "tickfont": {
          "color": "white",
          "family": "Droid Serif",
          "size": 15
         },
         "title": {
          "text": "Content Count"
         }
        },
        "yaxis2": {
         "anchor": "x2",
         "domain": [
          0,
          1
         ],
         "tickfont": {
          "color": "white",
          "family": "Droid Serif",
          "size": 15
         },
         "title": {
          "text": "Content Count"
         }
        }
       }
      }
     },
     "metadata": {},
     "output_type": "display_data"
    }
   ],
   "source": [
    "# Disney Genres\n",
    "disney_genres = disney_df['listed_in'].str.split(', ', expand=True).stack()\n",
    "disney_genre_counts = disney_genres.value_counts().head(10)  # Filter the top 10 genres\n",
    "disney_colorscale=[[0, '#BFF5FD'], [1, '#142864']]\n",
    "\n",
    "# Netflix Genres\n",
    "netflix_genres = netflix_df['listed_in'].str.split(', ', expand=True).stack()\n",
    "netflix_genre_counts = netflix_genres.value_counts().head(10)  # Filter the top 10 genres\n",
    "netflix_colorscale=[[0, '#E50914'], [1, '#141414']]\n",
    "\n",
    "# Create subplots\n",
    "fig = make_subplots(rows=1, cols=2, subplot_titles=('Top 10 Disney+ Genres', 'Top 10 Netflix Genres'))\n",
    "\n",
    "# Add Disney+ data to subplot 1\n",
    "fig.add_trace(go.Bar(x=disney_genre_counts.index, y=disney_genre_counts.values,\n",
    "                     marker=dict(color=disney_genre_counts.values, colorscale=disney_colorscale),\n",
    "                     showlegend=False),\n",
    "              row=1, col=1)\n",
    "\n",
    "# Add Netflix data to subplot 2\n",
    "fig.add_trace(go.Bar(x=netflix_genre_counts.index, y=netflix_genre_counts.values,\n",
    "                     marker=dict(color=netflix_genre_counts.values, colorscale=netflix_colorscale),\n",
    "                     showlegend=False),\n",
    "              row=1, col=2)\n",
    "\n",
    "# Update layout\n",
    "fig.update_layout(title='<i><b>Top 10 Genres for Disney+ and Netflix</b></i>',\n",
    "                  title_x=0.5,\n",
    "                  font=dict(family='cursive', size=18, color='white'),\n",
    "                  plot_bgcolor='rgba(0, 0, 0, 1)',  # Black background for Netflix\n",
    "                  paper_bgcolor='rgba(0, 0, 0, 1)',  # Black background for Netflix\n",
    "                  annotations=[dict(x=0.22, y=0.95, xref='paper', yref='paper',  # Disney+ annotation position\n",
    "                                    text='<b>Disney+</b>', showarrow=False,\n",
    "                                    font=dict(family='cursive', size=25, color='#BFF5FD')),\n",
    "                               dict(x=0.78, y=0.95, xref='paper', yref='paper',  # Netflix annotation position\n",
    "                                    text='<b>Netflix</b>', showarrow=False,\n",
    "                                    font=dict(family='Open Sans', size=25, color='#E50914'))])\n",
    "\n",
    "fig.update_xaxes(tickangle=45, tickfont=dict(size=15, family='Droid Serif', color='white'))\n",
    "fig.update_yaxes(tickfont=dict(size=15, family='Droid Serif', color='white'))\n",
    "fig.update_yaxes(\n",
    "    tickfont=dict(size=15, family='Droid Serif', color='white'),\n",
    "    title_text=\"Content Count\"  # ✅ Englisch!\n",
    ")\n",
    "\n",
    "fig.show()\n"
   ]
  },
  {
   "cell_type": "markdown",
   "metadata": {},
   "source": [
    "# <a id='toc5_'></a>[2 Datenaufbereitung](#toc0_)\n",
    "\n",
    "In diesem Abschnitt bereinigen wir die Daten, um sie für die Analyse vorzubereiten.\n",
    "\n",
    "## <a id='toc5_1_'></a>[2.1 Cleaning](#toc0_)\n",
    "\n",
    "### <a id='toc5_1_1_'></a>[2.1.1 Für Beide](#toc0_)\n",
    "\n",
    "1. Leere Zellen in der Spalte: Country, ersetzten mit: unknown\n",
    "2. Spalten die nicht benötigt werden löschen: date_added, release_year, director, cast"
   ]
  },
  {
   "cell_type": "code",
   "execution_count": 28,
   "metadata": {},
   "outputs": [
    {
     "name": "stdout",
     "output_type": "stream",
     "text": [
      "1.\n",
      "Nullwerte pro Spalte: \n",
      "disney_df\n",
      "show_id         0\n",
      "type            0\n",
      "title           0\n",
      "director        0\n",
      "cast            0\n",
      "country         0\n",
      "date_added      3\n",
      "release_year    0\n",
      "rating          3\n",
      "duration        0\n",
      "listed_in       0\n",
      "description     0\n",
      "dtype: int64\n",
      "netflix_df\n",
      "show_id          0\n",
      "type             0\n",
      "title            0\n",
      "director         0\n",
      "cast             0\n",
      "country          0\n",
      "date_added      10\n",
      "release_year     0\n",
      "rating           4\n",
      "duration         3\n",
      "listed_in        0\n",
      "description      0\n",
      "dtype: int64\n"
     ]
    }
   ],
   "source": [
    "print('1.')\n",
    "print('Nullwerte pro Spalte: ')\n",
    "for name, df in df_list:\n",
    "    df['country'] = df['country'].fillna('unknown')\n",
    "    df['cast'] = df['cast'].fillna('unknown')\n",
    "    df['director'] = df['director'].fillna('unknown')\n",
    "\n",
    "    print(name)\n",
    "    print(df.isna().sum())"
   ]
  },
  {
   "cell_type": "code",
   "execution_count": 29,
   "metadata": {},
   "outputs": [
    {
     "name": "stdout",
     "output_type": "stream",
     "text": [
      "2.\n",
      "<class 'pandas.core.frame.DataFrame'>\n",
      "RangeIndex: 1450 entries, 0 to 1449\n",
      "Data columns (total 10 columns):\n",
      " #   Column       Non-Null Count  Dtype \n",
      "---  ------       --------------  ----- \n",
      " 0   show_id      1450 non-null   object\n",
      " 1   type         1450 non-null   object\n",
      " 2   title        1450 non-null   object\n",
      " 3   director     1450 non-null   object\n",
      " 4   cast         1450 non-null   object\n",
      " 5   country      1450 non-null   object\n",
      " 6   rating       1447 non-null   object\n",
      " 7   duration     1450 non-null   object\n",
      " 8   listed_in    1450 non-null   object\n",
      " 9   description  1450 non-null   object\n",
      "dtypes: object(10)\n",
      "memory usage: 113.4+ KB\n",
      "<class 'pandas.core.frame.DataFrame'>\n",
      "RangeIndex: 8807 entries, 0 to 8806\n",
      "Data columns (total 10 columns):\n",
      " #   Column       Non-Null Count  Dtype \n",
      "---  ------       --------------  ----- \n",
      " 0   show_id      8807 non-null   object\n",
      " 1   type         8807 non-null   object\n",
      " 2   title        8807 non-null   object\n",
      " 3   director     8807 non-null   object\n",
      " 4   cast         8807 non-null   object\n",
      " 5   country      8807 non-null   object\n",
      " 6   rating       8803 non-null   object\n",
      " 7   duration     8804 non-null   object\n",
      " 8   listed_in    8807 non-null   object\n",
      " 9   description  8807 non-null   object\n",
      "dtypes: object(10)\n",
      "memory usage: 688.2+ KB\n"
     ]
    }
   ],
   "source": [
    "print('2.')\n",
    "for name, df in df_list:  \n",
    "    df.drop(columns=['date_added', 'release_year'], inplace=True)\n",
    "    df.info()\n"
   ]
  },
  {
   "cell_type": "markdown",
   "metadata": {},
   "source": [
    "### <a id='toc5_1_2_'></a>[2.1.2 Netflix - Länder](#toc0_)\n",
    "\n",
    "- Länder anschauen: \n",
    "    - wieso gibt es so viele?\n",
    "    - sind sie plausibel? -> wenn nicht dann korrigieren\n",
    "\n",
    "-> 'United States, Ghana, Burkina Faso, United Kingdom, Germany, Ethiopia' das hier wird als ein Land gewertet, welche falsch ist"
   ]
  },
  {
   "cell_type": "code",
   "execution_count": 30,
   "metadata": {},
   "outputs": [
    {
     "data": {
      "text/plain": [
       "array(['United States', 'South Africa', 'unknown', 'India',\n",
       "       'United States, Ghana, Burkina Faso, United Kingdom, Germany, Ethiopia',\n",
       "       'United Kingdom', 'Germany, Czech Republic', 'Mexico', 'Turkey',\n",
       "       'Australia', 'United States, India, France', 'Finland',\n",
       "       'China, Canada, United States',\n",
       "       'South Africa, United States, Japan', 'Nigeria', 'Japan',\n",
       "       'Spain, United States', 'France', 'Belgium',\n",
       "       'United Kingdom, United States', 'United States, United Kingdom',\n",
       "       'France, United States', 'South Korea', 'Spain',\n",
       "       'United States, Singapore', 'United Kingdom, Australia, France',\n",
       "       'United Kingdom, Australia, France, United States',\n",
       "       'United States, Canada', 'Germany, United States',\n",
       "       'South Africa, United States', 'United States, Mexico',\n",
       "       'United States, Italy, France, Japan',\n",
       "       'United States, Italy, Romania, United Kingdom',\n",
       "       'Australia, United States', 'Argentina, Venezuela',\n",
       "       'United States, United Kingdom, Canada', 'China, Hong Kong',\n",
       "       'Russia', 'Canada', 'Hong Kong', 'United States, China, Hong Kong',\n",
       "       'Italy, United States', 'United States, Germany',\n",
       "       'United Kingdom, Canada, United States', ', South Korea',\n",
       "       'Ireland', 'India, Nepal',\n",
       "       'New Zealand, Australia, France, United States', 'Italy',\n",
       "       'Italy, Brazil, Greece', 'Argentina', 'Jordan', 'Colombia',\n",
       "       'United States, Japan', 'Belgium, United Kingdom',\n",
       "       'Switzerland, United Kingdom, Australia', 'Israel, United States',\n",
       "       'Canada, United States', 'Brazil', 'Argentina, Spain', 'Taiwan',\n",
       "       'United States, Nigeria', 'Bulgaria, United States',\n",
       "       'Spain, United Kingdom, United States', 'United States, China',\n",
       "       'United States, France',\n",
       "       'Spain, France, United Kingdom, United States',\n",
       "       ', France, Algeria', 'Poland', 'Germany',\n",
       "       'France, Israel, Germany, United States, United Kingdom',\n",
       "       'New Zealand', 'Saudi Arabia', 'Thailand', 'Indonesia',\n",
       "       'Egypt, Denmark, Germany', 'United States, Switzerland',\n",
       "       'Hong Kong, Canada, United States', 'Kuwait, United States',\n",
       "       'France, Canada, United States, Spain',\n",
       "       'France, Netherlands, Singapore', 'France, Belgium',\n",
       "       'Ireland, United States, United Kingdom', 'Egypt', 'Malaysia',\n",
       "       'Israel', 'Australia, New Zealand', 'United Kingdom, Germany',\n",
       "       'Belgium, Netherlands', 'South Korea, Czech Republic',\n",
       "       'Australia, Germany', 'Vietnam', 'United Kingdom, Belgium',\n",
       "       'United Kingdom, Australia, United States',\n",
       "       'France, Japan, United States',\n",
       "       'United Kingdom, Germany, Spain, United States',\n",
       "       'United Kingdom, United States, France, Italy',\n",
       "       'United States, Germany, Canada',\n",
       "       'United States, France, Italy, United Kingdom',\n",
       "       'United States, United Kingdom, Germany, Hungary',\n",
       "       'United States, New Zealand', 'Sweden', 'China', 'Lebanon',\n",
       "       'Romania', 'Finland, Germany', 'Lebanon, Syria', 'Philippines',\n",
       "       'Iceland', 'Denmark', 'United States, India',\n",
       "       'Philippines, Singapore, Indonesia',\n",
       "       'China, United States, Canada', 'Lebanon, United Arab Emirates',\n",
       "       'Canada, United States, Denmark', 'United Arab Emirates',\n",
       "       'Mexico, France, Colombia', 'Netherlands',\n",
       "       'Germany, United States, France', 'United States, Bulgaria',\n",
       "       'United Kingdom, France, Germany, United States',\n",
       "       'Norway, Denmark', 'Syria, France, Lebanon, Qatar',\n",
       "       'United States, Czech Republic', 'Mauritius',\n",
       "       'Canada, South Africa', 'Austria', 'Mexico, Brazil',\n",
       "       'Germany, France', 'Mexico, United States',\n",
       "       'United Kingdom, France, Spain, United States',\n",
       "       'United States, Australia',\n",
       "       'United States, United Kingdom, France', 'United States, Russia',\n",
       "       'United States, United Kingdom, New Zealand',\n",
       "       'Australia, United Kingdom', 'Canada, Nigeria, United States',\n",
       "       'France, United States, United Kingdom, Canada',\n",
       "       'France, United Kingdom', 'India, United Kingdom',\n",
       "       'Canada, United States, Mexico',\n",
       "       'United Kingdom, Germany, United States',\n",
       "       'Czech Republic, United Kingdom, United States',\n",
       "       'China, United Kingdom', 'Italy, United Kingdom', 'China, Taiwan',\n",
       "       'United States, Brazil, Japan, Spain, India',\n",
       "       'United States, China, United Kingdom', 'Cameroon',\n",
       "       'Lebanon, Palestine, Denmark, Qatar', 'Japan, United States',\n",
       "       'Uruguay, Germany', 'Egypt, Saudi Arabia',\n",
       "       'United Kingdom, France, Poland, Germany, United States',\n",
       "       'Ireland, Switzerland, United Kingdom, France, United States',\n",
       "       'United Kingdom, South Africa, France',\n",
       "       'Ireland, United Kingdom, France, Germany',\n",
       "       'Russia, United States', 'United Kingdom, United States, France',\n",
       "       'United Kingdom,', 'United States, India, United Kingdom', 'Kenya',\n",
       "       'Spain, Argentina', 'India, United Kingdom, France, Qatar',\n",
       "       'Belgium, France', 'Argentina, Chile', 'United States, Thailand',\n",
       "       'Chile, Brazil', 'United States, Colombia',\n",
       "       'Canada, United States, United Kingdom', 'Uruguay', 'Luxembourg',\n",
       "       'United States, Cambodia, Romania', 'Bangladesh',\n",
       "       'Spain, Belgium, United States',\n",
       "       'United Kingdom, United States, Australia',\n",
       "       'Canada, United States, France', 'Portugal, United States',\n",
       "       'Portugal, Spain', 'India, United States',\n",
       "       'United Kingdom, Ireland', 'United Kingdom, Spain, United States',\n",
       "       'Hungary, United States', 'United States, South Korea',\n",
       "       'Canada, United States, Cayman Islands', 'India, France',\n",
       "       'France, Canada', 'Canada, Hungary, United States', 'Norway',\n",
       "       'Canada, United Kingdom, United States',\n",
       "       'United Kingdom, Germany, France, United States',\n",
       "       'Denmark, United States', 'Senegal', 'France, Algeria',\n",
       "       'United Kingdom, Finland, Germany, United States, Australia, Japan, France, Ireland',\n",
       "       'Philippines, Canada, United Kingdom, United States',\n",
       "       'Ireland, France, Iceland, United States, Mexico, Belgium, United Kingdom, Hong Kong',\n",
       "       'Singapore', 'Kuwait', 'United States, France, Serbia',\n",
       "       'United States, Italy', 'Spain, Italy',\n",
       "       'United States, Ireland, United Kingdom, India',\n",
       "       'United Kingdom, Singapore', 'Hong Kong, United States',\n",
       "       'United States, Malta, France, United Kingdom',\n",
       "       'United States, China, Canada', 'Canada, United States, Ireland',\n",
       "       'Lebanon, Canada, France', 'Japan, Canada, United States',\n",
       "       'Spain, France, Canada',\n",
       "       'Denmark, Singapore, Canada, United States',\n",
       "       'United States, France, Denmark', 'United States, China, Colombia',\n",
       "       'Spain, Thailand, United States', 'Mexico, Spain',\n",
       "       'Ireland, Luxembourg, Belgium', 'China, United States',\n",
       "       'Canada, Belgium', 'Canada, United Kingdom',\n",
       "       'Lebanon, United Arab Emirates, France, Switzerland, Germany',\n",
       "       'France, Belgium, Italy',\n",
       "       'Lebanon, United States, United Arab Emirates', 'Lebanon, France',\n",
       "       'France, Lebanon', 'France, Lebanon, United Kingdom',\n",
       "       'France, Norway, Lebanon, Belgium',\n",
       "       'Sweden, Czech Republic, United Kingdom, Denmark, Netherlands',\n",
       "       'United States, United Kingdom, India', 'Indonesia, Netherlands',\n",
       "       'Turkey, South Korea', 'Serbia, United States', 'Namibia',\n",
       "       'United Kingdom, Kenya', 'United Kingdom, France, Germany, Spain',\n",
       "       'United Kingdom, France, United States, Belgium, Luxembourg, China, Germany',\n",
       "       'Thailand, United States',\n",
       "       'United States, France, Canada, Belgium', 'United Kingdom, China',\n",
       "       'Germany, China, United Kingdom',\n",
       "       'Australia, New Zealand, United States',\n",
       "       'Hong Kong, Iceland, United States', 'France, Australia, Germany',\n",
       "       'United States, Belgium, Canada, France', 'South Africa, Angola',\n",
       "       'United States, Philippines',\n",
       "       'United States, United Kingdom, Canada, China',\n",
       "       'United States, Canada, United Kingdom', 'Turkey, United States',\n",
       "       'Peru, Germany, Norway', 'Mozambique', 'Brazil, France',\n",
       "       'China, Spain, South Korea, United States', 'Spain, Germany',\n",
       "       'Hong Kong, China', 'France, Belgium, Luxembourg, Cambodia,',\n",
       "       'United Kingdom, Australia', 'Belarus',\n",
       "       'Indonesia, United Kingdom',\n",
       "       'Switzerland, France, Belgium, United States', 'Ghana',\n",
       "       'Spain, France, Canada, United States', 'Chile, Italy',\n",
       "       'United Kingdom, Nigeria', 'Chile', 'France, Egypt',\n",
       "       'Egypt, France', 'France, Brazil, Spain, Belgium',\n",
       "       'Egypt, Algeria', 'Canada, South Korea, United States',\n",
       "       'Nigeria, United Kingdom', 'United States, France, Canada',\n",
       "       'Poland, United States',\n",
       "       'United Arab Emirates, Jordan, Lebanon, Saudi Arabia',\n",
       "       'United States, Mexico, Spain, Malta',\n",
       "       'Saudi Arabia, United Arab Emirates', 'Zimbabwe',\n",
       "       'United Kingdom, Germany, United Arab Emirates, New Zealand',\n",
       "       'Romania, United States', 'Canada, Nigeria',\n",
       "       'Saudi Arabia, Netherlands, Germany, Jordan, United Arab Emirates, United States',\n",
       "       'United Kingdom, Spain', 'Finland, France',\n",
       "       'United Kingdom, Germany, United States, France',\n",
       "       'India, United Kingdom, China, Canada, Japan, South Korea, United States',\n",
       "       'Italy, United Kingdom, France', 'United States, Mexico, Colombia',\n",
       "       'Turkey, India', 'Italy, Turkey',\n",
       "       'United Kingdom, United States, Japan',\n",
       "       'France, Belgium, United States',\n",
       "       'Puerto Rico, United States, Colombia', 'Uruguay, Argentina',\n",
       "       'United States, United Kingdom, Japan', 'United States, Argentina',\n",
       "       'United Kingdom, Italy', 'Ireland, United Kingdom',\n",
       "       'United Kingdom, France, Belgium, Canada, United States',\n",
       "       'Netherlands, Germany, Denmark, United Kingdom', 'Hungary',\n",
       "       'Austria, Germany', 'Taiwan, China',\n",
       "       'United Kingdom, United States, Ireland',\n",
       "       'South Korea, United States', 'Brazil, United Kingdom',\n",
       "       'Pakistan, United States', 'Romania, France, Switzerland, Germany',\n",
       "       'Romania, United Kingdom', 'France, Malta, United States',\n",
       "       'Cyprus',\n",
       "       'United Kingdom, France, Belgium, Ireland, United States',\n",
       "       'United States, Norway, Canada', 'Kenya, United States',\n",
       "       'France, South Korea, Japan, United States', 'Taiwan, Malaysia',\n",
       "       'Uruguay, Argentina, Germany, Spain',\n",
       "       'United States, United Kingdom, France, Germany, Japan',\n",
       "       'United States, France, Japan',\n",
       "       'United Kingdom, France, United States',\n",
       "       'Spain, France, United States',\n",
       "       'Indonesia, South Korea, Singapore', 'United States, Spain',\n",
       "       'Netherlands, Germany, Italy, Canada',\n",
       "       'Spain, Germany, Denmark, United States', 'Norway, Sweden',\n",
       "       'South Korea, Canada, United States, China',\n",
       "       'Argentina, Uruguay, Serbia', 'France, Japan',\n",
       "       'Mauritius, South Africa', 'United States, Poland',\n",
       "       'United Kingdom, United States, Germany, Denmark, Belgium, Japan',\n",
       "       'India, Germany', 'India, United Kingdom, Canada, United States',\n",
       "       'Philippines, United States', 'Romania, Bulgaria, Hungary',\n",
       "       'Uruguay, Guatemala', 'France, Senegal, Belgium',\n",
       "       'United Kingdom, Canada', 'Mexico, United States, Spain, Colombia',\n",
       "       'Canada, Norway', 'Singapore, United States',\n",
       "       'Finland, Germany, Belgium', 'United Kingdom, France',\n",
       "       'United States, Chile', 'United Kingdom, Japan, United States',\n",
       "       'Spain, United Kingdom', 'Argentina, United States, Mexico',\n",
       "       'United States, South Korea, Japan', 'Canada, Australia',\n",
       "       'United Kingdom, Hungary, Australia', 'Italy, Belgium',\n",
       "       'United States, United Kingdom, Germany', 'Switzerland',\n",
       "       'Singapore, Malaysia',\n",
       "       'France, Belgium, Luxembourg, Romania, Canada, United States',\n",
       "       'South Africa, Nigeria', 'Spain, France',\n",
       "       'United Kingdom, Hong Kong', 'Pakistan', 'Brazil, United States',\n",
       "       'Denmark, Brazil, France, Portugal, Sweden', 'India, Turkey',\n",
       "       'Malaysia, Singapore, Hong Kong', 'Philippines, Singapore',\n",
       "       'Australia, Canada', 'Taiwan, China, France, United States',\n",
       "       'Germany, Italy', 'Colombia, Peru, United Kingdom',\n",
       "       'Thailand, China, United States', 'Argentina, United States',\n",
       "       'Sweden, United States', 'Uruguay, Spain, Mexico',\n",
       "       'France, Luxembourg, Canada', 'Denmark, Spain', 'Chile, Argentina',\n",
       "       'United Kingdom, Belgium, Sweden', 'Canada, Brazil',\n",
       "       'Italy, France', 'Canada, Germany',\n",
       "       'Pakistan, United Arab Emirates', 'Ghana, United States',\n",
       "       'Mexico, Finland', 'United Arab Emirates, United Kingdom, India',\n",
       "       'Netherlands, Belgium', 'United States, Taiwan',\n",
       "       'Austria, Iraq, United States', 'United Kingdom, Malawi',\n",
       "       'Paraguay, Argentina', 'United Kingdom, Russia, United States',\n",
       "       'India, Pakistan', 'Indonesia, Singapore', 'Spain, Belgium',\n",
       "       'Iceland, Sweden, Belgium', 'Croatia', 'Uruguay, Argentina, Spain',\n",
       "       'United Kingdom, Ireland, United States',\n",
       "       'Canada, Germany, France, United States', 'United Kingdom, Japan',\n",
       "       'Norway, Denmark, Netherlands, Sweden',\n",
       "       'Hong Kong, China, United States', 'Ireland, Canada',\n",
       "       'Italy, Switzerland, France, Germany', 'Mexico, Netherlands',\n",
       "       'United States, Sweden', 'Germany, France, Russia',\n",
       "       'France, Iran, United States', 'United Kingdom, India',\n",
       "       'Russia, Poland, Serbia', 'Spain, Portugal', 'Peru',\n",
       "       'Mexico, Argentina',\n",
       "       'United Kingdom, Canada, United States, Cayman Islands',\n",
       "       'Indonesia, United States',\n",
       "       'United States, Israel, United Kingdom, Canada',\n",
       "       'Norway, Iceland, United States', 'Czech Republic, United States',\n",
       "       'United Kingdom, India, United States',\n",
       "       'United Kingdom, West Germany', 'India, Australia',\n",
       "       'United States,', 'Belgium, United Kingdom, United States',\n",
       "       'India, Germany, Austria',\n",
       "       'United States, Brazil, South Korea, Mexico, Japan, Germany',\n",
       "       'Spain, Mexico', 'China, Japan', 'Argentina, France',\n",
       "       'China, United States, United Kingdom',\n",
       "       'France, Luxembourg, United States',\n",
       "       'China, United States, Australia', 'Colombia, Mexico',\n",
       "       'United States, Canada, Ireland', 'Chile, Peru',\n",
       "       'Argentina, Italy', 'Canada, Japan, United States',\n",
       "       'United Kingdom, Canada, United States, Germany',\n",
       "       'Italy, Switzerland, Albania, Poland',\n",
       "       'United States, Japan, Canada', 'Cambodia',\n",
       "       'Italy, United States, Argentina',\n",
       "       'Saudi Arabia, Syria, Egypt, Lebanon, Kuwait',\n",
       "       'United States, Canada, Indonesia, United Kingdom, China, Singapore',\n",
       "       'Spain, Colombia',\n",
       "       'United Kingdom, South Africa, Australia, United States',\n",
       "       'Bulgaria', 'Argentina, Brazil, France, Poland, Germany, Denmark',\n",
       "       'United Kingdom, Spain, United States, Germany',\n",
       "       'Philippines, Qatar', 'Netherlands, Belgium, Germany, Jordan',\n",
       "       'United Arab Emirates, United States', 'Norway, Germany, Sweden',\n",
       "       'South Korea, China', 'Georgia', 'Soviet Union, India',\n",
       "       'Australia, United Arab Emirates', 'Canada, Germany, South Africa',\n",
       "       'South Korea, China, United States', 'India, Soviet Union',\n",
       "       'India, Mexico', 'Georgia, Germany, France',\n",
       "       'United Arab Emirates, Romania', 'India, Malaysia',\n",
       "       'Germany, Jordan, Netherlands', 'Turkey, France, Germany, Poland',\n",
       "       'Greece, United States', 'France, United Kingdom, United States',\n",
       "       'Norway, Germany', 'France, Morocco', 'Cambodia, United States',\n",
       "       'United States, Denmark', 'United States, Colombia, Mexico',\n",
       "       'United Kingdom, Italy, Israel, Peru, United States',\n",
       "       'Argentina, Uruguay, Spain, France',\n",
       "       'United Kingdom, France, United States, Belgium',\n",
       "       'France, Canada, China, Cambodia',\n",
       "       'United Kingdom, France, Belgium, United States', 'Chile, France',\n",
       "       'Netherlands, United States', 'France, United Kingdom, India',\n",
       "       'Czech Republic, Slovakia', 'Singapore, France',\n",
       "       'Spain, Switzerland', 'United States, Australia, China',\n",
       "       'South Africa, United States, Germany',\n",
       "       'United States, United Kingdom, Australia',\n",
       "       'Spain, Italy, Argentina', 'Chile, Spain, Argentina, Germany',\n",
       "       'West Germany', 'Austria, Czech Republic', 'Lebanon, Qatar',\n",
       "       'United Kingdom, Jordan, Qatar, Iran',\n",
       "       'France, South Korea, Japan', 'Israel, Germany, France',\n",
       "       'Canada, Japan, Netherlands', 'United States, Hungary',\n",
       "       'France, Germany', 'France, Qatar',\n",
       "       'United Kingdom, Germany, Canada', 'Ireland, South Africa',\n",
       "       'Chile, United States, France', 'Belgium, France, Netherlands',\n",
       "       'United Kingdom, Ukraine, United States',\n",
       "       'Germany, Australia, France, China', 'Norway, United States',\n",
       "       'United States, Bermuda, Ecuador',\n",
       "       'United States, Hungary, Ireland, Canada',\n",
       "       'United Kingdom, Egypt, United States',\n",
       "       'United States, France, United Kingdom', 'Spain, Mexico, France',\n",
       "       'United States, South Africa', 'Hong Kong, China, Singapore',\n",
       "       'South Africa, China, United States', 'Denmark, France, Poland',\n",
       "       'New Zealand, United Kingdom',\n",
       "       'Netherlands, Denmark, South Africa', 'Iran, France',\n",
       "       'United Kingdom, United States, France, Germany',\n",
       "       'Australia, France', 'Ireland, United Kingdom, United States',\n",
       "       'United Kingdom, France, Germany', 'Canada, Luxembourg',\n",
       "       'Brazil, Netherlands, United States, Colombia, Austria, Germany',\n",
       "       'France, Canada, Belgium', 'Canada, France',\n",
       "       'Bulgaria, United States, Spain, Canada', 'Sweden, Netherlands',\n",
       "       'France, United States, Mexico',\n",
       "       'Australia, United Kingdom, United Arab Emirates, Canada',\n",
       "       'Australia, Armenia, Japan, Jordan, Mexico, Mongolia, New Zealand, Philippines, South Africa, Sweden, United States, Uruguay',\n",
       "       'India, Iran', 'France, Belgium, Spain',\n",
       "       'Denmark, Sweden, Israel, United States', 'United States, Iceland',\n",
       "       'United Kingdom, Russia',\n",
       "       'United States, Israel, Italy, South Africa',\n",
       "       'Netherlands, Denmark, France, Germany', 'South Korea, Japan',\n",
       "       'United Kingdom, Pakistan', 'France, New Zealand',\n",
       "       'United Kingdom, Czech Republic, United States, Germany, Bahamas',\n",
       "       'China, Germany, India, United States', 'Germany, Sri Lanka',\n",
       "       'United States, India, Bangladesh',\n",
       "       'United States, Canada, France', 'Brazil, France, Germany',\n",
       "       'Germany, United States, Hong Kong, Singapore',\n",
       "       'France, Germany, Switzerland',\n",
       "       'Germany, France, Luxembourg, United Kingdom, United States',\n",
       "       'United Kingdom, Canada, Italy', 'Czech Republic, France',\n",
       "       'Taiwan, Hong Kong, United States, China', 'Germany, Australia',\n",
       "       'United Kingdom, Poland, United States', 'Denmark, Zimbabwe',\n",
       "       'United Kingdom, South Africa',\n",
       "       'Finland, Sweden, Norway, Latvia, Germany',\n",
       "       'South Africa, United States, New Zealand, Canada',\n",
       "       'United States, Italy, United Kingdom, Liechtenstein',\n",
       "       'Denmark, France, Belgium, Italy, Netherlands, United States, United Kingdom',\n",
       "       'United States, Australia, Mexico',\n",
       "       'United Kingdom, Czech Republic, Germany, United States',\n",
       "       'France, China, Japan, United States',\n",
       "       'United States, South Korea, China', 'Germany, Belgium',\n",
       "       'Pakistan, Norway, United States',\n",
       "       'United States, Canada, Belgium, United Kingdom', 'Venezuela',\n",
       "       'Canada, France, Italy, Morocco, United States',\n",
       "       'Canada, Spain, France', 'United States, Indonesia',\n",
       "       'Spain, France, Italy',\n",
       "       'United Arab Emirates, United States, United Kingdom',\n",
       "       'United Kingdom, Israel, Russia', 'Spain, Cuba',\n",
       "       'United States, Brazil', 'United States, France, Mexico',\n",
       "       'United States, Nicaragua',\n",
       "       'United Kingdom, United States, Spain, Germany, Greece, Canada',\n",
       "       'Italy, Canada, France',\n",
       "       'United Kingdom, Denmark, Canada, Croatia', 'Italy, Germany',\n",
       "       'United States, France, United Kingdom, Japan',\n",
       "       'United States, United Kingdom, Denmark, Sweden',\n",
       "       'United States, United Kingdom, Italy',\n",
       "       'United States, France, Canada, Spain',\n",
       "       'Russia, United States, China', 'United States, Canada, Germany',\n",
       "       'Ireland, United States', 'United States, United Arab Emirates',\n",
       "       'United States, Ireland',\n",
       "       'Ireland, United Kingdom, Italy, United States', 'Poland,',\n",
       "       'Slovenia, Croatia, Germany, Czech Republic, Qatar',\n",
       "       'Canada, United Kingdom, Netherlands',\n",
       "       'United States, Spain, Germany', 'India, Japan',\n",
       "       'China, South Korea, United States',\n",
       "       'United Kingdom, France, Belgium',\n",
       "       'Canada, Ireland, United States',\n",
       "       'United Kingdom, United States, Dominican Republic',\n",
       "       'United States, Senegal', 'Germany, United Kingdom, United States',\n",
       "       'South Africa, Germany, Netherlands, France',\n",
       "       'Canada, United States, United Kingdom, France, Luxembourg',\n",
       "       'Ireland, United States, France', 'Germany, United States, Canada',\n",
       "       'United Kingdom, Germany, Canada, United States',\n",
       "       'United States, France, Canada, Lebanon, Qatar',\n",
       "       'Netherlands, Belgium, United Kingdom, United States',\n",
       "       'France, Belgium, China, United States',\n",
       "       'United States, Chile, Israel',\n",
       "       'United Kingdom, Norway, Denmark, Germany, Sweden',\n",
       "       'Norway, Denmark, Sweden', 'China, India, Nepal',\n",
       "       'Colombia, Mexico, United States', 'United Kingdom, South Korea',\n",
       "       'Denmark, China', 'United States, Greece, Brazil',\n",
       "       'South Korea, France',\n",
       "       'United States, Australia, Samoa, United Kingdom',\n",
       "       'Germany, United Kingdom', 'Argentina, Chile, Peru',\n",
       "       'Turkey, Azerbaijan', 'Poland, West Germany',\n",
       "       'Germany, United States, Sweden', 'Canada, Spain',\n",
       "       'United States, Cambodia', 'United States, Greece',\n",
       "       'Norway, United Kingdom, France, Ireland',\n",
       "       'United Kingdom, Poland', 'Israel, Sweden, Germany, Netherlands',\n",
       "       'Switzerland, France', 'Italy, India', 'United States, Botswana',\n",
       "       'Chile, Argentina, France, Spain, United States',\n",
       "       'United States, India, South Korea, China',\n",
       "       'Denmark, Germany, Belgium, United Kingdom, France',\n",
       "       'Denmark, Germany, Belgium, United Kingdom, France, Sweden',\n",
       "       'France, Switzerland, Spain, United States, United Arab Emirates',\n",
       "       'Brazil, India, China, United States',\n",
       "       'Denmark, France, United States, Sweden', 'Australia, Iraq',\n",
       "       'China, Morocco, Hong Kong', 'Canada, United States, Germany',\n",
       "       'United Kingdom, Thailand', 'Venezuela, Colombia',\n",
       "       'Colombia, United States',\n",
       "       'France, Germany, Czech Republic, Belgium',\n",
       "       'Switzerland, Vatican City, Italy, Germany, France',\n",
       "       'Portugal, France, Poland, United States',\n",
       "       'United States, New Zealand, Japan',\n",
       "       'United States, Netherlands, Japan, France', 'India, Switzerland',\n",
       "       'Canada, India', 'United States, Morocco',\n",
       "       'Singapore, Japan, France',\n",
       "       'Canada, Mexico, Germany, South Africa',\n",
       "       'United Kingdom, United States, Canada',\n",
       "       'Germany, France, United States, Canada, United Kingdom',\n",
       "       'United States, Uruguay', 'India, Canada',\n",
       "       'Ireland, Canada, United Kingdom, United States',\n",
       "       'United States, Germany, Australia', 'Australia, France, Ireland',\n",
       "       'Australia, India', 'United States, United Kingdom, Canada, Japan',\n",
       "       'Sweden, United Kingdom, Finland', 'Hong Kong, Taiwan',\n",
       "       'United States, United Kingdom, Spain, South Korea', 'Guatemala',\n",
       "       'Ukraine',\n",
       "       'Italy, South Africa, West Germany, Australia, United States',\n",
       "       'United States, Germany, United Kingdom, Australia',\n",
       "       'Italy, France, Switzerland', 'Canada, France, United States',\n",
       "       'Switzerland, United States', 'Thailand, Canada, United States',\n",
       "       'China, Hong Kong, United States', 'United Kingdom, New Zealand',\n",
       "       'Czech Republic, United Kingdom, France',\n",
       "       'Australia, United Kingdom, Canada', 'Jamaica, United States',\n",
       "       'Australia, United Kingdom, United States, New Zealand, Italy, France',\n",
       "       'France, United States, Canada',\n",
       "       'United Kingdom, France, Canada, Belgium, United States',\n",
       "       'Denmark, United Kingdom, Sweden', 'United States, Hong Kong',\n",
       "       'United States, Kazakhstan',\n",
       "       'Argentina, France, United States, Germany, Qatar',\n",
       "       'United States, Germany, United Kingdom',\n",
       "       'United States, Germany, United Kingdom, Italy',\n",
       "       'United States, New Zealand, United Kingdom',\n",
       "       'Finland, United States', 'Spain, France, Uruguay',\n",
       "       'France, Canada, United States', 'United States, Canada, China',\n",
       "       'Ireland, Canada, Luxembourg, United States, United Kingdom, Philippines, India',\n",
       "       'United States, Czech Republic, United Kingdom', 'Israel, Germany',\n",
       "       'Mexico, France',\n",
       "       'Israel, Germany, Poland, Luxembourg, Belgium, France, United States',\n",
       "       'Austria, United States', 'United Kingdom, Lithuania',\n",
       "       'United States, Greece, United Kingdom',\n",
       "       'United Kingdom, China, United States, India',\n",
       "       'United States, Sweden, Norway',\n",
       "       'United Kingdom, United States, Morocco',\n",
       "       'United States, United Kingdom, Morocco',\n",
       "       'Spain, Canada, United States',\n",
       "       'United States, India, United Arab Emirates',\n",
       "       'United Kingdom, Canada, France, United States',\n",
       "       'India, Germany, France',\n",
       "       'Belgium, Ireland, Netherlands, Germany, Afghanistan',\n",
       "       'France, Canada, Italy, United States, China',\n",
       "       'Ireland, United Kingdom, Greece, France, Netherlands',\n",
       "       'Denmark, Indonesia, Finland, Norway, United Kingdom, Israel, France, United States, Germany, Netherlands',\n",
       "       'New Zealand, United States',\n",
       "       'United States, Australia, South Africa, United Kingdom',\n",
       "       'United States, Germany, Mexico',\n",
       "       'Somalia, Kenya, Sudan, South Africa, United States',\n",
       "       'United States, Canada, Japan, Panama',\n",
       "       'United Kingdom, Spain, Belgium', 'Serbia, South Korea, Slovenia',\n",
       "       'Denmark, United Kingdom, South Africa, Sweden, Belgium',\n",
       "       'Germany, Canada, United States',\n",
       "       'Ireland, Canada, United States, United Kingdom',\n",
       "       'New Zealand, United Kingdom, Australia',\n",
       "       'United Kingdom, Australia, Canada, United States',\n",
       "       'Germany, United States, Italy', 'United States, Venezuela',\n",
       "       'United Kingdom, Canada, Japan',\n",
       "       'United Kingdom, United States, Czech Republic',\n",
       "       'United Kingdom, China, United States',\n",
       "       'United Kingdom, Brazil, Germany',\n",
       "       'United Kingdom, Namibia, South Africa, Zimbabwe, United States',\n",
       "       'Canada, United States, India, United Kingdom',\n",
       "       'Switzerland, United Kingdom, United States',\n",
       "       'United Kingdom, India, Sweden',\n",
       "       'United States, Brazil, India, Uganda, China',\n",
       "       'Peru, United States, United Kingdom',\n",
       "       'Germany, United States, United Kingdom, Canada',\n",
       "       'Canada, India, Thailand, United States, United Arab Emirates',\n",
       "       'United States, East Germany, West Germany',\n",
       "       'France, Netherlands, South Africa, Finland',\n",
       "       'Egypt, Austria, United States', 'Russia, Spain',\n",
       "       'Croatia, Slovenia, Serbia, Montenegro', 'Japan, Canada',\n",
       "       'United States, France, South Korea, Indonesia',\n",
       "       'United Arab Emirates, Jordan'], dtype=object)"
      ]
     },
     "execution_count": 30,
     "metadata": {},
     "output_type": "execute_result"
    }
   ],
   "source": [
    "netflix_df['country'].unique()"
   ]
  },
  {
   "cell_type": "code",
   "execution_count": 31,
   "metadata": {},
   "outputs": [
    {
     "name": "stdout",
     "output_type": "stream",
     "text": [
      "country\n",
      "United States     3690\n",
      "India             1046\n",
      "unknown            831\n",
      "United Kingdom     806\n",
      "Canada             445\n",
      "                  ... \n",
      "Sudan                1\n",
      "Panama               1\n",
      "Uganda               1\n",
      "East Germany         1\n",
      "Montenegro           1\n",
      "Name: count, Length: 124, dtype: int64\n"
     ]
    }
   ],
   "source": [
    "netflix_df_copy = netflix_df.copy()\n",
    "netflix_df_copy['country'] = netflix_df_copy['country'].str.split(',')\n",
    "netflix_df_copy['country'] = netflix_df_copy['country'].apply(lambda x: [country.strip() for country in x])\n",
    "netflix_df_countries = netflix_df_copy.explode('country')\n",
    "netflix_movies_per_country = netflix_df_countries['country'].value_counts()\n",
    "print(netflix_movies_per_country) "
   ]
  },
  {
   "cell_type": "code",
   "execution_count": 32,
   "metadata": {},
   "outputs": [
    {
     "name": "stdout",
     "output_type": "stream",
     "text": [
      "Nicht plasible Länder\n",
      "193     []\n",
      "365     []\n",
      "1192    []\n",
      "2224    []\n",
      "4653    []\n",
      "5925    []\n",
      "7007    []\n",
      "Name: country, dtype: object\n"
     ]
    }
   ],
   "source": [
    "# Funktion zur Überprüfung, ob ein Ländername gültig ist\n",
    "def is_valid_country(country_name):\n",
    "    # Liste zusätzlicher akzeptierter Sonderfälle da pycountry sie als nicht richtig ansieht\n",
    "    valid_countries = ['turkey', 'russia', 'palestine', 'vatican city', 'soviet union']\n",
    "    if pd.isna(country_name) or country_name.lower() in ['unknown'] + valid_countries:\n",
    "        return True\n",
    "    \n",
    "    # Mapping für historische Länderbezeichnungen\n",
    "    if country_name.lower() == 'soviet union':\n",
    "        country_name = 'russia'\n",
    "    if country_name.lower() in ['west germany', 'east germany']:\n",
    "        country_name = 'germany'\n",
    "\n",
    "    # Versuche, das Land über pycountry zu validieren\n",
    "    try:\n",
    "        pycountry.countries.lookup(country_name)\n",
    "        return True\n",
    "    except LookupError:\n",
    "        return False\n",
    "\n",
    "# → Aufteilen von Länderliste (durch Kommas getrennt), Entfernen von \"unknown\", und Prüfen der Gültigkeit\n",
    "invalid_countries = netflix_df['country'].apply(lambda x: [country.strip() for country in str(x).split(',') if country.strip() != 'unknown' and not is_valid_country(country.strip())])\n",
    "print('Nicht plasible Länder')\n",
    "\n",
    "print(invalid_countries[invalid_countries.apply(len) > 0])"
   ]
  },
  {
   "cell_type": "code",
   "execution_count": 33,
   "metadata": {},
   "outputs": [
    {
     "name": "stdout",
     "output_type": "stream",
     "text": [
      "show_id             s194\n",
      "title               D.P.\n",
      "country    , South Korea\n",
      "Name: 193, dtype: object\n",
      "--------------------------------------------------------------------\n",
      "show_id                 s366\n",
      "title        Eyes of a Thief\n",
      "country    , France, Algeria\n",
      "Name: 365, dtype: object\n",
      "--------------------------------------------------------------------\n",
      "show_id              s1193\n",
      "title          The Present\n",
      "country    United Kingdom,\n",
      "Name: 1192, dtype: object\n",
      "--------------------------------------------------------------------\n",
      "show_id                                     s2225\n",
      "title                                       Funan\n",
      "country    France, Belgium, Luxembourg, Cambodia,\n",
      "Name: 2224, dtype: object\n",
      "--------------------------------------------------------------------\n",
      "show_id             s4654\n",
      "title         City of Joy\n",
      "country    United States,\n",
      "Name: 4653, dtype: object\n",
      "--------------------------------------------------------------------\n",
      "show_id              s5926\n",
      "title              Virunga\n",
      "country    United Kingdom,\n",
      "Name: 5925, dtype: object\n",
      "--------------------------------------------------------------------\n",
      "show_id            s7008\n",
      "title      Hotel Pacific\n",
      "country          Poland,\n",
      "Name: 7007, dtype: object\n"
     ]
    }
   ],
   "source": [
    "# nicht plausible Länder überprüfen\n",
    "print(netflix_df.loc[193, ['show_id', 'title', 'country']])\n",
    "print('--------------------------------------------------------------------')\n",
    "print(netflix_df.loc[365, ['show_id', 'title', 'country']])\n",
    "print('--------------------------------------------------------------------')\n",
    "print(netflix_df.loc[1192, ['show_id', 'title', 'country']])\n",
    "print('--------------------------------------------------------------------')\n",
    "print(netflix_df.loc[2224, ['show_id', 'title', 'country']])\n",
    "print('--------------------------------------------------------------------')\n",
    "print(netflix_df.loc[4653, ['show_id', 'title', 'country']])\n",
    "print('--------------------------------------------------------------------')\n",
    "print(netflix_df.loc[5925, ['show_id', 'title', 'country']])\n",
    "print('--------------------------------------------------------------------')\n",
    "print(netflix_df.loc[7007, ['show_id', 'title', 'country']])"
   ]
  },
  {
   "cell_type": "code",
   "execution_count": 34,
   "metadata": {},
   "outputs": [],
   "source": [
    "# nicht plausible Länder umändern und sie damit plausibel machen\n",
    "netflix_df.loc[365, 'country'] = netflix_df.loc[365, 'country'].replace(', France, Algeria', 'France, Algeria')\n",
    "netflix_df.loc[4653,'country'] = netflix_df.loc[4563, 'country'].replace('United States,', 'United States')\n",
    "netflix_df.loc[5925, 'country'] = netflix_df.loc[5925, 'country'].replace('United Kingdom,', 'United Kingdom')\n",
    "netflix_df.loc[7007, 'country'] = netflix_df.loc[7007, 'country'].replace('Poland,', 'Poland')\n",
    "netflix_df.loc[1192, 'country'] = 'France, Belgium, Luxembourg, Cambodia'\n",
    "netflix_df.loc[193, 'country'] = netflix_df.loc[193, 'country'].replace(', South Korea', 'South Korea')\n",
    "netflix_df.loc[2224,'country'] = 'United States'"
   ]
  },
  {
   "cell_type": "code",
   "execution_count": 35,
   "metadata": {},
   "outputs": [
    {
     "name": "stdout",
     "output_type": "stream",
     "text": [
      "Nicht plasible Länder:\n",
      "Alle Länder sind plausibel\n"
     ]
    }
   ],
   "source": [
    "# Länder wiederholt auf plausibilität überprüfen\n",
    "invalid_countries = netflix_df['country'].apply(lambda x: [country.strip() for country in str(x).split(',') if country.strip() != 'unknown' and not is_valid_country(country.strip())])\n",
    "print('Nicht plasible Länder:')\n",
    "if len(invalid_countries[invalid_countries.apply(len) > 0]) == 0:\n",
    "    print('Alle Länder sind plausibel')\n",
    "else:\n",
    "    print(invalid_countries[invalid_countries.apply(len) > 0])"
   ]
  },
  {
   "cell_type": "markdown",
   "metadata": {},
   "source": [
    "### <a id='toc5_1_3_'></a>[2.1.3 Disney+ - Länder](#toc0_)"
   ]
  },
  {
   "cell_type": "code",
   "execution_count": 36,
   "metadata": {},
   "outputs": [
    {
     "data": {
      "text/plain": [
       "array(['unknown', 'United States', 'United States, Canada',\n",
       "       'United States, Australia', 'Canada',\n",
       "       'United States, United Kingdom', 'United States, South Korea',\n",
       "       'Ireland, United States, Canada, United Kingdom, Denmark, Spain, Poland, Hungary',\n",
       "       'France, United Kingdom', 'United Kingdom, Australia',\n",
       "       'Ireland, United States', 'Canada, United States, France',\n",
       "       'France, South Korea, Japan, United States', 'France',\n",
       "       'United States, United Kingdom, Hungary', 'United States, Germany',\n",
       "       'United States, United Kingdom, Australia', 'United States, India',\n",
       "       'United States, Canada, United Kingdom, Singapore, Australia, Thailand',\n",
       "       'Canada, United States',\n",
       "       'South Korea, United States, China, Japan',\n",
       "       'Australia, United Kingdom', 'United Kingdom',\n",
       "       'United States, United Kingdom, South Korea',\n",
       "       'United States, United Kingdom, Canada',\n",
       "       'United States, Germany, United Kingdom',\n",
       "       'United States, Canada, Ireland', 'United States, Brazil',\n",
       "       'United Kingdom, United States',\n",
       "       'United Kingdom, United States, Canada, Ireland',\n",
       "       'United States, United Kingdom, Belgium, Canada',\n",
       "       'Austria, South Africa', 'United States, Japan',\n",
       "       'United States, Spain', 'United Kingdom, United States, France',\n",
       "       'United States, Canada, Hong Kong', 'Argentina',\n",
       "       'United Arab Emirates', 'United States, Mexico',\n",
       "       'France, Switzerland, Spain, United States, United Arab Emirates',\n",
       "       'United Kingdom, France', 'Argentina, Mexico', 'India',\n",
       "       'France, Japan', 'United Kingdom, Canada, United States',\n",
       "       'United States, Ireland', 'France, United Kingdom, United States',\n",
       "       'United Kingdom, United States, Canada',\n",
       "       'United States, Germany, Ireland, United Kingdom',\n",
       "       'United States, United Kingdom, South Africa',\n",
       "       'United Kingdom, United States, Ireland', 'France, United States',\n",
       "       'Ireland, United Kingdom, United States, South Korea, Canada',\n",
       "       'United States, South Korea, France',\n",
       "       'United States, Australia, France, Canada',\n",
       "       'United States, Hungary, United Kingdom',\n",
       "       'United States, Hong Kong, South Korea, France, Canada, China, United Kingdom, Australia, Japan, Taiwan, Philippines',\n",
       "       'United States, Taiwan, South Korea, China, Japan, United Kingdom',\n",
       "       'Germany, United States', 'United Kingdom, Germany',\n",
       "       'United States, Philippines, South Korea',\n",
       "       'United Kingdom, China, United States', 'Tanzania, United States',\n",
       "       'United States, Panama, Mexico',\n",
       "       'United States, United Kingdom, Australia, Canada',\n",
       "       'United States, France',\n",
       "       'United States, Angola, Botswana, Namibia, South Africa',\n",
       "       'Canada, United States, United Kingdom, France, Luxembourg',\n",
       "       'Australia, United States', 'United States, Denmark',\n",
       "       'Denmark, China', 'United States, Guatemala',\n",
       "       'United States, South Korea, Singapore, Russia, Malaysia, Kazakhstan, Taiwan, Hong Kong, Japan, China, India, Syria, Iran, Egypt, Pakistan',\n",
       "       'United States, Canada, Australia',\n",
       "       'United States, South Korea, China, Taiwan',\n",
       "       'United States, Taiwan, China', 'United States, New Zealand',\n",
       "       'Canada, Malaysia, United States',\n",
       "       'United States, India, United Kingdom',\n",
       "       'Norway, Sweden, United States', 'France, Canada, United States',\n",
       "       'United States, Poland, Slovenia, Czech Republic, United Kingdom',\n",
       "       'United States, Canada, Australia, Taiwan',\n",
       "       'China, Hong Kong, United States',\n",
       "       'Austria, United Kingdom, United States', 'China', 'Germany',\n",
       "       'New Zealand, United States',\n",
       "       'United States, Spain, France, Canada, United Kingdom',\n",
       "       'United Kingdom, Germany, United States'], dtype=object)"
      ]
     },
     "execution_count": 36,
     "metadata": {},
     "output_type": "execute_result"
    }
   ],
   "source": [
    "# alle Länder ausgeben\n",
    "disney_df['country'].unique()"
   ]
  },
  {
   "cell_type": "code",
   "execution_count": 37,
   "metadata": {},
   "outputs": [
    {
     "name": "stdout",
     "output_type": "stream",
     "text": [
      "country\n",
      "United States           1184\n",
      "unknown                  219\n",
      "United Kingdom           101\n",
      "Canada                    77\n",
      "Australia                 23\n",
      "France                    22\n",
      "South Korea               13\n",
      "Japan                     10\n",
      "China                     10\n",
      "Germany                    9\n",
      "Ireland                    8\n",
      "Taiwan                     6\n",
      "India                      5\n",
      "Mexico                     4\n",
      "Hong Kong                  4\n",
      "Spain                      4\n",
      "South Africa               3\n",
      "Argentina                  3\n",
      "Hungary                    3\n",
      "Denmark                    3\n",
      "New Zealand                3\n",
      "Poland                     2\n",
      "Singapore                  2\n",
      "Austria                    2\n",
      "Philippines                2\n",
      "United Arab Emirates       2\n",
      "Malaysia                   2\n",
      "Brazil                     1\n",
      "Switzerland                1\n",
      "Tanzania                   1\n",
      "Belgium                    1\n",
      "Thailand                   1\n",
      "Angola                     1\n",
      "Panama                     1\n",
      "Luxembourg                 1\n",
      "Botswana                   1\n",
      "Guatemala                  1\n",
      "Russia                     1\n",
      "Kazakhstan                 1\n",
      "Namibia                    1\n",
      "Syria                      1\n",
      "Iran                       1\n",
      "Egypt                      1\n",
      "Pakistan                   1\n",
      "Norway                     1\n",
      "Sweden                     1\n",
      "Slovenia                   1\n",
      "Czech Republic             1\n",
      "Name: count, dtype: int64\n"
     ]
    }
   ],
   "source": [
    "disney_df_copy = disney_df.copy()\n",
    "disney_df_copy['country'] = disney_df_copy['country'].str.split(',')\n",
    "disney_df_copy['country'] = disney_df_copy['country'].apply(lambda x: [country.strip() for country in x])\n",
    "disney_df_countries = disney_df_copy.explode('country')\n",
    "disney_movies_per_country = disney_df_countries['country'].value_counts()\n",
    "print(disney_movies_per_country)"
   ]
  },
  {
   "cell_type": "code",
   "execution_count": 38,
   "metadata": {},
   "outputs": [
    {
     "name": "stdout",
     "output_type": "stream",
     "text": [
      "Nicht plasible Länder\n",
      "Alle Länder sind plausibel\n"
     ]
    }
   ],
   "source": [
    "d_invalid_countries = disney_df['country'].apply(lambda x: [country.strip() for country in str(x).split(',') if country.strip() != 'unknown' and not is_valid_country(country.strip())])\n",
    "\n",
    "print('Nicht plasible Länder')\n",
    "if len(d_invalid_countries[d_invalid_countries.apply(len) > 0]) == 0:\n",
    "    print('Alle Länder sind plausibel')\n",
    "else:\n",
    "    print(d_invalid_countries[d_invalid_countries.apply(len) > 0])"
   ]
  },
  {
   "cell_type": "markdown",
   "metadata": {},
   "source": [
    "### <a id='toc5_1_4_'></a>[2.1.4 Netflix - 3 falsche Rating](#toc0_)\n",
    "\n",
    "\n",
    "1. `values_to_find`\n",
    "2. Finde die Zeilen, die diese Werte in der Spalte `rating` enthalten.\n",
    "3. Aktualisiere die Spalte `duration` mit diesen Werten.\n",
    "4. Setze den Wert in der Spalte `rating` auf 'UR'.\n",
    "5. Gib die aktualisierten Zeilen aus."
   ]
  },
  {
   "cell_type": "code",
   "execution_count": 39,
   "metadata": {},
   "outputs": [
    {
     "name": "stdout",
     "output_type": "stream",
     "text": [
      "'66 min' befindet sich in den Zeilen [5813] in der Spalte 'rating'\n",
      "'74 min' befindet sich in den Zeilen [5541] in der Spalte 'rating'\n",
      "'84 min' befindet sich in den Zeilen [5794] in der Spalte 'rating'\n"
     ]
    }
   ],
   "source": [
    "# Zeilen finden, die die Werte '66 min', '74 min' oder '84 min' in der Spalte 'rating' enthalten\n",
    "values_to_find = ['66 min', '74 min', '84 min']\n",
    "for value in values_to_find:\n",
    "    rows = netflix_df[netflix_df['rating'] == value].index.tolist()\n",
    "    if rows:\n",
    "        print(f\"'{value}' befindet sich in den Zeilen {rows} in der Spalte 'rating'\")"
   ]
  },
  {
   "cell_type": "code",
   "execution_count": 40,
   "metadata": {},
   "outputs": [
    {
     "name": "stdout",
     "output_type": "stream",
     "text": [
      "Zeilen für '66 min' in der Spalte 'rating':\n",
      "     show_id   type                                 title    director  \\\n",
      "5813   s5814  Movie  Louis C.K.: Live at the Comedy Store  Louis C.K.   \n",
      "\n",
      "            cast        country  rating duration listed_in  \\\n",
      "5813  Louis C.K.  United States  66 min      NaN    Movies   \n",
      "\n",
      "                                            description  \n",
      "5813  The comic puts his trademark hilarious/thought...  \n",
      "Zeilen für '74 min' in der Spalte 'rating':\n",
      "     show_id   type            title    director        cast        country  \\\n",
      "5541   s5542  Movie  Louis C.K. 2017  Louis C.K.  Louis C.K.  United States   \n",
      "\n",
      "      rating duration listed_in  \\\n",
      "5541  74 min      NaN    Movies   \n",
      "\n",
      "                                            description  \n",
      "5541  Louis C.K. muses on religion, eternal love, gi...  \n",
      "Zeilen für '84 min' in der Spalte 'rating':\n",
      "     show_id   type                  title    director        cast  \\\n",
      "5794   s5795  Movie  Louis C.K.: Hilarious  Louis C.K.  Louis C.K.   \n",
      "\n",
      "            country  rating duration listed_in  \\\n",
      "5794  United States  84 min      NaN    Movies   \n",
      "\n",
      "                                            description  \n",
      "5794  Emmy-winning comedy writer Louis C.K. brings h...  \n"
     ]
    }
   ],
   "source": [
    "# Zeilen mit den Werten '66 min', '74 min' oder '84 min' in der Spalte 'rating' ausgeben\n",
    "for value in values_to_find:\n",
    "    rows = netflix_df[netflix_df['rating'] == value]\n",
    "    if not rows.empty:\n",
    "        print(f\"Zeilen für '{value}' in der Spalte 'rating':\")\n",
    "        print(rows)"
   ]
  },
  {
   "cell_type": "code",
   "execution_count": 41,
   "metadata": {},
   "outputs": [
    {
     "name": "stdout",
     "output_type": "stream",
     "text": [
      "     show_id   type                                 title    director  \\\n",
      "5813   s5814  Movie  Louis C.K.: Live at the Comedy Store  Louis C.K.   \n",
      "5541   s5542  Movie                       Louis C.K. 2017  Louis C.K.   \n",
      "5794   s5795  Movie                 Louis C.K.: Hilarious  Louis C.K.   \n",
      "\n",
      "            cast        country rating duration listed_in  \\\n",
      "5813  Louis C.K.  United States     UR   66 min    Movies   \n",
      "5541  Louis C.K.  United States     UR   74 min    Movies   \n",
      "5794  Louis C.K.  United States     UR   84 min    Movies   \n",
      "\n",
      "                                            description  \n",
      "5813  The comic puts his trademark hilarious/thought...  \n",
      "5541  Louis C.K. muses on religion, eternal love, gi...  \n",
      "5794  Emmy-winning comedy writer Louis C.K. brings h...  \n"
     ]
    }
   ],
   "source": [
    "# die 3 falsche Zeilen korrigieren\n",
    "for value in values_to_find:\n",
    "    rows = netflix_df[netflix_df['rating'] == value]\n",
    "    if not rows.empty:\n",
    "        netflix_df.loc[netflix_df['rating'] == value, 'duration'] = value\n",
    "        netflix_df.loc[netflix_df['rating'] == value, 'rating'] = 'UR'\n",
    "\n",
    "\n",
    "# Zeilen 5813, 5541 und 5794 ausgeben um wiederholt zu überprüfen\n",
    "print(netflix_df.loc[[5813, 5541, 5794]])"
   ]
  },
  {
   "cell_type": "markdown",
   "metadata": {},
   "source": [
    "## <a id='toc5_2_'></a>[2.2 Speichern der gecleanten DF's](#toc0_)"
   ]
  },
  {
   "cell_type": "code",
   "execution_count": 42,
   "metadata": {},
   "outputs": [],
   "source": [
    "netflix_df.to_csv('../1_Datenset/erstellte/cleaned/netflix_titles_cleaned.csv', index=False)\n",
    "\n",
    "disney_df.to_csv('../1_Datenset/erstellte/cleaned/disney_plus_titles_cleaned.csv', index=False)"
   ]
  },
  {
   "cell_type": "markdown",
   "metadata": {},
   "source": [
    "## <a id='toc5_3_'></a>[2.3 Zusammenführen](#toc0_)\n",
    "\n",
    "Hier werden die 2 Datensätze zusammengeführt zu eine einzige Datensatz, dabei werden die Platforme (Netflix und Disney+) in eine extra Spalte gespeichert."
   ]
  },
  {
   "cell_type": "code",
   "execution_count": 43,
   "metadata": {},
   "outputs": [
    {
     "name": "stdout",
     "output_type": "stream",
     "text": [
      "  show_id   type                                             title  \\\n",
      "0      s1  Movie                              Dick Johnson Is Dead   \n",
      "1      s2  Movie  Duck the Halls: A Mickey Mouse Christmas Special   \n",
      "2      s3  Movie             A Muppets Christmas: Letters To Santa   \n",
      "3      s4  Movie                                      The Starling   \n",
      "4      s5  Movie                       Confessions of a Shopaholic   \n",
      "\n",
      "                            director  \\\n",
      "0                    Kirsten Johnson   \n",
      "1  Alonso Ramirez Ramos, Dave Wasson   \n",
      "2                   Kirk R. Thatcher   \n",
      "3                     Theodore Melfi   \n",
      "4                         P.J. Hogan   \n",
      "\n",
      "                                                cast        country agerating  \\\n",
      "0                                            unknown  United States     PG-13   \n",
      "1  Chris Diamantopoulos, Tony Anselmo, Tress MacN...        unknown      TV-G   \n",
      "2  Steve Whitmire, Dave Goelz, Bill Barretta, Eri...  United States         G   \n",
      "3  Melissa McCarthy, Chris O'Dowd, Kevin Kline, T...  United States     PG-13   \n",
      "4  Isla Fisher, Hugh Dancy, Joan Cusack, John Goo...  United States        PG   \n",
      "\n",
      "  duration                         listed_in  \\\n",
      "0   90 min                     Documentaries   \n",
      "1   23 min                 Animation, Family   \n",
      "2   45 min           Comedy, Family, Musical   \n",
      "3  104 min                  Comedies, Dramas   \n",
      "4  106 min  Comedy, Romance, Romantic Comedy   \n",
      "\n",
      "                                         description platform  \n",
      "0  As her father nears the end of his life, filmm...  Netflix  \n",
      "1   Join Mickey and the gang as they duck the halls!  Disney+  \n",
      "2  Celebrate the holiday season with all your fav...  Disney+  \n",
      "3  A woman adjusting to life after a loss contend...  Netflix  \n",
      "4  Becky writes a personal finance column en rout...  Disney+  \n"
     ]
    }
   ],
   "source": [
    "# Pfade zu den gecleanten CSV-Dateien\n",
    "netflix_cleaned_file = '../1_Datenset/erstellte/cleaned/netflix_titles_cleaned.csv'\n",
    "disney_cleaned_file = '../1_Datenset/erstellte/cleaned/disney_plus_titles_cleaned.csv'\n",
    "\n",
    "# Lädt die Netflix CSV-Datei und füge eine Spalte für die Plattform hinzu\n",
    "netflix_cleaned_df = pd.read_csv(netflix_cleaned_file)\n",
    "netflix_cleaned_df['platform'] = 'Netflix'\n",
    "\n",
    "# Lädt die Disney+ CSV-Datei und füge eine Spalte für die Plattform hinzu\n",
    "disney_cleaned_df = pd.read_csv(disney_cleaned_file)\n",
    "disney_cleaned_df['platform'] = 'Disney+'\n",
    "\n",
    "# Findet gemeinsame Titel\n",
    "common_titles_cleaned = set(netflix_cleaned_df['title']).intersection(set(disney_cleaned_df['title']))\n",
    "\n",
    "# Markiert gemeinsame Titel in beiden DataFrames\n",
    "netflix_cleaned_df['platform'] = netflix_cleaned_df.apply(lambda row: 'Netflix, Disney+' if row['title'] in common_titles_cleaned else 'Netflix', axis=1)\n",
    "disney_cleaned_df['platform'] = disney_cleaned_df.apply(lambda row: 'Netflix, Disney+' if row['title'] in common_titles_cleaned else 'Disney+', axis=1)\n",
    "\n",
    "# Kombiniert die DataFrames\n",
    "df = pd.concat([netflix_cleaned_df, disney_cleaned_df], ignore_index=True)\n",
    "\n",
    "#Entfernt doppelte Einträge\n",
    "df = df.drop_duplicates(subset=['title'])\n",
    "\n",
    "# Benennt die Spalte 'rating' in 'agerating' um\n",
    "df.rename(columns={'rating': 'agerating'}, inplace=True)\n",
    "\n",
    "# Gruppiert nach allen Spalten außer 'platform' und kombiniere die Plattformen\n",
    "df = df.groupby(['show_id', 'type', 'title', 'director', 'cast', 'country', 'agerating', 'duration', 'listed_in', 'description'], as_index=False).agg({'platform': lambda x: ', '.join(sorted(set(x)))})\n",
    "\n",
    "# Neuverteilung der show_id von oben nach unten in der Form 's1', 's2', ...\n",
    "df['show_id'] = ['s' + str(i+1) for i in range(len(df))]\n",
    "\n",
    "# Gibt das kombinierte DataFrame aus\n",
    "print(df.head())\n"
   ]
  },
  {
   "cell_type": "code",
   "execution_count": 44,
   "metadata": {},
   "outputs": [
    {
     "name": "stdout",
     "output_type": "stream",
     "text": [
      "<class 'pandas.core.frame.DataFrame'>\n",
      "RangeIndex: 10207 entries, 0 to 10206\n",
      "Data columns (total 11 columns):\n",
      " #   Column       Non-Null Count  Dtype \n",
      "---  ------       --------------  ----- \n",
      " 0   show_id      10207 non-null  object\n",
      " 1   type         10207 non-null  object\n",
      " 2   title        10207 non-null  object\n",
      " 3   director     10207 non-null  object\n",
      " 4   cast         10207 non-null  object\n",
      " 5   country      10207 non-null  object\n",
      " 6   agerating    10207 non-null  object\n",
      " 7   duration     10207 non-null  object\n",
      " 8   listed_in    10207 non-null  object\n",
      " 9   description  10207 non-null  object\n",
      " 10  platform     10207 non-null  object\n",
      "dtypes: object(11)\n",
      "memory usage: 877.3+ KB\n",
      "None\n"
     ]
    }
   ],
   "source": [
    "print(df.info())"
   ]
  },
  {
   "cell_type": "code",
   "execution_count": 45,
   "metadata": {},
   "outputs": [
    {
     "name": "stdout",
     "output_type": "stream",
     "text": [
      "Einzigartige Werte in der Spalte 'platform': ['Netflix' 'Disney+' 'Netflix, Disney+']\n",
      "Anzahl der Netflix-Einträge: 8760\n",
      "Anzahl der Disney+-Einträge: 1404\n",
      "Anzahl der Einträge auf beiden Plattformen: 43\n"
     ]
    }
   ],
   "source": [
    "# Zeigt die eindeutigen Werte in der Spalte 'platform'\n",
    "unique_platforms = df['platform'].unique()\n",
    "print(f\"Einzigartige Werte in der Spalte 'platform': {unique_platforms}\")\n",
    "\n",
    "# Zählt die Anzahl der Einträge für jede Plattform\n",
    "cleaned_netflix_count = df[df['platform'] == 'Netflix'].shape[0]\n",
    "cleaned_disney_count = df[df['platform'] == 'Disney+'].shape[0]\n",
    "cleaned_both_count = df[df['platform'] == 'Netflix, Disney+'].shape[0]\n",
    "\n",
    "print(f\"Anzahl der Netflix-Einträge: {cleaned_netflix_count}\")\n",
    "print(f\"Anzahl der Disney+-Einträge: {cleaned_disney_count}\")\n",
    "print(f\"Anzahl der Einträge auf beiden Plattformen: {cleaned_both_count}\")"
   ]
  },
  {
   "cell_type": "markdown",
   "metadata": {},
   "source": [
    "## <a id='toc5_4_'></a>[2.4 Genres vereinfachen](#toc0_)\n",
    "\n",
    "zu viele vorhanden oder zum beispiel nur andere schriftweise: 'Action & Adventure' = 'Action-Adventure'"
   ]
  },
  {
   "cell_type": "code",
   "execution_count": 46,
   "metadata": {},
   "outputs": [
    {
     "name": "stdout",
     "output_type": "stream",
     "text": [
      "['Documentary' 'Children & Family' 'Animation' 'Comedy' 'Music & Musicals'\n",
      " 'Drama' 'Romance' 'International' 'Thriller & Krimi' 'Action & Adventure'\n",
      " 'Sci-Fi & Fantasy' 'Teen & Coming of Age' 'Science & Nature' 'Sport'\n",
      " 'Independent' 'Historical' 'Horror' 'Reality' 'LGBTQ Movies' 'Classic'\n",
      " 'Entertainment' 'Lifestyle' 'Series' 'Western' 'Movies']\n",
      "Anzahl der einzigartigen Genres: 25\n"
     ]
    }
   ],
   "source": [
    "df = pd.read_csv(\"../1_Datenset/erstellte/fertig/shows.csv\")\n",
    "df_copy = df.copy()\n",
    "df_copy['listed_in'] = df_copy['listed_in'].str.split(',')\n",
    "\n",
    "# NaN-Werte durch leere Listen ersetzen\n",
    "df_copy['listed_in'] = df_copy['listed_in'].apply(lambda x: [] if isinstance(x, float) and pd.isna(x) else x)\n",
    "\n",
    "df_copy['listed_in'] = df_copy['listed_in'].apply(lambda x: [genre.strip() for genre in x])\n",
    "df_genres = df_copy.explode('listed_in')\n",
    "df_genres['listed_in'] = df_genres['listed_in'].str.strip()\n",
    "all_genres = df_genres['listed_in'].unique()\n",
    "print(all_genres)\n",
    "anzahl_genres = len(all_genres)\n",
    "print(f\"Anzahl der einzigartigen Genres: {anzahl_genres}\")"
   ]
  },
  {
   "cell_type": "code",
   "execution_count": 47,
   "metadata": {},
   "outputs": [],
   "source": [
    "# Genres umbennen und damit gruppieren damit sie übersichtlicher werden\n",
    "def rewrite_genres(genres):\n",
    "    rewritten_genres = []\n",
    "    for genre in genres:\n",
    "        if genre in ['Action-Adventure', 'TV Action & Adventure', 'Superhero', 'Survival', 'Spy/Espionage']:\n",
    "            rewritten_genres.append('Action & Adventure')\n",
    "        elif genre in ['Documentaries', 'Docuseries']:\n",
    "            rewritten_genres.append('Documentary')\n",
    "        elif genre in ['Dramas', 'TV Dramas', 'Soap Opera / Melodrama']:\n",
    "            rewritten_genres.append('Drama')    \n",
    "        elif genre in ['Disaster', 'Crime', 'Mystery', 'TV Mysteries', 'TV Thrillers', 'Police/Cop', 'Crime TV Shows', 'Thrillers', 'Thriller']:\n",
    "            rewritten_genres.append('Thriller & Krimi')\n",
    "        elif genre in ['Comedies', 'TV Comedies', 'Stand-Up Comedy', 'Parody', 'Talk Show', 'Stand-Up Comedy & Talk Shows', 'Buddy']:\n",
    "            rewritten_genres.append('Comedy')\n",
    "        elif genre in ['Romantic Comedy', 'Romantic Movies', 'Romantic TV Shows']:\n",
    "            rewritten_genres.append('Romance')\n",
    "        elif genre in ['Music', 'Musical', 'Dance', 'Concert Film']:\n",
    "            rewritten_genres.append('Music & Musicals')\n",
    "        elif genre in ['Anime Series', 'Anime Features', 'Anime']:\n",
    "            rewritten_genres.append('Animation')\n",
    "        elif genre in ['Animals & Nature', 'Travel', 'Medical', 'Science & Nature TV']:\n",
    "            rewritten_genres.append('Science & Nature')\n",
    "        elif genre in ['Fantasy', 'Science Fiction', 'TV Sci-Fi & Fantasy']:\n",
    "            rewritten_genres.append('Sci-Fi & Fantasy')\n",
    "        elif genre in ['Kids', 'Family', 'Children & Family Movies', \"Kids' TV\"]:\n",
    "            rewritten_genres.append('Children & Family')\n",
    "        elif genre in ['Classic Movies', 'Classic & Cult TV', 'Cult Movies']:\n",
    "            rewritten_genres.append('Classic')\n",
    "        elif genre in ['Teen TV Shows', 'Coming of Age', 'LQBTQ Movies', 'Teen']:\n",
    "            rewritten_genres.append('Teen & Coming of Age')\n",
    "        elif genre in ['Biographical']:\n",
    "            rewritten_genres.append('Historical')\n",
    "        elif genre in ['TV Horror', 'Horror Movies']:\n",
    "            rewritten_genres.append('Horror')\n",
    "        elif genre in ['Sports Movies', 'Sports']:\n",
    "            rewritten_genres.append('Sport')\n",
    "        elif genre in ['British TV Shows', 'Spanish-Language TV Shows', 'Korean TV Shows', 'International Movies', 'International TV Shows']:\n",
    "            rewritten_genres.append('International')\n",
    "        elif genre in ['Reality TV']:\n",
    "            rewritten_genres.append('Reality')\n",
    "        elif genre in ['Independent Movies']:\n",
    "            rewritten_genres.append('Independent')\n",
    "        elif genre in ['Anthology', 'Variety', 'Game Show / Competition']:\n",
    "            rewritten_genres.append('Entertainment')\n",
    "        elif genre in ['Faith & Spirituality', 'Lifestyle']:\n",
    "            rewritten_genres.append('Lifestyle')\n",
    "        elif genre in ['TV Shows']:\n",
    "            rewritten_genres.append('Series')\n",
    "        else:\n",
    "            rewritten_genres.append(genre)\n",
    "    unique_genres = list(set(rewritten_genres))\n",
    "    return ', '.join(unique_genres)"
   ]
  },
  {
   "cell_type": "code",
   "execution_count": 48,
   "metadata": {},
   "outputs": [
    {
     "name": "stdout",
     "output_type": "stream",
     "text": [
      "Namen der Genres: ['Documentary' 'Children & Family' 'Animation' 'Comedy' 'Music & Musicals'\n",
      " 'Drama' 'Romance' 'Thriller & Krimi' 'International' 'Action & Adventure'\n",
      " 'Sci-Fi & Fantasy' 'Teen & Coming of Age' 'Science & Nature' 'Sport'\n",
      " 'Independent' 'Historical' 'Horror' 'Reality' 'LGBTQ Movies' 'Classic'\n",
      " 'Entertainment' 'Lifestyle' 'Series' 'Western' 'Movies']\n",
      "Anzahl der einzigartigen Genres: 25\n",
      "Anzahl der Genres:\n",
      "International           4268\n",
      "Drama                   3319\n",
      "Comedy                  3157\n",
      "Children & Family       1816\n",
      "Documentary             1551\n",
      "Action & Adventure      1464\n",
      "Thriller & Krimi        1190\n",
      "Romance                 1007\n",
      "Animation                774\n",
      "Independent              756\n",
      "Sci-Fi & Fantasy         590\n",
      "Music & Musicals         466\n",
      "Horror                   432\n",
      "Science & Nature         301\n",
      "Reality                  281\n",
      "Teen & Coming of Age     268\n",
      "Sport                    261\n",
      "Classic                  202\n",
      "LGBTQ Movies             102\n",
      "Historical                86\n",
      "Lifestyle                 73\n",
      "Movies                    59\n",
      "Entertainment             46\n",
      "Series                    19\n",
      "Western                    7\n",
      "Name: count, dtype: int64\n"
     ]
    }
   ],
   "source": [
    "# Umschreibung für Gruppierung\n",
    "df['listed_in'] = df['listed_in'].str.split(', ').apply(rewrite_genres)\n",
    "df_genre2 = df['listed_in'].str.split(', ', expand=True).stack()\n",
    "unique_genres = df_genre2.unique()\n",
    "print(\"Namen der Genres:\", unique_genres)\n",
    "unique_genres = len(unique_genres)\n",
    "print(f\"Anzahl der einzigartigen Genres: {unique_genres}\")\n",
    "df_genre_counts2 = df_genre2.value_counts()\n",
    "\n",
    "print(\"Anzahl der Genres:\")\n",
    "print(df_genre_counts2)\n",
    "\n",
    "# Speichert das kombinierte DataFrame in einer neuen CSV-Datei\n",
    "df.to_csv('../1_Datenset/erstellte/fertig/shows.csv', index=False)"
   ]
  },
  {
   "cell_type": "markdown",
   "metadata": {},
   "source": [
    "# <a id='toc6_'></a>[3 Encoding & Features Engineering](#toc0_)\n",
    "\n",
    "Um ein Machine-Learning-Modell zur Filmempfehlung zu trainieren, müssen die Eingabedaten in numerische, strukturierte Form gebracht werden. Dazu gehört:\n",
    "\n",
    "- extract_duration: Extrahiert Minuten aus einem Textfeld.\n",
    "- Altersfreigabe (agerating) wird numerisch kodiert (z. B. \"PG\" → 10 Jahre).\n",
    "- Genres und Plattformen werden in Multi-Hot-Encoding umgewandelt mit MultiLabelBinarizer.\n",
    "\n",
    "Diese Schritte ermöglichen es Algorithmen, die Daten mathematisch zu verarbeiten und Zusammenhänge zu lernen. Diese Spalten helfen später im Modell.\n",
    "\n",
    "## <a id='toc6_1_'></a>[3.1 Nummerische Features vorbereiten](#toc0_)\n",
    "\n",
    "### <a id='toc6_1_1_'></a>[3.1.1 Duration](#toc0_)\n",
    "\n",
    "Viele Filme haben Angaben wie „90 min“ oder „1 Season“. Diese müssen in numerische Minuten umgerechnet werden, damit sie vergleichbar sind.\n",
    "- für Serien nehmen wir dne durchschnittlichen 45 Minuten für eine Folge da wir nicht wissen wie viele Folgen eine Stafel hat.\n"
   ]
  },
  {
   "cell_type": "code",
   "execution_count": 49,
   "metadata": {},
   "outputs": [],
   "source": [
    "df = pd.read_csv(\"../1_Datenset/erstellte/fertig/shows.csv\")\n",
    "\n",
    "def extract_duration(duration):\n",
    "    \"\"\"Extrahiert die Dauer in Minuten aus dem Text.\"\"\"\n",
    "    match = re.search(r\"(\\d+)\", str(duration))\n",
    "    if match:\n",
    "        return int(match.group(1))\n",
    "    return None  # Falls keine Zahl gefunden wird\n",
    "\n",
    "df[\"duration_minutes\"] = df[\"duration\"].apply(extract_duration)\n",
    "\n",
    "# Falls \"Seasons\" in der Dauer steht, eine Standardlänge annehmen (45 Min. pro Episode)\n",
    "df.loc[df[\"duration\"].str.contains(\"Season\", na=False), \"duration_minutes\"] = 45\n",
    "\n",
    "# Fehlende Werte mit Median füllen\n",
    "df[\"duration_scaled\"] = df[\"duration_minutes\"].fillna(df[\"duration_minutes\"].median())"
   ]
  },
  {
   "cell_type": "markdown",
   "metadata": {},
   "source": [
    "### <a id='toc6_1_2_'></a>[3.1.2 Altersfreigabe](#toc0_)"
   ]
  },
  {
   "cell_type": "code",
   "execution_count": 50,
   "metadata": {},
   "outputs": [],
   "source": [
    "agerating_map = { \"G\": 0, \"TV-Y\": 0, \"TV-G\": 0, \"PG\": 10, \"TV-Y7\": 7, \"TV-Y7-FV\": 7, \"TV-PG\": 10, \"PG-13\": 13, \"R\": 17, \"TV-14\": 14, \"NC-17\": 18, \"TV-MA\": 17, \"NR\": -1, \"UR\": -1 } \n",
    "df[\"agerating_encoded\"] = df[\"agerating\"].map(agerating_map).fillna(-1)"
   ]
  },
  {
   "cell_type": "markdown",
   "metadata": {},
   "source": [
    "### <a id='toc6_1_3_'></a>[3.1.3 Normalisierung](#toc0_)\n",
    "\n",
    "Die Dauer und Altersfreigabe werden zusätzlich mit MinMaxScaler normalisiert, um sie in ein einheitliches Verhältnis zu bringen. Ohne Normalisierung würde z. B. die Dauer (z. B. 90 Minuten) numerisch stärker gewichtet als eine Altersfreigabe von 0–18 – was dein Modell verzerren kann.\n",
    "\n",
    "Beispiel:\n",
    "- PG-13 → 13 → 0.38 (normalisiert, wenn 0–18 als Range)"
   ]
  },
  {
   "cell_type": "code",
   "execution_count": 51,
   "metadata": {},
   "outputs": [
    {
     "name": "stdout",
     "output_type": "stream",
     "text": [
      "       agerating_scaled  duration_scaled\n",
      "0              0.736842         0.286174\n",
      "1              0.052632         0.070740\n",
      "2              0.052632         0.141479\n",
      "3              0.736842         0.331190\n",
      "4              0.578947         0.337621\n",
      "...                 ...              ...\n",
      "10202          0.052632         0.019293\n",
      "10203          0.421053         0.141479\n",
      "10204          0.578947         0.141479\n",
      "10205          0.578947         0.353698\n",
      "10206          0.789474         0.183280\n",
      "\n",
      "[10207 rows x 2 columns]\n"
     ]
    }
   ],
   "source": [
    "scaler = MinMaxScaler()\n",
    "\n",
    "# Altersfreigabe & Dauer normalisieren\n",
    "df[[\"agerating_scaled\", \"duration_scaled\"]] = scaler.fit_transform(df[[\"agerating_encoded\", \"duration_minutes\"]])\n",
    "print(df[[\"agerating_scaled\", \"duration_scaled\"]])"
   ]
  },
  {
   "cell_type": "markdown",
   "metadata": {},
   "source": [
    "## <a id='toc6_2_'></a>[3.2 Multi-Label-Encoding](#toc0_)\n",
    "\n",
    "Ein Film kann mehrere Genres und Plattformen gleichzeitig haben. Diese werden in Listen umgewandelt und anschließend mit dem MultiLabelBinarizer als binäre Spalten kodiert.\n",
    "\n",
    "Beispiel:\n",
    "\n",
    "- Genres: ['Horror', 'Thriller']\n",
    "→ Horror = 1, Thriller = 1, Comedy = 0, Drama = 0, …\n",
    "\n",
    "#### <a id='toc6_2_1_1_'></a>[3.2.1 Genres](#toc0_)"
   ]
  },
  {
   "cell_type": "code",
   "execution_count": 52,
   "metadata": {},
   "outputs": [],
   "source": [
    "df[\"genre_list\"] = df[\"listed_in\"].apply(lambda x: x.split(\", \") if pd.notna(x) else []) \n",
    "\n",
    "mlb_genres = MultiLabelBinarizer()\n",
    "\n",
    "# DataFrame mit Genres als Spalten erstellen\n",
    "genre_encoded = pd.DataFrame(mlb_genres.fit_transform(df[\"genre_list\"]), columns=[\"genre_\" + g for g in mlb_genres.classes_])"
   ]
  },
  {
   "cell_type": "markdown",
   "metadata": {},
   "source": [
    "### <a id='toc6_2_2_'></a>[3.2.2 Plattformen](#toc0_)\n",
    "\n",
    "Beispiel:\n",
    "- Plattform = „Netflix“ → Netflix = 1, Disney+ = 0"
   ]
  },
  {
   "cell_type": "code",
   "execution_count": 53,
   "metadata": {},
   "outputs": [],
   "source": [
    "df[\"platform_list\"] = df[\"platform\"].apply(lambda x: x.split(\", \") if pd.notna(x) else []) \n",
    "\n",
    "mlb_platform = MultiLabelBinarizer()\n",
    "\n",
    "platform_encoded = pd.DataFrame(mlb_platform.fit_transform(df[\"platform_list\"]), columns=[\"platform_\" + p for p in mlb_platform.classes_])\n",
    "\n",
    "# Index anpassen, falls nicht automatisch übernommen\n",
    "genre_encoded.index = df.index\n",
    "platform_encoded.index = df.index\n",
    "\n",
    "# --- Zusammenfügen (jetzt ohne Duplikat-Fehler) ---\n",
    "# Nur wenn genre_*-Spalten (außer 'genre_list') noch nicht im DataFrame sind\n",
    "if not any(col.startswith(\"genre_\") and col != \"genre_list\" for col in df.columns):\n",
    "    mlb_genres = MultiLabelBinarizer()\n",
    "    genre_encoded = pd.DataFrame(mlb_genres.fit_transform(df[\"genre_list\"]), \n",
    "                                 columns=[\"genre_\" + g for g in mlb_genres.classes_],\n",
    "                                 index=df.index)\n",
    "    df = pd.concat([df, genre_encoded], axis=1)\n",
    "\n",
    "# Nur wenn platform_*-Spalten (außer 'platform_list') noch nicht im DataFrame sind\n",
    "if not any(col.startswith(\"platform_\") and col != \"platform_list\" for col in df.columns):\n",
    "    mlb_platform = MultiLabelBinarizer()\n",
    "    platform_encoded = pd.DataFrame(mlb_platform.fit_transform(df[\"platform_list\"]), \n",
    "                                    columns=[\"platform_\" + p for p in mlb_platform.classes_],\n",
    "                                    index=df.index)\n",
    "    df = pd.concat([df, platform_encoded], axis=1)\n"
   ]
  },
  {
   "cell_type": "code",
   "execution_count": 54,
   "metadata": {},
   "outputs": [
    {
     "name": "stdout",
     "output_type": "stream",
     "text": [
      "<class 'pandas.core.frame.DataFrame'>\n",
      "RangeIndex: 10207 entries, 0 to 10206\n",
      "Data columns (total 46 columns):\n",
      " #   Column                      Non-Null Count  Dtype  \n",
      "---  ------                      --------------  -----  \n",
      " 0   show_id                     10207 non-null  object \n",
      " 1   type                        10207 non-null  object \n",
      " 2   title                       10207 non-null  object \n",
      " 3   director                    10207 non-null  object \n",
      " 4   cast                        10207 non-null  object \n",
      " 5   country                     10207 non-null  object \n",
      " 6   agerating                   10207 non-null  object \n",
      " 7   duration                    10207 non-null  object \n",
      " 8   listed_in                   10207 non-null  object \n",
      " 9   description                 10207 non-null  object \n",
      " 10  platform                    10207 non-null  object \n",
      " 11  duration_minutes            10207 non-null  int64  \n",
      " 12  duration_scaled             10207 non-null  float64\n",
      " 13  agerating_encoded           10207 non-null  int64  \n",
      " 14  agerating_scaled            10207 non-null  float64\n",
      " 15  genre_list                  10207 non-null  object \n",
      " 16  platform_list               10207 non-null  object \n",
      " 17  genre_Action & Adventure    10207 non-null  int64  \n",
      " 18  genre_Animation             10207 non-null  int64  \n",
      " 19  genre_Children & Family     10207 non-null  int64  \n",
      " 20  genre_Classic               10207 non-null  int64  \n",
      " 21  genre_Comedy                10207 non-null  int64  \n",
      " 22  genre_Documentary           10207 non-null  int64  \n",
      " 23  genre_Drama                 10207 non-null  int64  \n",
      " 24  genre_Entertainment         10207 non-null  int64  \n",
      " 25  genre_Historical            10207 non-null  int64  \n",
      " 26  genre_Horror                10207 non-null  int64  \n",
      " 27  genre_Independent           10207 non-null  int64  \n",
      " 28  genre_International         10207 non-null  int64  \n",
      " 29  genre_LGBTQ Movies          10207 non-null  int64  \n",
      " 30  genre_Lifestyle             10207 non-null  int64  \n",
      " 31  genre_Movies                10207 non-null  int64  \n",
      " 32  genre_Music & Musicals      10207 non-null  int64  \n",
      " 33  genre_Reality               10207 non-null  int64  \n",
      " 34  genre_Romance               10207 non-null  int64  \n",
      " 35  genre_Sci-Fi & Fantasy      10207 non-null  int64  \n",
      " 36  genre_Science & Nature      10207 non-null  int64  \n",
      " 37  genre_Series                10207 non-null  int64  \n",
      " 38  genre_Sport                 10207 non-null  int64  \n",
      " 39  genre_Teen & Coming of Age  10207 non-null  int64  \n",
      " 40  genre_Thriller & Krimi      10207 non-null  int64  \n",
      " 41  genre_Western               10207 non-null  int64  \n",
      " 42  platform_Disney+            10207 non-null  int64  \n",
      " 43  platform_Netflix            10207 non-null  int64  \n",
      " 44  anlass_rule                 10207 non-null  object \n",
      " 45  combined_text               10207 non-null  object \n",
      "dtypes: float64(2), int64(29), object(15)\n",
      "memory usage: 3.6+ MB\n",
      "None\n"
     ]
    }
   ],
   "source": [
    "print(df.info()) "
   ]
  },
  {
   "cell_type": "markdown",
   "metadata": {},
   "source": [
    "\n",
    "## <a id='toc6_3_'></a>[3.3 TF-IDF Vektorisierung](#toc0_)\n",
    "\n",
    "Für Freitextfelder wie Titel, Beschreibung, Regisseur und Schauspieler werden Vektoren berechnet, die deren Bedeutung abbilden. So können Filme mit ähnlichem Inhalt verglichen werden.\n",
    "\n",
    "Beispiel:\n",
    "- Beschreibung: \"A terrifying night full of ghosts and monsters.\"\n",
    "→ TF-IDF-Feature für \"ghosts\", \"monsters\", \"terrifying\" wird hoch gewichtet"
   ]
  },
  {
   "cell_type": "code",
   "execution_count": 55,
   "metadata": {},
   "outputs": [],
   "source": [
    "# --- TF-IDF Vektorisierer initialisieren ---\n",
    "desc_vectorizer = TfidfVectorizer(stop_words=\"english\", max_features=500)\n",
    "title_vectorizer = TfidfVectorizer(stop_words=\"english\", max_features=500)\n",
    "\n",
    "# --- Vektoren erzeugen ---\n",
    "tfidf_desc = desc_vectorizer.fit_transform(df[\"description\"].fillna(\"\"))\n",
    "tfidf_title = title_vectorizer.fit_transform(df[\"title\"].fillna(\"\"))\n"
   ]
  },
  {
   "cell_type": "markdown",
   "metadata": {},
   "source": [
    "# <a id='toc7_'></a>[4 Modellierung](#toc0_)\n",
    "\n",
    "Zur automatisierten Einordnung von Filmen in unterschiedliche Anlässe (z. B. „Halloween Night“, „Date Night“, „Family Night“) wird ein mehrstufiger Hybrid-Ansatz verwendet:\n",
    "\n",
    "1. Regelbasierte Zuweisung für offensichtliche Fälle (z. B. Titel enthält „Christmas“)\n",
    "2. Textanalyse via TF-IDF (für versteckte Keywords wie „ghost“, „romantic“, …)\n",
    "3. Supervised Learning (Random Forest) zur Vorhersage der übrigen Fälle\n",
    "4. Grafik 3 - Darstellung der Anlässe\n",
    "\n",
    "## <a id='toc7_1_'></a>[4.1 Regelbasierte Anlass-Zuweisung](#toc0_)\n",
    "\n",
    "Für klar erkennbare Filme mit offensichtlichen Merkmalen (z. B. „Christmas“ im Titel oder Genre „Horror“) nutzen wir einfache Regeln zur Anlass-Zuweisung. Ein Film kann dabei mehreren Anlässen zugeordnet werden."
   ]
  },
  {
   "cell_type": "code",
   "execution_count": 56,
   "metadata": {},
   "outputs": [],
   "source": [
    "# Keyword-Listen \n",
    "christmas_keywords = [\"christmas\", \"xmas\", \"santa\", \"holiday\", \"snow\", \"north pole\", \"reindeer\", \"elf\", \"noel\", \"yuletide\"]\n",
    "halloween_keywords = [\"halloween\", \"horror\", \"scary\", \"ghost\", \"haunted\", \"vampire\", \"zombie\", \"monster\", \"creepy\", \"witch\", \"pumpkin\", \"blood\"]\n",
    "date_keywords = [\"love\", \"date\", \"romantic\", \"valentine\", \"crush\", \"wedding\", \"honeymoon\", \"flirt\", \"affair\"]\n",
    "ladys_keywords = [\"girl\", \"girls\", \"ladies\", \"woman\", \"bride\", \"shopping\", \"pink\", \"girly\", \"sisterhood\", \"diva\", \"chick\", \"fabulous\", \"female\", \"romantic\", \"love\"]\n",
    "family_keywords = [\"family\", \"kids\", \"little\", \"puppy\", \"animal\", \"baby\", \"magic\", \"cartoon\", \"fun\", \"adventure\"]\n",
    "kids_keywords = [\"kids\", \"puppy\", \"animal\", \"baby\", \"cartoon\", \"mickey\", \"zoo\"]\n",
    "friends_keywords = [\"action\", \"buddy\", \"team\", \"squad\", \"group\", \"gang\", \"mission\", \"explosion\"]\n",
    "educational_keywords = [\"lifestyle\", \"documentary\", \"biography\", \"history\", \"science\", \"nature\", \"international\", \"culture\", \"learn\", \"educational\", \"knowledge\", \"information\"] \n",
    "\n",
    "\n",
    "# Erweiterte regelbasierte Mehrfach-Zuweisung auf Basis von Titel, Genres und Altersfreigabe\n",
    "def multi_label_anlass(row):\n",
    "    labels = set()\n",
    "    title = str(row[\"title\"]).lower()\n",
    "    genres = row[\"genre_list\"] if isinstance(row[\"genre_list\"], list) else []\n",
    "    age = row.get(\"agerating_encoded\", -1)\n",
    "\n",
    "    # --- Christmas ---\n",
    "    if any(word in title for word in christmas_keywords):\n",
    "        labels.add(\"Christmas\")\n",
    "\n",
    "    # --- Halloween Night ---\n",
    "    if any(word in title for word in halloween_keywords) or \"horror\" in genres or \"thriller & krimi\" in genres:\n",
    "        labels.add(\"Halloween Night\")\n",
    "\n",
    "    # --- Date Night ---\n",
    "    if (\"romance\" in genres and \"comedy\" in genres) or any(word in title for word in date_keywords):\n",
    "        labels.add(\"Date Night\")\n",
    "\n",
    "    # --- Ladys Night ---\n",
    "    if (\n",
    "        \"romance\" in genres or\n",
    "        \"drama\" in genres or\n",
    "        \"teen & coming of age\" in genres or\n",
    "        \"music & musicals\" in genres or\n",
    "        any(word in title for word in ladys_keywords + [\"romantic\", \"love\"])\n",
    "    ):\n",
    "        labels.add(\"Ladys Night\")\n",
    "\n",
    "    # --- Family Night ---\n",
    "    if (\n",
    "        age >= 0 and age <= 12 and (\n",
    "            \"children & family\" in genres or\n",
    "            \"animation\" in genres or\n",
    "            \"comedy\" in genres or\n",
    "            any(word in title for word in family_keywords)\n",
    "        )\n",
    "    ):\n",
    "        labels.add(\"Family Night\")\n",
    "\n",
    "    # --- Kinderbetreuung ---\n",
    "    if age >= 0 and age <= 6 and (\n",
    "        \"children & family\" in genres or\n",
    "        \"animation\" in genres or\n",
    "        \"music & musicals\" in genres or\n",
    "        any(word in title for word in kids_keywords)\n",
    "    ):\n",
    "        labels.add(\"Kids Night\")\n",
    "\n",
    "    # --- Abend mit Freunden ---\n",
    "    if (\n",
    "        \"action & adventure\" in genres or\n",
    "        \"entertainment\" in genres or\n",
    "        \"sport\" in genres or\n",
    "        \"sci-fi & fantasy\" in genres or\n",
    "        \"thriller & krimi\" in genres or\n",
    "        any(word in title for word in friends_keywords)\n",
    "    ):\n",
    "        labels.add(\"Night with Friends\")\n",
    "\n",
    "    # --- Educational Night ---\n",
    "    if (\n",
    "        \"documentary\" in genres or\n",
    "        \"biographical\" in genres or\n",
    "        \"historical\" in genres or\n",
    "        \"science & nature\" in genres or\n",
    "        \"international\" in genres or\n",
    "        \"lifestyle\" in genres or\n",
    "        any(word in title for word in educational_keywords)\n",
    "    ):\n",
    "        labels.add(\"Educational Night\")\n",
    "\n",
    "    return list(labels)\n",
    "\n",
    "# Anwendung der Funktion auf den DataFrame\n",
    "df[\"anlass_rule\"] = df.apply(multi_label_anlass, axis=1)"
   ]
  },
  {
   "cell_type": "markdown",
   "metadata": {},
   "source": [
    "## <a id='toc7_2_'></a>[4.2 Keyword-Matching mit TF-IDF](#toc0_)\n",
    "\n",
    "Zusätzlich analysieren wir die Beschreibungstexte der Filme mittels TF-IDF-Vektorisierung. So können auch subtilere Hinweise (z. B. „romantic“, „ghost“, „girls“) erkannt und zugewiesen werden.\n",
    "Keyword-Suche in der Beschreibung per TF-IDF ergänzt die Regeln (erhöht Recall)."
   ]
  },
  {
   "cell_type": "code",
   "execution_count": 57,
   "metadata": {},
   "outputs": [],
   "source": [
    "# Richtige keyword_map mit Schleife bauen\n",
    "keyword_map = {}\n",
    "\n",
    "for kw in christmas_keywords:\n",
    "    keyword_map[kw] = \"Christmas\"\n",
    "for kw in halloween_keywords:\n",
    "    keyword_map[kw] = \"Halloween Night\"\n",
    "for kw in date_keywords:\n",
    "    keyword_map[kw] = \"Date Night\"\n",
    "for kw in ladys_keywords:\n",
    "    keyword_map[kw] = \"Ladys Night\"\n",
    "for kw in family_keywords:\n",
    "    keyword_map[kw] = \"Family Night\"\n",
    "for kw in kids_keywords:\n",
    "    keyword_map[kw] = \"Kids Night\"\n",
    "for kw in friends_keywords:\n",
    "    keyword_map[kw] = \"Night with Friends\"\n",
    "for kw in educational_keywords:\n",
    "    keyword_map[kw] = \"Educational Night\"\n",
    "\n",
    "for word, label in keyword_map.items():\n",
    "    if word in desc_vectorizer.vocabulary_:\n",
    "        idx = desc_vectorizer.vocabulary_[word]\n",
    "        tfidf_scores = tfidf_desc[:, idx].toarray().flatten()\n",
    "        match_indices = (tfidf_scores > 0.05)\n",
    "        df.loc[match_indices, \"anlass_rule\"] = df.loc[match_indices, \"anlass_rule\"].apply(\n",
    "            lambda x: list(set(x + [label])) if isinstance(x, list) else [label]\n",
    "        )"
   ]
  },
  {
   "cell_type": "markdown",
   "metadata": {},
   "source": [
    "## <a id='toc7_3_'></a>[4.3 Supervisod Module für unklare Fälle](#toc0_)\n",
    "\n",
    "Filme ohne erkennbare Regeln oder Text-Matches werden mithilfe eines Random-Forest-Klassifikators klassifiziert. Als Trainingsdaten verwenden wir die ersten bekannten Labels.\n",
    "Trainiere ein RandomForest-Modell (als OneVsRest) um Shows zu Anlässen zuzuordnen, wenn keine Regel angewendet werden konnte.\n",
    "Nutzt: duration, agerating, TF-IDF von allen Textfeldern.\n",
    "\n",
    "### <a id='toc7_3_1_'></a>[4.3.1 Plot der ROC-AUC](#toc0_)\n",
    "\n",
    "- Visualisiert die Qualität eines Multilabel-Klassifikators anhand von ROC-Kurven für jedes einzelne Label.\n",
    "- Zeigt zusätzlich die AUC-Werte in der Legende an – ein Maß für die Modellgüte pro Klasse.\n"
   ]
  },
  {
   "cell_type": "code",
   "execution_count": 58,
   "metadata": {},
   "outputs": [],
   "source": [
    "def plot_multilabel_roc(y_test, y_score, class_names):\n",
    "    \"\"\"\n",
    "    Plottet ROC-Curves für jedes Label im Multilabel-Setup.\n",
    "    \n",
    "    :param y_test: Ground truth (binary matrix)\n",
    "    :param y_score: Wahrscheinlichkeiten (predict_proba)\n",
    "    :param class_names: Namen der Klassen\n",
    "    \"\"\"\n",
    "    # Anzahl der Klassen = Anzahl der Labels\n",
    "    n_classes = y_test.shape[1]\n",
    "    fpr = dict()\n",
    "    tpr = dict()\n",
    "    roc_auc = dict()\n",
    "\n",
    "    # ROC-Kurven und AUC-Werte für jede Klasse berechnen\n",
    "    for i in range(n_classes):\n",
    "        fpr[i], tpr[i], _ = roc_curve(y_test[:, i], y_score[:, i])\n",
    "        roc_auc[i] = auc(fpr[i], tpr[i])\n",
    "\n",
    "    plt.figure(figsize=(10, 8))\n",
    "\n",
    "    # Für jede Klasse die ROC-Kurve zeichnen\n",
    "    for i in range(n_classes):\n",
    "        plt.plot(fpr[i], tpr[i], label=f'{class_names[i]} (AUC = {roc_auc[i]:.2f})')\n",
    "\n",
    "    # Referenzlinie\n",
    "    plt.plot([0, 1], [0, 1], 'k--', label='Zufall (AUC = 0.5)')\n",
    "\n",
    "    # Achsen\n",
    "    plt.xlim([0.0, 1.0])\n",
    "    plt.ylim([0.0, 1.05])\n",
    "    plt.xlabel('False Positive Rate')\n",
    "    plt.ylabel('True Positive Rate')\n",
    "\n",
    "    # Titel und Legende\n",
    "    plt.title('ROC-Curves für Multilabel-Anlässe')\n",
    "    plt.legend(loc=\"lower right\")\n",
    "    plt.grid()\n",
    "    plt.tight_layout()\n",
    "    plt.show()"
   ]
  },
  {
   "cell_type": "markdown",
   "metadata": {},
   "source": [
    "### <a id='toc7_3_2_'></a>[4.3.2 Apply Model zur Labeling](#toc0_)\n",
    "\n",
    "- erkennt Filme ohne Anlass\n",
    "- nutzt ein Modell, um Multi-Label-Vorhersagen zu treffen\n",
    "- wandelt diese zurück in Label-Listen\n",
    "- ersetzt die fehlenden Einträge im DataFrame"
   ]
  },
  {
   "cell_type": "code",
   "execution_count": 59,
   "metadata": {},
   "outputs": [],
   "source": [
    "def apply_multilabel_model(df, model, mlb, tfidf_desc, tfidf_title):\n",
    "    \"\"\"\n",
    "    Verwendet ein trainiertes Multi-Label-Modell auf Filme ohne Anlass-Zuordnung an.\n",
    "    \n",
    "    :param df: Gesamter DataFrame mit Metadaten und Anlässen\n",
    "    :param model: Trainiertes Multi-Label-Modell (OneVsRestClassifier)\n",
    "    :param mlb: MultiLabelBinarizer (zum Rücktransformieren der Vorhersagen)\n",
    "    :param tfidf_desc: TF-IDF-Matrix der Beschreibung\n",
    "    :param tfidf_title: TF-IDF-Matrix des Titels\n",
    "    :return: DataFrame mit aktualisierter 'anlass_rule'-Spalte\n",
    "    \"\"\"\n",
    "    # Filme herausfiltern, die keine gültige Anlasstypenliste haben (also Liste leer oder gar keine Liste)\n",
    "    df_missing = df[df[\"anlass_rule\"].apply(lambda x: not isinstance(x, list) or len(x) == 0)].copy()\n",
    "\n",
    "    if df_missing.empty:\n",
    "        print(\"✅ Alle Filme haben Anlässe.\")\n",
    "        return df\n",
    "\n",
    "    numeric_features = df_missing[[\"duration_scaled\", \"agerating_scaled\"]]\n",
    "    tfidf_desc_missing = tfidf_desc[df_missing.index]\n",
    "    tfidf_title_missing = tfidf_title[df_missing.index]\n",
    "\n",
    "    # Feature-Matrix zusammensetzen (Numerisch + Beschreibung + Titel)\n",
    "    X_missing = hstack([\n",
    "        sp.csr_matrix(numeric_features.values),\n",
    "        tfidf_desc_missing,\n",
    "        tfidf_title_missing\n",
    "    ])\n",
    "\n",
    "    # Vorhersage für fehlende Anlässe\n",
    "    y_pred = model.predict(X_missing)\n",
    "\n",
    "    # Backup-Spalte\n",
    "    df[\"anlass_rule_new\"] = df[\"anlass_rule\"]\n",
    "\n",
    "    # y_pred (binary multilabel) → zurück zu Label-Listen\n",
    "    anlass_predicted = mlb.inverse_transform(y_pred)\n",
    "    anlass_rule_new_series = pd.Series([list(labels) for labels in anlass_predicted], index=df_missing.index)\n",
    "    df.loc[df_missing.index, \"anlass_rule_new\"] = anlass_rule_new_series\n",
    "\n",
    "    # Alte ersetzen\n",
    "    df[\"anlass_rule\"] = df[\"anlass_rule\"].apply(lambda x: x if isinstance(x, list) else [])\n",
    "    df.drop(columns=\"anlass_rule_new\", inplace=True)\n",
    "\n",
    "\n",
    "    print(f\"✅ {len(df_missing)} Filme wurden mit mehreren Anlässen ergänzt.\")\n",
    "    return df"
   ]
  },
  {
   "cell_type": "markdown",
   "metadata": {},
   "source": [
    "### <a id='toc7_3_3_'></a>[4.3.3 Methode fürs Trainieren der Model](#toc0_)\n",
    "\n",
    "- Trainiert ein multilabel-fähiges Modell, um Anlässe vorherzusagen\n",
    "- Nutzt eine Kombination aus:\n",
    "  - Numerischen Features (z. B. duration, agerating)\n",
    "  - Text-Vektoren (Titel & Beschreibung via TF-IDF)\n",
    "- Gibt Bewertung, ROC-Kurven und Fehleranalyse aus\n",
    "\n",
    "analyze_labekl_errors() erscheint erst beim Evaluation auch dort wird der train_multilabel_anlass_model() aufgerufen."
   ]
  },
  {
   "cell_type": "code",
   "execution_count": 60,
   "metadata": {},
   "outputs": [],
   "source": [
    "def train_multilabel_anlass_model(df, tfidf_desc, tfidf_title):\n",
    "    \"\"\"\n",
    "    Trainiert ein RandomForest-Modell zur Vorhersage von 'Anlässen' (Multilabel-Setup).\n",
    "    Verwendet als Eingaben:\n",
    "        - TF-IDF-Matrizen für Titel & Beschreibung\n",
    "        - Skalierte Dauer & Altersfreigabe\n",
    "    \"\"\"\n",
    "    # Filme herausfiltern, die mindestens einen Anlass haben\n",
    "    df_train = df[df[\"anlass_rule\"].apply(lambda x: isinstance(x, list) and len(x) > 0)].copy()\n",
    "\n",
    "    mlb = MultiLabelBinarizer()\n",
    "    y = mlb.fit_transform(df_train[\"anlass_rule\"])\n",
    "\n",
    "    anlass_labels = mlb.classes_\n",
    "\n",
    "    numeric_features = df_train[[\"duration_scaled\", \"agerating_scaled\"]]\n",
    "    tfidf_desc_train = tfidf_desc[df_train.index]\n",
    "    tfidf_title_train = tfidf_title[df_train.index]\n",
    "\n",
    "    # Feature Matrix: Dauer + Alter + TF-IDF Beshcreibung # TF-IDF Titel\n",
    "    X = hstack([\n",
    "        sp.csr_matrix(numeric_features.values),\n",
    "        tfidf_desc_train,\n",
    "        tfidf_title_train\n",
    "    ])\n",
    "\n",
    "    # Train-Test-Split mit Index zuordnung\n",
    "    X_train, X_test, y_train, y_test, idx_train, idx_test = train_test_split(\n",
    "        X, y, df_train.index, test_size=0.2, random_state=42)\n",
    "\n",
    "    model = OneVsRestClassifier(RandomForestClassifier(random_state=42, class_weight=\"balanced\"))\n",
    "\n",
    "    # Modell trainieren\n",
    "    model.fit(X_train, y_train)\n",
    "\n",
    "    # Vorhersagen (binär) + Wahrscheinlichkeiten (für ROC)\n",
    "    y_pred = model.predict(X_test)\n",
    "    y_score = model.predict_proba(X_test)\n",
    "    \n",
    "\n",
    "    # Bewertung\n",
    "    print(\"📊 Modellbewertung:\")\n",
    "    print(classification_report(y_test, y_pred))\n",
    "\n",
    "    # Klassenspezifische Metriken extrahieren\n",
    "    prec, rec, f1, _ = precision_recall_fscore_support(y_test, y_pred, average=None, zero_division=0)\n",
    "    macro_f1 = f1_score(y_test, y_pred, average=\"macro\", zero_division=0)\n",
    "    print(f\"🎯 Macro-F1 Multilabel: {macro_f1:.3f}\")\n",
    "\n",
    "    # ROC-Curves anzeigen\n",
    "    plot_multilabel_roc(y_test, y_score, mlb.classes_)\n",
    "\n",
    "    # 🔍 Fehleranalyse für einen bestimmten Anlass\n",
    "    analyze_label_errors(df, y_test, y_pred, mlb, \"Halloween Night\", idx_test)\n",
    "\n",
    "    return model, mlb, y_test, y_pred"
   ]
  },
  {
   "cell_type": "markdown",
   "metadata": {},
   "source": [
    "# <a id='toc8_'></a>[5 Hyperpamatertuning](#toc0_)"
   ]
  },
  {
   "cell_type": "markdown",
   "metadata": {},
   "source": [
    "\n",
    "✅ Beste Parameterkombination:\n",
    "{'clf__estimator__max_depth': None, \n",
    "'clf__estimator__min_samples_split': 5, \n",
    "'clf__estimator__n_estimators': 200, \n",
    "'preprocessor__desc_tfidf__max_features': 500, \n",
    "'preprocessor__desc_tfidf__ngram_range': (1, 1), \n",
    "'preprocessor__title_tfidf__max_features': 300, \n",
    "'preprocessor__title_tfidf__ngram_range': (1, 1)}\n",
    "\n",
    "🎯 Beste F1-Macro-Score (Multilabel): 0.9420 -> ist ein top Wert, insbesondere bei mehreren Labels pro Film\n",
    "\n",
    "📈 ROC-AUC Scores (Top 5 Kombinationen):\n",
    "    mean_test_roc_auc_macro                                             params\n",
    "- 30      |          0.985722  {'clf__estimator__max_depth': None, 'clf__esti...\n",
    "- 62      |           0.985634  {'clf__estimator__max_depth': None, 'clf__esti...\n",
    "- 14      |           0.985145  {'clf__estimator__max_depth': None, 'clf__esti...\n",
    "- 46      |           0.985057  {'clf__estimator__max_depth': None, 'clf__esti...\n",
    "- 63      |           0.984950  {'clf__estimator__max_depth': None, 'clf__esti...\n"
   ]
  },
  {
   "cell_type": "code",
   "execution_count": 61,
   "metadata": {},
   "outputs": [
    {
     "data": {
      "text/plain": [
       "'\\n#  Nur Filme mit mind. einem Anlass\\ndf_train = df[df[\"anlass_rule\"].apply(lambda x: isinstance(x, list) and len(x) > 0)].copy()\\n\\n# Zielmatrix\\nmlb = MultiLabelBinarizer()\\ny = mlb.fit_transform(df_train[\"anlass_rule\"])\\n\\n# Features\\nX = df_train[[\"title\", \"description\", \"duration_scaled\", \"agerating_scaled\"]]\\n\\n#  TF-IDF & numerische Features kombinieren\\npreprocessor = ColumnTransformer(transformers=[\\n    (\"desc_tfidf\", TfidfVectorizer(stop_words=\"english\"), \"description\"),\\n    (\"title_tfidf\", TfidfVectorizer(stop_words=\"english\"), \"title\"),\\n], remainder=\"passthrough\")\\n\\n#  Pipeline mit OneVsRest\\npipeline = Pipeline(steps=[\\n    (\"preprocessor\", preprocessor),\\n    (\"clf\", OneVsRestClassifier(RandomForestClassifier(class_weight=\"balanced\", random_state=42)))\\n])\\n\\n# Parametergrid\\nparam_grid = {\\n    \"preprocessor__desc_tfidf__max_features\": [300, 500],\\n    \"preprocessor__desc_tfidf__ngram_range\": [(1, 1), (1, 2)],\\n    \"preprocessor__title_tfidf__max_features\": [300, 500],\\n    \"preprocessor__title_tfidf__ngram_range\": [(1, 1), (1, 2)],\\n    \"clf__estimator__n_estimators\": [100, 200],\\n    \"clf__estimator__max_depth\": [None, 10],\\n    \"clf__estimator__min_samples_split\": [2, 5]\\n}\\n\\n#  Multilabel ROC-AUC (macro)\\ndef macro_roc_auc_score(estimator, X_val, y_val):\\n    try:\\n        y_proba = estimator.predict_proba(X_val)\\n        return roc_auc_score(y_val, y_proba, average=\"macro\")\\n    except:\\n        return 0.0\\n\\n\\n#  Mehrere Scoring-Metriken definieren\\nscoring = {\\n    \"f1_macro\": make_scorer(f1_score, average=\"macro\", zero_division=0),\\n    \"roc_auc_macro\": macro_roc_auc_score  # direkt die Funktion (kein make_scorer!)\\n}\\n\\n#  GridSearchCV mit mehreren Metriken\\ngrid_search = GridSearchCV(\\n    pipeline,\\n    param_grid,\\n    scoring=scoring,\\n    refit=\"f1_macro\",  # das finale Modell nutzt besten F1\\n    cv=3,\\n    verbose=2,\\n    n_jobs=-1\\n)\\n\\n#  Trainieren\\ngrid_search.fit(X, y)\\n\\n# Ergebnisse anzeigen\\nprint(\"✅ Beste Parameterkombination:\")\\nprint(grid_search.best_params_)\\nprint(f\"🎯 Beste F1-Macro-Score (Multilabel): {grid_search.best_score_:.4f}\")\\n\\n#  ROC-AUC Ranking\\nresults_df = pd.DataFrame(grid_search.cv_results_)\\nprint(\"\\n📈 ROC-AUC Scores (Top 5 Kombinationen):\")\\nprint(results_df[[\"mean_test_roc_auc_macro\", \"params\"]].sort_values(by=\"mean_test_roc_auc_macro\", ascending=False).head())\\n\\n'"
      ]
     },
     "execution_count": 61,
     "metadata": {},
     "output_type": "execute_result"
    }
   ],
   "source": [
    "\n",
    "'''\n",
    "#  Nur Filme mit mind. einem Anlass\n",
    "df_train = df[df[\"anlass_rule\"].apply(lambda x: isinstance(x, list) and len(x) > 0)].copy()\n",
    "\n",
    "# Zielmatrix\n",
    "mlb = MultiLabelBinarizer()\n",
    "y = mlb.fit_transform(df_train[\"anlass_rule\"])\n",
    "\n",
    "# Features\n",
    "X = df_train[[\"title\", \"description\", \"duration_scaled\", \"agerating_scaled\"]]\n",
    "\n",
    "#  TF-IDF & numerische Features kombinieren\n",
    "preprocessor = ColumnTransformer(transformers=[\n",
    "    (\"desc_tfidf\", TfidfVectorizer(stop_words=\"english\"), \"description\"),\n",
    "    (\"title_tfidf\", TfidfVectorizer(stop_words=\"english\"), \"title\"),\n",
    "], remainder=\"passthrough\")\n",
    "\n",
    "#  Pipeline mit OneVsRest\n",
    "pipeline = Pipeline(steps=[\n",
    "    (\"preprocessor\", preprocessor),\n",
    "    (\"clf\", OneVsRestClassifier(RandomForestClassifier(class_weight=\"balanced\", random_state=42)))\n",
    "])\n",
    "\n",
    "# Parametergrid\n",
    "param_grid = {\n",
    "    \"preprocessor__desc_tfidf__max_features\": [300, 500],\n",
    "    \"preprocessor__desc_tfidf__ngram_range\": [(1, 1), (1, 2)],\n",
    "    \"preprocessor__title_tfidf__max_features\": [300, 500],\n",
    "    \"preprocessor__title_tfidf__ngram_range\": [(1, 1), (1, 2)],\n",
    "    \"clf__estimator__n_estimators\": [100, 200],\n",
    "    \"clf__estimator__max_depth\": [None, 10],\n",
    "    \"clf__estimator__min_samples_split\": [2, 5]\n",
    "}\n",
    "\n",
    "#  Multilabel ROC-AUC (macro)\n",
    "def macro_roc_auc_score(estimator, X_val, y_val):\n",
    "    try:\n",
    "        y_proba = estimator.predict_proba(X_val)\n",
    "        return roc_auc_score(y_val, y_proba, average=\"macro\")\n",
    "    except:\n",
    "        return 0.0\n",
    "\n",
    "\n",
    "#  Mehrere Scoring-Metriken definieren\n",
    "scoring = {\n",
    "    \"f1_macro\": make_scorer(f1_score, average=\"macro\", zero_division=0),\n",
    "    \"roc_auc_macro\": macro_roc_auc_score  # direkt die Funktion (kein make_scorer!)\n",
    "}\n",
    "\n",
    "#  GridSearchCV mit mehreren Metriken\n",
    "grid_search = GridSearchCV(\n",
    "    pipeline,\n",
    "    param_grid,\n",
    "    scoring=scoring,\n",
    "    refit=\"f1_macro\",  # das finale Modell nutzt besten F1\n",
    "    cv=3,\n",
    "    verbose=2,\n",
    "    n_jobs=-1\n",
    ")\n",
    "\n",
    "#  Trainieren\n",
    "grid_search.fit(X, y)\n",
    "\n",
    "# Ergebnisse anzeigen\n",
    "print(\"✅ Beste Parameterkombination:\")\n",
    "print(grid_search.best_params_)\n",
    "print(f\"🎯 Beste F1-Macro-Score (Multilabel): {grid_search.best_score_:.4f}\")\n",
    "\n",
    "#  ROC-AUC Ranking\n",
    "results_df = pd.DataFrame(grid_search.cv_results_)\n",
    "print(\"\\n📈 ROC-AUC Scores (Top 5 Kombinationen):\")\n",
    "print(results_df[[\"mean_test_roc_auc_macro\", \"params\"]].sort_values(by=\"mean_test_roc_auc_macro\", ascending=False).head())\n",
    "\n",
    "'''"
   ]
  },
  {
   "cell_type": "markdown",
   "metadata": {},
   "source": [
    "# <a id='toc9_'></a>[6 Evaluierung](#toc0_)\n",
    "\n",
    "## <a id='toc9_1_'></a>[6.1 Plot Feature Importance](#toc0_)\n",
    "\n",
    "- Berechnet die durchschnittliche Bedeutung (Feature Importance) aller Merkmale über alle Klassen\n",
    "- Gruppiert die Features nach Typ (Titel, Beschreibung, Dauer, Altersfreigabe)\n",
    "- Stellt die Ergebnisse in einem sauberen Balkendiagramm dar"
   ]
  },
  {
   "cell_type": "code",
   "execution_count": 62,
   "metadata": {},
   "outputs": [],
   "source": [
    "def plot_feature_importance_groups_avg(model, desc_vectorizer, title_vectorizer):\n",
    "    \"\"\"\n",
    "    Visualisierung durchschnittliche Feature Importance über alle Klassenmodelle in OneVsRestClassifier.\n",
    "    \"\"\"\n",
    "    # Definiert der ursprünglichen Spaltennamen\n",
    "    numeric_cols = [\"duration_scaled\", \"agerating_scaled\"]\n",
    "    desc_names = desc_vectorizer.get_feature_names_out().tolist()\n",
    "    title_names = title_vectorizer.get_feature_names_out().tolist()\n",
    "    all_feature_names = numeric_cols + desc_names + title_names\n",
    "\n",
    "    # Initialisiert Importance-Vektor\n",
    "    avg_importances = np.zeros(len(all_feature_names))\n",
    "\n",
    "    # Alle RandomForestClassifier durchlaufen\n",
    "    for estimator in model.estimators_:\n",
    "        avg_importances += estimator.feature_importances_\n",
    "\n",
    "    # Durchschnitt berechnen\n",
    "    avg_importances /= len(model.estimators_)\n",
    "\n",
    "    # Gruppierte Importance-Summen berechnen\n",
    "    group_scores = {\"Beschreibung\": 0.0, \"Title\": 0.0, \"Dauer\": 0.0, \"Altersfreigabe\": 0.0}\n",
    "    for name, score in zip(all_feature_names, avg_importances):\n",
    "        if name == \"duration_scaled\":\n",
    "            group_scores[\"Dauer\"] += score\n",
    "        elif name == \"agerating_scaled\":\n",
    "            group_scores[\"Altersfreigabe\"] += score\n",
    "        elif name in desc_names:\n",
    "            group_scores[\"Beschreibung\"] += score\n",
    "        elif name in title_names:\n",
    "            group_scores[\"Title\"] += score\n",
    "\n",
    "    # Balkendiagramm erzeugen\n",
    "    fig = make_subplots(rows=1, cols=1)\n",
    "    # Balken hinzufügen\n",
    "    fig.add_trace(go.Bar(\n",
    "        x=list(group_scores.keys()),\n",
    "        y=list(group_scores.values()),\n",
    "        marker_color=[\"#9467bd\", \"#1f77b4\", \"#d62728\", \"#ff7f0e\"],\n",
    "        text=[f\"{v:.3f}\" for v in group_scores.values()],\n",
    "        textposition=\"auto\",\n",
    "        name=\"Feature Importance\"\n",
    "    ))\n",
    "\n",
    "    # Layout anpassen (Dark Theme + Stil)\n",
    "    fig.update_layout(\n",
    "        title='<i><b>Average Feature Importance across All Occasion Models</b></i>',\n",
    "        title_x=0.5,\n",
    "        font=dict(family='cursive', size=18, color='white'),\n",
    "        plot_bgcolor='rgba(0, 0, 0, 1)',\n",
    "        paper_bgcolor='rgba(0, 0, 0, 1)',\n",
    "\n",
    "    )\n",
    "\n",
    "    # Achsen stylen\n",
    "    fig.update_xaxes(\n",
    "        tickfont=dict(size=15, family='Droid Serif', color='white'),\n",
    "        title_text=\"Features\",    \n",
    "    )\n",
    "    fig.update_yaxes(\n",
    "        tickfont=dict(size=15, family='Droid Serif', color='white'),\n",
    "        title_text=\"Average Importance\",    \n",
    "    )\n",
    "\n",
    "    fig.show()"
   ]
  },
  {
   "cell_type": "markdown",
   "metadata": {},
   "source": [
    "## <a id='toc9_2_'></a>[6.2 Fehleranalyse](#toc0_)\n",
    "\n",
    "- Zeigt ganz gezielt, wo der Modell danebenliegt, bezogen auf ein konkretes Label.\n",
    "  - Anzahl der Fehler\n",
    "  - eispielhafte Filmtitel, die falsch klassifiziert wurden\n",
    "- Ideal zur Modellverbesserung oder manuellen Datenkontrolle.\n",
    "\n",
    "- get_label_error_counts(...) erzeugt eine tabellarische Übersicht aller Fehler pro Klasse.\n",
    "- plot_error_heatmap(...) stellt diese Fehler visuell als lesbare Heatmap dar.\n"
   ]
  },
  {
   "cell_type": "code",
   "execution_count": 63,
   "metadata": {},
   "outputs": [],
   "source": [
    "def analyze_label_errors(df, y_test, y_pred, mlb, label_name, df_test_indices):\n",
    "    \"\"\"\n",
    "    Führt eine Fehleranalyse für ein bestimmtes Label durch (z. B. 'Halloween Night').\n",
    "\n",
    "    Zeigt False Positives und False Negatives an:\n",
    "    - False Positives: Modell sagt \"Anlass vorhanden\", aber Ground Truth sagt nein.\n",
    "    - False Negatives: Modell erkennt Anlass nicht, obwohl er laut Ground Truth vorhanden ist.\n",
    "\n",
    "    \"\"\"\n",
    "    # Index des gewählten Labels im MultiLabelBinarizer finden\n",
    "    label_index = list(mlb.classes_).index(label_name)\n",
    "\n",
    "    y_true_label = y_test[:, label_index]\n",
    "    y_pred_label = y_pred[:, label_index]\n",
    "\n",
    "    # False Positives: vorhergesagt, aber nicht wahr\n",
    "    false_pos_indices = np.where((y_pred_label == 1) & (y_true_label == 0))[0]\n",
    "\n",
    "    # False Negatives: nicht erkannt, obwohl korrekt\n",
    "    false_neg_indices = np.where((y_pred_label == 0) & (y_true_label == 1))[0]\n",
    "\n",
    "    # Zusammenfassung ausgeben\n",
    "    print(f\"\\n🧟 Fehleranalyse für: {label_name}\")\n",
    "    print(f\"❌ False Positives: {len(false_pos_indices)}\")\n",
    "    print(f\"⚠️ False Negatives: {len(false_neg_indices)}\")\n",
    "\n",
    "    # Zeige Beispiel-Titel an\n",
    "    print(\"\\n--- ❌ False Positives (vorhergesagt, aber falsch) ---\")\n",
    "    print(df.loc[df_test_indices[false_pos_indices], [\"title\", \"anlass_rule\"]].head())\n",
    "\n",
    "    print(\"\\n--- ⚠️ False Negatives (nicht erkannt, aber richtig) ---\")\n",
    "    print(df.loc[df_test_indices[false_neg_indices], [\"title\", \"anlass_rule\"]].head())\n"
   ]
  },
  {
   "cell_type": "code",
   "execution_count": 64,
   "metadata": {},
   "outputs": [],
   "source": [
    "def get_label_error_counts(y_test, y_pred, mlb):\n",
    "    \"\"\"\n",
    "    Zählt False Positives und False Negatives für jedes Label (Anlass).\n",
    "    Gibt DataFrame mit Anlässen als Zeilen und 'False Positives' & 'False Negatives' als Spalten zurück.\n",
    "    \"\"\"\n",
    "    error_counts = []\n",
    "\n",
    "    # Durch alle Klassen/Labels iterieren\n",
    "    for i, label in enumerate(mlb.classes_):\n",
    "        y_true = y_test[:, i]\n",
    "        y_predicted = y_pred[:, i]\n",
    "\n",
    "        fp = np.sum((y_predicted == 1) & (y_true == 0))\n",
    "        fn = np.sum((y_predicted == 0) & (y_true == 1))\n",
    "\n",
    "        error_counts.append({\"Occasion\": label, \"False Positives\": fp, \"False Negatives\": fn})\n",
    "\n",
    "    # DataFrame zurückgeben, indexiert nach Anlassnamen\n",
    "    return pd.DataFrame(error_counts).set_index(\"Occasion\")\n",
    "\n",
    "def plot_error_heatmap(error_df):\n",
    "    \"\"\"\n",
    "    Visualisiert False Positives und False Negatives als Heatmap pro Anlass.\n",
    "    \"\"\"\n",
    "    plt.figure(figsize=(10, 8), facecolor='#D8EDF9')\n",
    "\n",
    "    # Heatmap zeichnen \n",
    "    ax = sns.heatmap(error_df, annot=True, fmt=\"d\", cmap=\"Oranges\", linewidths=0.5,\n",
    "        annot_kws={\n",
    "            'weight': 'bold',\n",
    "            'fontsize': 10,\n",
    "            'fontfamily': 'sans-serif'\n",
    "        })\n",
    "\n",
    "    # Titel und Achsen\n",
    "    plt.title(\"Number of Errors per Occasion\", fontsize=18, family='cursive', color='black', loc='center')\n",
    "\n",
    "    bold_font = fm.FontProperties(family='sans-serif', weight='bold', size=10)\n",
    "    for label in ax.get_xticklabels():\n",
    "        label.set_fontproperties(bold_font)\n",
    "    for label in ax.get_yticklabels():\n",
    "        label.set_fontproperties(bold_font)\n",
    "    \n",
    "    ax.set_facecolor('#D8EDF9')\n",
    "\n",
    "    plt.tight_layout()\n",
    "    plt.show()"
   ]
  },
  {
   "cell_type": "markdown",
   "metadata": {},
   "source": [
    "## <a id='toc9_3_'></a>[6.3 Ergänzung zu 3.3 TF-IDF Vektorisierung für alle Spalten mit Text](#toc0_)"
   ]
  },
  {
   "cell_type": "code",
   "execution_count": 65,
   "metadata": {},
   "outputs": [],
   "source": [
    "df[\"combined_text\"] = df[[\"title\", \"description\", \"director\", \"cast\", \"country\", \"listed_in\", \"platform\"]].fillna(\"\").agg(\" \".join, axis=1) \n",
    "tfidf = TfidfVectorizer(stop_words=\"english\", max_features=10000) \n",
    "tfidf_matrix = tfidf.fit_transform(df[\"combined_text\"])"
   ]
  },
  {
   "cell_type": "markdown",
   "metadata": {},
   "source": [
    "## <a id='toc9_4_'></a>[6.4 Ausführung](#toc0_)\n",
    "\n",
    "### <a id='toc9_4_1_'></a>[Grafik 4 - Durchschnittliche Feature Importance](#toc0_)\n",
    "\n",
    "### <a id='toc9_4_2_'></a>[Grafik 5 - Anzahl der Fehler pro Anlässe](#toc0_)"
   ]
  },
  {
   "cell_type": "code",
   "execution_count": 66,
   "metadata": {},
   "outputs": [
    {
     "name": "stdout",
     "output_type": "stream",
     "text": [
      "📊 Modellbewertung:\n",
      "              precision    recall  f1-score   support\n",
      "\n",
      "           0       1.00      0.76      0.86        42\n",
      "           1       1.00      0.83      0.91        64\n",
      "           2       1.00      0.92      0.96       158\n",
      "           3       1.00      0.95      0.97       273\n",
      "           4       1.00      0.70      0.82        47\n",
      "           5       1.00      0.84      0.91        56\n",
      "           6       1.00      0.98      0.99       296\n",
      "           7       1.00      0.94      0.97       177\n",
      "\n",
      "   micro avg       1.00      0.92      0.96      1113\n",
      "   macro avg       1.00      0.86      0.92      1113\n",
      "weighted avg       1.00      0.92      0.96      1113\n",
      " samples avg       0.96      0.93      0.94      1113\n",
      "\n",
      "🎯 Macro-F1 Multilabel: 0.925\n"
     ]
    },
    {
     "name": "stderr",
     "output_type": "stream",
     "text": [
      "/usr/local/lib/python3.13/site-packages/sklearn/metrics/_classification.py:1565: UndefinedMetricWarning:\n",
      "\n",
      "Precision is ill-defined and being set to 0.0 in samples with no predicted labels. Use `zero_division` parameter to control this behavior.\n",
      "\n"
     ]
    },
    {
     "data": {
      "image/png": "[encoded data removed]",
      "text/plain": [
       "<Figure size 1000x800 with 1 Axes>"
      ]
     },
     "metadata": {},
     "output_type": "display_data"
    },
    {
     "name": "stdout",
     "output_type": "stream",
     "text": [
      "\n",
      "🧟 Fehleranalyse für: Halloween Night\n",
      "❌ False Positives: 0\n",
      "⚠️ False Negatives: 14\n",
      "\n",
      "--- ❌ False Positives (vorhergesagt, aber falsch) ---\n",
      "Empty DataFrame\n",
      "Columns: [title, anlass_rule]\n",
      "Index: []\n",
      "\n",
      "--- ⚠️ False Negatives (nicht erkannt, aber richtig) ---\n",
      "                             title                      anlass_rule\n",
      "9191         The Amityville Horror  [Family Night, Halloween Night]\n",
      "9949                       Haunted  [Family Night, Halloween Night]\n",
      "1012         The Haunted Hathaways                [Halloween Night]\n",
      "6297  Witches: A Century of Murder                [Halloween Night]\n",
      "4779               A Witches' Ball                [Halloween Night]\n",
      "✅ 5745 Filme wurden mit mehreren Anlässen ergänzt.\n"
     ]
    },
    {
     "data": {
      "application/vnd.plotly.v1+json": {
       "config": {
        "plotlyServerURL": "https://plot.ly"
       },
       "data": [
        {
         "marker": {
          "color": [
           "#9467bd",
           "#1f77b4",
           "#d62728",
           "#ff7f0e"
          ]
         },
         "name": "Feature Importance",
         "text": [
          "0.881",
          "0.064",
          "0.027",
          "0.028"
         ],
         "textposition": "auto",
         "type": "bar",
         "x": [
          "Beschreibung",
          "Title",
          "Dauer",
          "Altersfreigabe"
         ],
         "y": [
          0.8807629203235874,
          0.06432715836706142,
          0.026924627609632126,
          0.02798529369971873
         ]
        }
       ],
       "layout": {
        "font": {
         "color": "white",
         "family": "cursive",
         "size": 18
        },
        "paper_bgcolor": "rgba(0, 0, 0, 1)",
        "plot_bgcolor": "rgba(0, 0, 0, 1)",
        "template": {
         "data": {
          "bar": [
           {
            "error_x": {
             "color": "#2a3f5f"
            },
            "error_y": {
             "color": "#2a3f5f"
            },
            "marker": {
             "line": {
              "color": "#E5ECF6",
              "width": 0.5
             },
             "pattern": {
              "fillmode": "overlay",
              "size": 10,
              "solidity": 0.2
             }
            },
            "type": "bar"
           }
          ],
          "barpolar": [
           {
            "marker": {
             "line": {
              "color": "#E5ECF6",
              "width": 0.5
             },
             "pattern": {
              "fillmode": "overlay",
              "size": 10,
              "solidity": 0.2
             }
            },
            "type": "barpolar"
           }
          ],
          "carpet": [
           {
            "aaxis": {
             "endlinecolor": "#2a3f5f",
             "gridcolor": "white",
             "linecolor": "white",
             "minorgridcolor": "white",
             "startlinecolor": "#2a3f5f"
            },
            "baxis": {
             "endlinecolor": "#2a3f5f",
             "gridcolor": "white",
             "linecolor": "white",
             "minorgridcolor": "white",
             "startlinecolor": "#2a3f5f"
            },
            "type": "carpet"
           }
          ],
          "choropleth": [
           {
            "colorbar": {
             "outlinewidth": 0,
             "ticks": ""
            },
            "type": "choropleth"
           }
          ],
          "contour": [
           {
            "colorbar": {
             "outlinewidth": 0,
             "ticks": ""
            },
            "colorscale": [
             [
              0,
              "#0d0887"
             ],
             [
              0.1111111111111111,
              "#46039f"
             ],
             [
              0.2222222222222222,
              "#7201a8"
             ],
             [
              0.3333333333333333,
              "#9c179e"
             ],
             [
              0.4444444444444444,
              "#bd3786"
             ],
             [
              0.5555555555555556,
              "#d8576b"
             ],
             [
              0.6666666666666666,
              "#ed7953"
             ],
             [
              0.7777777777777778,
              "#fb9f3a"
             ],
             [
              0.8888888888888888,
              "#fdca26"
             ],
             [
              1,
              "#f0f921"
             ]
            ],
            "type": "contour"
           }
          ],
          "contourcarpet": [
           {
            "colorbar": {
             "outlinewidth": 0,
             "ticks": ""
            },
            "type": "contourcarpet"
           }
          ],
          "heatmap": [
           {
            "colorbar": {
             "outlinewidth": 0,
             "ticks": ""
            },
            "colorscale": [
             [
              0,
              "#0d0887"
             ],
             [
              0.1111111111111111,
              "#46039f"
             ],
             [
              0.2222222222222222,
              "#7201a8"
             ],
             [
              0.3333333333333333,
              "#9c179e"
             ],
             [
              0.4444444444444444,
              "#bd3786"
             ],
             [
              0.5555555555555556,
              "#d8576b"
             ],
             [
              0.6666666666666666,
              "#ed7953"
             ],
             [
              0.7777777777777778,
              "#fb9f3a"
             ],
             [
              0.8888888888888888,
              "#fdca26"
             ],
             [
              1,
              "#f0f921"
             ]
            ],
            "type": "heatmap"
           }
          ],
          "histogram": [
           {
            "marker": {
             "pattern": {
              "fillmode": "overlay",
              "size": 10,
              "solidity": 0.2
             }
            },
            "type": "histogram"
           }
          ],
          "histogram2d": [
           {
            "colorbar": {
             "outlinewidth": 0,
             "ticks": ""
            },
            "colorscale": [
             [
              0,
              "#0d0887"
             ],
             [
              0.1111111111111111,
              "#46039f"
             ],
             [
              0.2222222222222222,
              "#7201a8"
             ],
             [
              0.3333333333333333,
              "#9c179e"
             ],
             [
              0.4444444444444444,
              "#bd3786"
             ],
             [
              0.5555555555555556,
              "#d8576b"
             ],
             [
              0.6666666666666666,
              "#ed7953"
             ],
             [
              0.7777777777777778,
              "#fb9f3a"
             ],
             [
              0.8888888888888888,
              "#fdca26"
             ],
             [
              1,
              "#f0f921"
             ]
            ],
            "type": "histogram2d"
           }
          ],
          "histogram2dcontour": [
           {
            "colorbar": {
             "outlinewidth": 0,
             "ticks": ""
            },
            "colorscale": [
             [
              0,
              "#0d0887"
             ],
             [
              0.1111111111111111,
              "#46039f"
             ],
             [
              0.2222222222222222,
              "#7201a8"
             ],
             [
              0.3333333333333333,
              "#9c179e"
             ],
             [
              0.4444444444444444,
              "#bd3786"
             ],
             [
              0.5555555555555556,
              "#d8576b"
             ],
             [
              0.6666666666666666,
              "#ed7953"
             ],
             [
              0.7777777777777778,
              "#fb9f3a"
             ],
             [
              0.8888888888888888,
              "#fdca26"
             ],
             [
              1,
              "#f0f921"
             ]
            ],
            "type": "histogram2dcontour"
           }
          ],
          "mesh3d": [
           {
            "colorbar": {
             "outlinewidth": 0,
             "ticks": ""
            },
            "type": "mesh3d"
           }
          ],
          "parcoords": [
           {
            "line": {
             "colorbar": {
              "outlinewidth": 0,
              "ticks": ""
             }
            },
            "type": "parcoords"
           }
          ],
          "pie": [
           {
            "automargin": true,
            "type": "pie"
           }
          ],
          "scatter": [
           {
            "fillpattern": {
             "fillmode": "overlay",
             "size": 10,
             "solidity": 0.2
            },
            "type": "scatter"
           }
          ],
          "scatter3d": [
           {
            "line": {
             "colorbar": {
              "outlinewidth": 0,
              "ticks": ""
             }
            },
            "marker": {
             "colorbar": {
              "outlinewidth": 0,
              "ticks": ""
             }
            },
            "type": "scatter3d"
           }
          ],
          "scattercarpet": [
           {
            "marker": {
             "colorbar": {
              "outlinewidth": 0,
              "ticks": ""
             }
            },
            "type": "scattercarpet"
           }
          ],
          "scattergeo": [
           {
            "marker": {
             "colorbar": {
              "outlinewidth": 0,
              "ticks": ""
             }
            },
            "type": "scattergeo"
           }
          ],
          "scattergl": [
           {
            "marker": {
             "colorbar": {
              "outlinewidth": 0,
              "ticks": ""
             }
            },
            "type": "scattergl"
           }
          ],
          "scattermap": [
           {
            "marker": {
             "colorbar": {
              "outlinewidth": 0,
              "ticks": ""
             }
            },
            "type": "scattermap"
           }
          ],
          "scattermapbox": [
           {
            "marker": {
             "colorbar": {
              "outlinewidth": 0,
              "ticks": ""
             }
            },
            "type": "scattermapbox"
           }
          ],
          "scatterpolar": [
           {
            "marker": {
             "colorbar": {
              "outlinewidth": 0,
              "ticks": ""
             }
            },
            "type": "scatterpolar"
           }
          ],
          "scatterpolargl": [
           {
            "marker": {
             "colorbar": {
              "outlinewidth": 0,
              "ticks": ""
             }
            },
            "type": "scatterpolargl"
           }
          ],
          "scatterternary": [
           {
            "marker": {
             "colorbar": {
              "outlinewidth": 0,
              "ticks": ""
             }
            },
            "type": "scatterternary"
           }
          ],
          "surface": [
           {
            "colorbar": {
             "outlinewidth": 0,
             "ticks": ""
            },
            "colorscale": [
             [
              0,
              "#0d0887"
             ],
             [
              0.1111111111111111,
              "#46039f"
             ],
             [
              0.2222222222222222,
              "#7201a8"
             ],
             [
              0.3333333333333333,
              "#9c179e"
             ],
             [
              0.4444444444444444,
              "#bd3786"
             ],
             [
              0.5555555555555556,
              "#d8576b"
             ],
             [
              0.6666666666666666,
              "#ed7953"
             ],
             [
              0.7777777777777778,
              "#fb9f3a"
             ],
             [
              0.8888888888888888,
              "#fdca26"
             ],
             [
              1,
              "#f0f921"
             ]
            ],
            "type": "surface"
           }
          ],
          "table": [
           {
            "cells": {
             "fill": {
              "color": "#EBF0F8"
             },
             "line": {
              "color": "white"
             }
            },
            "header": {
             "fill": {
              "color": "#C8D4E3"
             },
             "line": {
              "color": "white"
             }
            },
            "type": "table"
           }
          ]
         },
         "layout": {
          "annotationdefaults": {
           "arrowcolor": "#2a3f5f",
           "arrowhead": 0,
           "arrowwidth": 1
          },
          "autotypenumbers": "strict",
          "coloraxis": {
           "colorbar": {
            "outlinewidth": 0,
            "ticks": ""
           }
          },
          "colorscale": {
           "diverging": [
            [
             0,
             "#8e0152"
            ],
            [
             0.1,
             "#c51b7d"
            ],
            [
             0.2,
             "#de77ae"
            ],
            [
             0.3,
             "#f1b6da"
            ],
            [
             0.4,
             "#fde0ef"
            ],
            [
             0.5,
             "#f7f7f7"
            ],
            [
             0.6,
             "#e6f5d0"
            ],
            [
             0.7,
             "#b8e186"
            ],
            [
             0.8,
             "#7fbc41"
            ],
            [
             0.9,
             "#4d9221"
            ],
            [
             1,
             "#276419"
            ]
           ],
           "sequential": [
            [
             0,
             "#0d0887"
            ],
            [
             0.1111111111111111,
             "#46039f"
            ],
            [
             0.2222222222222222,
             "#7201a8"
            ],
            [
             0.3333333333333333,
             "#9c179e"
            ],
            [
             0.4444444444444444,
             "#bd3786"
            ],
            [
             0.5555555555555556,
             "#d8576b"
            ],
            [
             0.6666666666666666,
             "#ed7953"
            ],
            [
             0.7777777777777778,
             "#fb9f3a"
            ],
            [
             0.8888888888888888,
             "#fdca26"
            ],
            [
             1,
             "#f0f921"
            ]
           ],
           "sequentialminus": [
            [
             0,
             "#0d0887"
            ],
            [
             0.1111111111111111,
             "#46039f"
            ],
            [
             0.2222222222222222,
             "#7201a8"
            ],
            [
             0.3333333333333333,
             "#9c179e"
            ],
            [
             0.4444444444444444,
             "#bd3786"
            ],
            [
             0.5555555555555556,
             "#d8576b"
            ],
            [
             0.6666666666666666,
             "#ed7953"
            ],
            [
             0.7777777777777778,
             "#fb9f3a"
            ],
            [
             0.8888888888888888,
             "#fdca26"
            ],
            [
             1,
             "#f0f921"
            ]
           ]
          },
          "colorway": [
           "#636efa",
           "#EF553B",
           "#00cc96",
           "#ab63fa",
           "#FFA15A",
           "#19d3f3",
           "#FF6692",
           "#B6E880",
           "#FF97FF",
           "#FECB52"
          ],
          "font": {
           "color": "#2a3f5f"
          },
          "geo": {
           "bgcolor": "white",
           "lakecolor": "white",
           "landcolor": "#E5ECF6",
           "showlakes": true,
           "showland": true,
           "subunitcolor": "white"
          },
          "hoverlabel": {
           "align": "left"
          },
          "hovermode": "closest",
          "mapbox": {
           "style": "light"
          },
          "paper_bgcolor": "white",
          "plot_bgcolor": "#E5ECF6",
          "polar": {
           "angularaxis": {
            "gridcolor": "white",
            "linecolor": "white",
            "ticks": ""
           },
           "bgcolor": "#E5ECF6",
           "radialaxis": {
            "gridcolor": "white",
            "linecolor": "white",
            "ticks": ""
           }
          },
          "scene": {
           "xaxis": {
            "backgroundcolor": "#E5ECF6",
            "gridcolor": "white",
            "gridwidth": 2,
            "linecolor": "white",
            "showbackground": true,
            "ticks": "",
            "zerolinecolor": "white"
           },
           "yaxis": {
            "backgroundcolor": "#E5ECF6",
            "gridcolor": "white",
            "gridwidth": 2,
            "linecolor": "white",
            "showbackground": true,
            "ticks": "",
            "zerolinecolor": "white"
           },
           "zaxis": {
            "backgroundcolor": "#E5ECF6",
            "gridcolor": "white",
            "gridwidth": 2,
            "linecolor": "white",
            "showbackground": true,
            "ticks": "",
            "zerolinecolor": "white"
           }
          },
          "shapedefaults": {
           "line": {
            "color": "#2a3f5f"
           }
          },
          "ternary": {
           "aaxis": {
            "gridcolor": "white",
            "linecolor": "white",
            "ticks": ""
           },
           "baxis": {
            "gridcolor": "white",
            "linecolor": "white",
            "ticks": ""
           },
           "bgcolor": "#E5ECF6",
           "caxis": {
            "gridcolor": "white",
            "linecolor": "white",
            "ticks": ""
           }
          },
          "title": {
           "x": 0.05
          },
          "xaxis": {
           "automargin": true,
           "gridcolor": "white",
           "linecolor": "white",
           "ticks": "",
           "title": {
            "standoff": 15
           },
           "zerolinecolor": "white",
           "zerolinewidth": 2
          },
          "yaxis": {
           "automargin": true,
           "gridcolor": "white",
           "linecolor": "white",
           "ticks": "",
           "title": {
            "standoff": 15
           },
           "zerolinecolor": "white",
           "zerolinewidth": 2
          }
         }
        },
        "title": {
         "text": "<i><b>Average Feature Importance across All Occasion Models</b></i>",
         "x": 0.5
        },
        "xaxis": {
         "anchor": "y",
         "domain": [
          0,
          1
         ],
         "tickfont": {
          "color": "white",
          "family": "Droid Serif",
          "size": 15
         },
         "title": {
          "text": "Features"
         }
        },
        "yaxis": {
         "anchor": "x",
         "domain": [
          0,
          1
         ],
         "tickfont": {
          "color": "white",
          "family": "Droid Serif",
          "size": 15
         },
         "title": {
          "text": "Average Importance"
         }
        }
       }
      }
     },
     "metadata": {},
     "output_type": "display_data"
    },
    {
     "data": {
      "image/png": "[encoded data removed]",
      "text/plain": [
       "<Figure size 1000x800 with 2 Axes>"
      ]
     },
     "metadata": {},
     "output_type": "display_data"
    }
   ],
   "source": [
    "# 1. Modell trainieren\n",
    "multi_model, mlb, y_test, y_pred = train_multilabel_anlass_model(df, tfidf_desc, tfidf_title)\n",
    "\n",
    "# 2. Anwenden auf fehlende\n",
    "df = apply_multilabel_model(df, multi_model, mlb, tfidf_desc, tfidf_title)\n",
    "\n",
    "# Speichere das kombinierte DataFrame in einer neuen CSV-Datei\n",
    "df.to_csv('../1_Datenset/erstellte/fertig/shows.csv', index=False)\n",
    "\n",
    "# 3. Feature Importance plotten\n",
    "plot_feature_importance_groups_avg(multi_model, desc_vectorizer, title_vectorizer)\n",
    "\n",
    "# 4. Fehleranalyse\n",
    "error_df = get_label_error_counts(y_test, y_pred, mlb)\n",
    "plot_error_heatmap(error_df)\n"
   ]
  },
  {
   "cell_type": "markdown",
   "metadata": {},
   "source": [
    "### <a id='toc9_4_3_'></a>[6.4.1 Interpretation der ROC-Kurve:](#toc0_)\n",
    "- AUC-Werte nahe 1.0 (z. B. Family Night, Kids Night) → Das Modell unterscheidet sehr gut zwischen positiv und negativ.\n",
    "Das zeigt, dass deine Feature-Auswahl (Beschreibung, Titel, Dauer, Altersfreigabe) sehr gut funktioniert für dieses Setup.\n",
    "\n",
    "### <a id='toc9_4_4_'></a>[6.4.2 Interpretation Fehleranalyse Halloween Night](#toc0_)\n",
    "\n",
    "#### <a id='toc9_4_4_1_'></a>[a) Ergebnis-Zusammenfassung:](#toc0_)\n",
    "🧟 Halloween Night\n",
    "\n",
    "- ❌ False Positives: 0\n",
    "    - Sehr gut! Das Modell sagt nie \"Halloween Night\", wenn’s nicht zutrifft.\n",
    "- ⚠️ False Negatives: 14\n",
    "    - Es übersieht einige Titel, die es eigentlich erkennen sollte.\n",
    "\n",
    "#### <a id='toc9_4_4_2_'></a>[b) Beispielhafte False Negatives:](#toc0_)\n",
    "| Titel                  | Tatsächlicher Anlass                     |\n",
    "|------------------------|------------------------------------------|\n",
    "| The Amityville Horror | [Halloween Night, Family Night]                      |\n",
    "| Haunted | [Halloween Night, Family Night]                   |\n",
    "| The Haunted Hathaways     | [Halloween Night]         |\n",
    "| Witches: A Century of Murder     | [Halloween Night] |\n",
    "| A Witches' Ball     | [Halloween Night]                       |\n",
    "\n",
    "\n",
    "#### <a id='toc9_4_4_3_'></a>[c) Interpretation:](#toc0_)\n",
    "\n",
    "Viele der False Negatives haben tatsächlich \"Halloween-Vibes\" (👻 Vampire, Zombies, Monster...).\n",
    "Einige sind Kinder- oder Familienfilme, die vermutlich in den Features untergehen, weil sie nicht explizit als \"Horror\" getaggt sind.\n",
    "Es könnte auch sein, dass die Beschreibung oder Titel nicht genug relevante Keywords enthalten.\n",
    "\n",
    "### <a id='toc9_4_5_'></a>[6.4.3 as man machen könnte:](#toc0_)\n",
    "\n",
    "1. False Negatives genauer analysieren\n",
    "\n",
    "Die Beschreibungen, Titel checken – vielleicht enthalten sie nicht genug Halloween-relevante Wörter?\n",
    "\n",
    "2. Regelbasiertes Labeling verbessern\n",
    "\n",
    "→ Wenn z. B. \"horror\", \"haunted\", \"witches\" usw. nicht in halloween_keywords sind, kann man die Liste erweitern."
   ]
  },
  {
   "cell_type": "markdown",
   "metadata": {},
   "source": [
    "### <a id='toc9_4_6_'></a>[Grafik 6 - Heatmap Anlässe pro Filme](#toc0_)"
   ]
  },
  {
   "cell_type": "code",
   "execution_count": 67,
   "metadata": {},
   "outputs": [
    {
     "data": {
      "image/png": "[encoded data removed]",
      "text/plain": [
       "<Figure size 1000x800 with 2 Axes>"
      ]
     },
     "metadata": {},
     "output_type": "display_data"
    }
   ],
   "source": [
    "# Sicherstellen, dass alle Einträge Listen sind \n",
    "df[\"anlass_rule\"] = df[\"anlass_rule\"].apply(\n",
    "    lambda x: x if isinstance(x, list) else [x] if pd.notna(x) else []\n",
    ")\n",
    "\n",
    "# Multi-Label-Binarisierung (Anlässe als Spalten)\n",
    "mlb_anlass = MultiLabelBinarizer()\n",
    "anlass_matrix = pd.DataFrame(\n",
    "    mlb_anlass.fit_transform(df[\"anlass_rule\"]),\n",
    "    columns=mlb_anlass.classes_,\n",
    "    index=df.index\n",
    ")\n",
    "\n",
    "# Co-Occurrence-Matrix berechnen: wie oft kommen zwei Anlässe zusammen in einem Film vor?\n",
    "co_occurrence = anlass_matrix.T.dot(anlass_matrix)\n",
    "\n",
    "# Heatmap \n",
    "plt.figure(figsize=(10, 8), facecolor='#D8EDF9')  #\n",
    "ax = sns.heatmap(\n",
    "    co_occurrence,\n",
    "    annot=True,\n",
    "    fmt=\"d\",\n",
    "    cmap=\"YlGnBu\",\n",
    "    linewidths=0.5,\n",
    "    annot_kws={\n",
    "        'weight': 'bold',       \n",
    "        'fontsize': 10,         \n",
    "        'fontfamily': 'sans-serif'  \n",
    "    }\n",
    ")\n",
    "\n",
    "# Titel und Achsen\n",
    "plt.title(\"Combined Occasions per Content\", fontsize=18, family='cursive', color='black', loc='center')\n",
    "\n",
    "plt.xticks(rotation=45)\n",
    "plt.yticks(rotation=0)\n",
    "\n",
    "bold_font = fm.FontProperties(family='sans-serif', weight='bold', size=10)\n",
    "for label in ax.get_xticklabels():\n",
    "    label.set_fontproperties(bold_font)\n",
    "for label in ax.get_yticklabels():\n",
    "    label.set_fontproperties(bold_font)\n",
    "\n",
    "# Plot-Hintergrund einfärben\n",
    "ax.set_facecolor('#D8EDF9')\n",
    "\n",
    "plt.tight_layout()\n",
    "plt.show()\n",
    "\n"
   ]
  },
  {
   "cell_type": "markdown",
   "metadata": {},
   "source": [
    "# <a id='toc10_'></a>[7 UI und Empfehlungssystem](#toc0_)\n",
    "## <a id='toc10_1_'></a>[7.1 Feature Matrix der Filme](#toc0_)\n",
    "\n",
    "- Baut eine vollständige Feature-Matrix für Machine Learning\n",
    "- Kombiniert:\n",
    "    - Numerische Daten \n",
    "    - One-hot kodierte Kategorien (Genre, Plattform)\n",
    "    - Textdaten \n",
    "- Unterstützt auch Testdaten, durch optionalen vectorizer"
   ]
  },
  {
   "cell_type": "code",
   "execution_count": 68,
   "metadata": {},
   "outputs": [],
   "source": [
    "def build_feature_matrix(df: pd.DataFrame, vectorizer=None):\n",
    "    \"\"\"\n",
    "    Erstellt eine Feature-Matrix aus numerischen, kategorischen und textuellen Informationen.\n",
    "    \n",
    "    \"\"\"\n",
    "    # TF-IDF-Vektorisierung der kombinierten Textbeschreibung checken\n",
    "    if vectorizer is None:\n",
    "        vectorizer = TfidfVectorizer(stop_words=\"english\", max_features=1000)\n",
    "        tfidf_matrix = vectorizer.fit_transform(df[\"combined_text\"].fillna(\"\"))\n",
    "    else:\n",
    "        tfidf_matrix = vectorizer.transform(df[\"combined_text\"].fillna(\"\"))\n",
    "\n",
    "    numeric = df[[\"duration_scaled\", \"agerating_scaled\"]].fillna(0)\n",
    "\n",
    "    # Genre und Platform Spalten erkennen\n",
    "    genre_cols = [col for col in df.columns if col.startswith(\"genre_\") and df[col].dtype in [int, float]]\n",
    "    platform_cols = [col for col in df.columns if col.startswith(\"platform_\") and df[col].dtype in [int, float]]\n",
    "\n",
    "    # Kategorische Features kombiniere\n",
    "    cat_features = df[genre_cols + platform_cols].fillna(0).astype(int)\n",
    "\n",
    "    # Feature-Matrix erstellen: numerisch + kategorisch + TF-IDF \n",
    "    full_matrix = hstack([sp.csr_matrix(numeric.values), sp.csr_matrix(cat_features.values), tfidf_matrix])\n",
    "\n",
    "    # Rückgabe: Matrix, Vektorizer, Genre-Matrix, TFIDF, \"Anlass\"-Textvektor\n",
    "    genre_matrix = sp.csr_matrix(df[genre_cols].values)\n",
    "    return full_matrix, vectorizer, genre_matrix, tfidf_matrix\n",
    "\n"
   ]
  },
  {
   "cell_type": "markdown",
   "metadata": {},
   "source": [
    "## <a id='toc10_2_'></a>[7.2 Recommend by Fav Show](#toc0_)\n",
    "\n",
    "- Nutzt fuzzy matching, um den vom Nutzer eingegebenen Titel zu finden\n",
    "- Berechnet inhaltliche Ähnlichkeit via Cosine Similarity\n",
    "- Gibt visuell angereicherte HTML-Empfehlungen zurück (inkl. Emojis & Formatierungen)"
   ]
  },
  {
   "cell_type": "code",
   "execution_count": 69,
   "metadata": {},
   "outputs": [],
   "source": [
    "def recommend_by_favorite_show(show_name: str, df: pd.DataFrame, top_n: int = 5):\n",
    "    \"\"\"\n",
    "    Gibt Top-N Empfehlungen basierend auf dem inhaltlichen Ähnlichkeitsvergleich zur Lieblingssendung.\n",
    "    \n",
    "    \"\"\"\n",
    "    # Kopie zum Schutz der Originaldaten + leere Texte auffüllen\n",
    "    df = df.copy()\n",
    "    df['combined_text'] = df['combined_text'].fillna('')\n",
    "    df['show_index'] = df.index\n",
    "\n",
    "    # Feature-Matrix erstellen\n",
    "    feature_matrix, *_ = build_feature_matrix(df)\n",
    "\n",
    "    # Ähnlichkeitsvergleich für titel\n",
    "    titles = df['title'].tolist()\n",
    "    matches = difflib.get_close_matches(show_name, titles)\n",
    "\n",
    "    if not matches:\n",
    "        return html.Div(f\"❌ No matching title found for '{show_name}'.\")\n",
    "\n",
    "    # bestes Ergebnis wählen\n",
    "    selected_title = matches[0]\n",
    "    index = df[df['title'] == selected_title].index[0]\n",
    "\n",
    "    # Cosine Similarity zwischen dem ausgewählten Titel und allen anderen berechnen\n",
    "    sim_scores = cosine_similarity(feature_matrix[index], feature_matrix).flatten()\n",
    "    similar_indices = sim_scores.argsort()[::-1][1:top_n+1]\n",
    "\n",
    "    # Empfehlungen aufbauen\n",
    "    recommendations = []\n",
    "    for i, idx in enumerate(similar_indices, 1):\n",
    "        row = df.loc[idx]\n",
    "\n",
    "        title = row.get(\"title\", \"Unknown\")\n",
    "        content_type = row.get(\"type\", \"Unknown\").capitalize()  # e.g. \"Movie\" or \"TV Show\"\n",
    "        platform = str(row.get(\"platform\", \"\"))\n",
    "        genres_str = \", \".join(row[\"genre_list\"]) if isinstance(row[\"genre_list\"], list) else str(row.get(\"genre_list\", \"\"))\n",
    "        fsk = row.get(\"agerating\", \"n/a\")\n",
    "        if isinstance(fsk, list): fsk = \", \".join(map(str, fsk))\n",
    "        duration = row.get(\"duration_minutes\", \"n/a\")\n",
    "\n",
    "        # Extras:\n",
    "        platform_emoji = \"🟥\" if \"Netflix\" in platform else \"🟦\" if \"Disney\" in platform else \"▶️\"\n",
    "        type_emoji = \"🎬\" if content_type == \"Movie\" else \"📺\"\n",
    "\n",
    "        # HTML-Baustein für eine Empfehlung\n",
    "        recommendations.append(html.Div([\n",
    "            html.H5(f\"{i}. 🎞️ {title}\"),\n",
    "            html.P(f\"{platform_emoji} {platform} | {type_emoji}  {content_type} | 🎭 {genres_str}\"),\n",
    "            html.P(f\"🧒 FSK: {fsk} | ⏱ {duration} min\"),\n",
    "            html.Hr()\n",
    "        ]))\n",
    "\n",
    "    # Rückgabe mit Klarstellung, welches Matching verwendet wurde\n",
    "    return html.Div([\n",
    "        html.P(f\"🔍 Did you mean: {selected_title}?\"),\n",
    "        html.Ul(recommendations)\n",
    "    ])"
   ]
  },
  {
   "cell_type": "markdown",
   "metadata": {},
   "source": [
    "## <a id='toc10_3_'></a>[7.3 Virtual User Vector](#toc0_)\n",
    "\n",
    "- Baut einen virtuellen Nutzer-Vektor, den man mit bestehenden Filmen vergleichen kann\n",
    "- Berücksichtigt:\n",
    "    - Alter\n",
    "    - Lieblingsplattform(en)\n",
    "    - Wunsch-Genres & Anlässe\n",
    "    - Keywords für Textabgleich\n",
    "- Gibt drei Vektoren zurück, die man flexibel einsetzen kannst für Empfehlungen\n"
   ]
  },
  {
   "cell_type": "code",
   "execution_count": 70,
   "metadata": {},
   "outputs": [],
   "source": [
    "def build_virtual_user_vector(age, platform, anlasse, genres, keywords, df_template, vectorizer):\n",
    "    \"\"\"\n",
    "    Erstellt einen Feature-Vektor für einen virtuellen Nutzer basierend auf persönlichen Angaben.\n",
    "    \"\"\"\n",
    "    # Numerische Merkmale vorbereiten\n",
    "    user_input = {\n",
    "        \"duration_scaled\": 0.5,\n",
    "        \"agerating_scaled\": age / 18.0\n",
    "    }\n",
    "\n",
    "    # Plattformauswahl definieren\n",
    "    platforms = [\"Netflix\", \"Disney+\"] if platform == \"both\" else [platform]\n",
    "\n",
    "    # Genre- und Anlassauswahl\n",
    "    for col in df_template.columns:\n",
    "        if col.startswith(\"platform_\"):\n",
    "            name = col.replace(\"platform_\", \"\")\n",
    "            user_input[col] = 1 if name in platforms else 0\n",
    "    for col in df_template.columns:\n",
    "        if col.startswith(\"genre_\") and \".1\" not in col:\n",
    "            name = col.replace(\"genre_\", \"\")\n",
    "            user_input[col] = 1 if name in genres else 0\n",
    "\n",
    "    # Anlass-Keywords hinzufügen\n",
    "    user_input[\"combined_text\"] = \" \".join(genres + platforms + anlasse + keywords)\n",
    "\n",
    "    # DataFrame erstellen und kombinieren\n",
    "    user_df = pd.DataFrame([user_input])\n",
    "    combined_df = pd.concat([user_df, df_template.iloc[:1]], ignore_index=True)\n",
    "\n",
    "    # Feature-Matrix erstellen\n",
    "    full_matrix, _, genre_matrix, tfidf_matrix = build_feature_matrix(combined_df, vectorizer)\n",
    "\n",
    "    # Vektor für den virtuellen Nutzer\n",
    "    return {\n",
    "        \"combined_vector\": full_matrix[0],\n",
    "        \"genre_vector\": genre_matrix[0],\n",
    "        \"tfidf_vector\": tfidf_matrix[0]\n",
    "    }"
   ]
  },
  {
   "cell_type": "markdown",
   "metadata": {},
   "source": [
    "## <a id='toc10_4_'></a>[7.4 Recommendation by Nutzereingabe](#toc0_)\n",
    "\n",
    "- Filtert den DataFrame nach Plattform, Altersfreigabe und Dauerwunsch\n",
    "- Erzeugt einen virtuellen Nutzervektor\n",
    "- Vergleicht diesen mit den Inhalten aus dem gefilterten Dataset\n",
    "- Gibt eine visuell ansprechende Empfehlungsliste als Dash-kompatibles HTML zurück"
   ]
  },
  {
   "cell_type": "code",
   "execution_count": 71,
   "metadata": {},
   "outputs": [],
   "source": [
    "def recommend_by_user_input(age, platform, anlasse, genres, keywords, duration, df, top_n=10):\n",
    "    \"\"\"\n",
    "    Gibt Film- oder Serienempfehlungen auf Basis von Nutzereingaben zurück.\n",
    "    \"\"\"\n",
    "    # DataFrame vorbereiten\n",
    "    df = df.copy()\n",
    "    df[\"combined_text\"] = df[\"combined_text\"].fillna(\"\")\n",
    "\n",
    "    # Plattform, Altersfreigabe und Dauer Filter anwenden\n",
    "    allowed_platforms = [\"Netflix\", \"Disney+\"] if platform == \"both\" else [platform]\n",
    "    df = df[df[\"platform_list\"].apply(lambda x: any(p in x for p in allowed_platforms))]\n",
    "    df = df[df[\"agerating_encoded\"] <= age]\n",
    "    if duration:\n",
    "        if \"<60\" in duration:\n",
    "            df = df[df[\"duration_minutes\"] < 60]\n",
    "        elif \"60-100\" in duration:\n",
    "            df = df[(df[\"duration_minutes\"] >= 60) & (df[\"duration_minutes\"] <= 100)]\n",
    "        elif \">100\" in duration:\n",
    "            df = df[df[\"duration_minutes\"] > 100]\n",
    "\n",
    "    if df.empty:\n",
    "        return html.Div(\"❌ No movies found with these filters.\")\n",
    "\n",
    "    # Feature-Matrix aus gefilterten Inhalten + virtuellen Nutzervektor erstellen\n",
    "    full_matrix, vectorizer, genre_matrix, tfidf_matrix = build_feature_matrix(df)\n",
    "    user_vectors = build_virtual_user_vector(age, platform, anlasse, genres, keywords, df, vectorizer)\n",
    "\n",
    "    # Ähnlichkeitswerte berechnen\n",
    "    sim_anlass = cosine_similarity(user_vectors[\"tfidf_vector\"], tfidf_matrix).flatten()\n",
    "    sim_genre = cosine_similarity(user_vectors[\"genre_vector\"], genre_matrix).flatten()\n",
    "    sim_keywords = cosine_similarity(user_vectors[\"tfidf_vector\"], tfidf_matrix).flatten()\n",
    "\n",
    "    # Score berechnen (gewichtete Mischung)\n",
    "    score = (\n",
    "        0.7 * sim_anlass +\n",
    "        0.4 * sim_genre +\n",
    "        0.5 * sim_keywords\n",
    "    )\n",
    "    score = score / (0.7 + 0.4 + 0.5)\n",
    "\n",
    "    top_indices = score.argsort()[::-1][:top_n]\n",
    "\n",
    "    # Empfehlungen mit visueller Aufbereitung\n",
    "    recommendations = []\n",
    "    for i, idx in enumerate(top_indices, 1):\n",
    "        row = df.iloc[idx]\n",
    "\n",
    "        title = row.get(\"title\", \"Unknown\")\n",
    "        content_type = row.get(\"type\", \"Unknown\").capitalize()  # e.g. \"Movie\" or \"TV Show\"\n",
    "        platform = str(row.get(\"platform\", \"\"))\n",
    "        genres_str = \", \".join(row[\"genre_list\"]) if isinstance(row[\"genre_list\"], list) else str(row.get(\"genre_list\", \"\"))\n",
    "        fsk = row.get(\"agerating\", \"n/a\")\n",
    "        if isinstance(fsk, list): fsk = \", \".join(map(str, fsk))\n",
    "        duration = row.get(\"duration_minutes\", \"n/a\")\n",
    "\n",
    "        # Extras:\n",
    "        platform_emoji = \"🟥\" if \"Netflix\" in platform else \"🟦\" if \"Disney\" in platform else \"▶️\"\n",
    "        type_emoji = \"🎬\" if content_type == \"Movie\" else \"📺\"\n",
    "\n",
    "        # HTML-Komponente für einzelne Empfehlung\n",
    "        recommendations.append(html.Div([\n",
    "            html.H5(f\"{i}. 🎞️ {title}\"),\n",
    "            html.P(f\"{platform_emoji} {platform} | {type_emoji}  {content_type} | 🎭 {genres_str}\"),\n",
    "            html.P(f\"🧒 FSK: {fsk} | ⏱ {duration} min\"),\n",
    "            html.Hr()\n",
    "        ]))\n",
    "\n",
    "    # Gesamtliste an Empfehlungen zurückgeben\n",
    "    return html.Ul(recommendations)"
   ]
  },
  {
   "cell_type": "markdown",
   "metadata": {},
   "source": [
    "## <a id='toc10_5_'></a>[7.5 UI starten](#toc0_)\n",
    "\n",
    "- Nutzt Dash + Bootstrap für ein modernes Layout\n",
    "- Unterstützt zwei Empfehlungstypen:\n",
    "    - Anlasse-basiert\n",
    "    - Lieblingsfilm-basiert\n",
    "-  Dynamisch ein-/ausblendbare Formularteile\n",
    "- Klar strukturierter Callback-Mechanismus\n",
    "- Schöne Emojis & Usability-Details"
   ]
  },
  {
   "cell_type": "code",
   "execution_count": 72,
   "metadata": {},
   "outputs": [
    {
     "data": {
      "text/html": [
       "\n",
       "        <iframe\n",
       "            width=\"100%\"\n",
       "            height=\"650\"\n",
       "            src=\"http://127.0.0.1:8055/\"\n",
       "            frameborder=\"0\"\n",
       "            allowfullscreen\n",
       "            \n",
       "        ></iframe>\n",
       "        "
      ],
      "text/plain": [
       "<IPython.lib.display.IFrame at 0x119bb2900>"
      ]
     },
     "metadata": {},
     "output_type": "display_data"
    }
   ],
   "source": [
    "import dash\n",
    "from dash import html, dcc, Input, Output, State\n",
    "import dash_bootstrap_components as dbc\n",
    "import pandas as pd\n",
    "from dash import callback_context\n",
    "\n",
    "# --- Optionen für UI ---\n",
    "occasion_options = [\n",
    "    \"Christmas\", \"Halloween Night\", \"Date Night\", \"Ladys Night\",\n",
    "    \"Family Night\", \"Kids Night\", \"Night with Friends\", \"Educational Night\"\n",
    "]\n",
    "\n",
    "all_genres = sorted([\n",
    "    \"Comedy\", \"Action & Adventure\", \"Romance\", \"Animation\",\n",
    "    \"Documentary\", \"Drama\", \"Sci-Fi & Fantasy\", \"Children & Family\",\n",
    "    \"Horror\", \"Music & Musicals\", \"Thriller & Crime\"\n",
    "])\n",
    "\n",
    "# --- Dash Setup ---\n",
    "app = dash.Dash(__name__, external_stylesheets=[dbc.themes.BOOTSTRAP], suppress_callback_exceptions=True)\n",
    "server = app.server\n",
    "\n",
    "# --- Layout ---\n",
    "# --- Immer im Layout: beide Modi sichtbar, aber per CSS ein-/ausblendbar ---\n",
    "app.layout = html.Div([\n",
    "    html.H2(\"🎬 Personalized Movie Recommendation\"),\n",
    "\n",
    "    html.Label(\"✨ Recommendation type:\"),\n",
    "    dcc.RadioItems(\n",
    "        id=\"mode\",\n",
    "        options=[\n",
    "            {\"label\": \"Based on an occasion\", \"value\": \"occasion\"},\n",
    "            {\"label\": \"Based on favorite movie\", \"value\": \"favorite_movie\"},\n",
    "        ],\n",
    "        value=\"occasion\",\n",
    "        labelStyle={\"margin-right\": \"15px\"}\n",
    "    ),\n",
    "\n",
    "    html.Br(),\n",
    "\n",
    "    html.Div(id=\"occasion-form\", children=[\n",
    "        dbc.Row([\n",
    "            dbc.Col([\n",
    "                html.Label(\"👤 Age (Max FSK):\"),\n",
    "                dcc.Input(id=\"age\", type=\"number\", min=0, max=18, value=12)\n",
    "            ]),\n",
    "            dbc.Col([\n",
    "                html.Label(\"📺 Platform:\"),\n",
    "                dcc.Dropdown(\n",
    "                    id=\"platform\",\n",
    "                    options=[\n",
    "                        {\"label\": \"Netflix\", \"value\": \"Netflix\"},\n",
    "                        {\"label\": \"Disney+\", \"value\": \"Disney+\"},\n",
    "                        {\"label\": \"Both\", \"value\": \"both\"},\n",
    "                    ],\n",
    "                    value=\"both\"\n",
    "                )\n",
    "            ]),\n",
    "            dbc.Col([\n",
    "                html.Label(\"⏱ Duration:\"),\n",
    "                dcc.RadioItems(\n",
    "                    id=\"duration\",\n",
    "                    options=[\n",
    "                        {\"label\": \"< 60 min\", \"value\": \"<60\"},\n",
    "                        {\"label\": \"60–100 min\", \"value\": \"60-100\"},\n",
    "                        {\"label\": \"> 100 min\", \"value\": \">100\"},\n",
    "                    ],\n",
    "                    value=\"60-100\"\n",
    "                )\n",
    "            ])\n",
    "        ]),\n",
    "        html.Br(),\n",
    "        html.Label(\"🎉 Occasion(s):\"),\n",
    "        dcc.Dropdown(\n",
    "            id=\"occasions\",\n",
    "            options=[{\"label\": o, \"value\": o} for o in occasion_options],\n",
    "            multi=True\n",
    "        ),\n",
    "\n",
    "        html.Label(\"🎭 Favorite genres:\"),\n",
    "        dcc.Dropdown(\n",
    "            id=\"genres\",\n",
    "            options=[{\"label\": g, \"value\": g} for g in all_genres],\n",
    "            multi=True\n",
    "        ),\n",
    "\n",
    "        html.Label(\"🔍 Keywords (comma-separated):\"),\n",
    "        dcc.Input(id=\"keywords\", type=\"text\", debounce=True, style={\"width\": \"100%\"})\n",
    "    ]),\n",
    "\n",
    "    html.Div(id=\"favorite-form\", children=[\n",
    "        html.Label(\"🎥 Enter your favorite movie:\"),\n",
    "        dcc.Input(id=\"favorite_movie\", type=\"text\", style={\"width\": \"100%\"})\n",
    "    ]),\n",
    "\n",
    "    html.Br(),\n",
    "    dbc.Button(\"Show Recommendation\", id=\"submit\", color=\"primary\"),\n",
    "    html.Br(), html.Br(),\n",
    "    html.Div(id=\"output\")\n",
    "])\n",
    "\n",
    "# --- Dynamische ein und asublenden ---\n",
    "@app.callback(\n",
    "    Output(\"occasion-form\", \"style\"),\n",
    "    Output(\"favorite-form\", \"style\"),\n",
    "    Input(\"mode\", \"value\")\n",
    ")\n",
    "def toggle_forms(mode):\n",
    "    if mode == \"occasion\":\n",
    "        return {}, {\"display\": \"none\"}\n",
    "    else:\n",
    "        return {\"display\": \"none\"}, {}\n",
    "\n",
    "\n",
    "# --- Callback für Empfehlung ---\n",
    "@app.callback(\n",
    "    Output(\"output\", \"children\"),\n",
    "    Input(\"submit\", \"n_clicks\"),\n",
    "    State(\"mode\", \"value\"),\n",
    "    State(\"age\", \"value\"),\n",
    "    State(\"platform\", \"value\"),\n",
    "    State(\"occasions\", \"value\"),\n",
    "    State(\"genres\", \"value\"),\n",
    "    State(\"keywords\", \"value\"),\n",
    "    State(\"duration\", \"value\"),\n",
    "    State(\"favorite_movie\", \"value\"),\n",
    ")\n",
    "def update_recommendation(n_clicks, mode, age, platform, occasions, genres, keywords, duration, favorite_movie):\n",
    "    if not n_clicks:\n",
    "        return \"\"\n",
    "\n",
    "    # Nur relevante States je nach Modus verwenden\n",
    "    try:\n",
    "        if mode == \"occasion\":\n",
    "            keywords_list = [k.strip() for k in (keywords or \"\").split(\",\") if k.strip()]\n",
    "            return recommend_by_user_input(\n",
    "                age=age or 12,\n",
    "                platform=platform or \"both\",\n",
    "                anlasse=occasions or [],\n",
    "                genres=genres or [],\n",
    "                keywords=keywords_list,\n",
    "                duration=duration or \"60-100\",\n",
    "                df=df,\n",
    "                top_n=10\n",
    "            )\n",
    "\n",
    "        elif mode == \"favorite_movie\":\n",
    "            if not favorite_movie:\n",
    "                return \"❗ Please enter a movie title.\"\n",
    "            return recommend_by_favorite_show(favorite_movie, df, top_n=10)\n",
    "\n",
    "    except Exception as e:\n",
    "        return f\"❌ Error: {e}\"\n",
    "\n",
    "\n",
    "\n",
    "# --- App starten ---\n",
    "if __name__ == \"__main__\":\n",
    "    app.run(debug=True, port=8055)\n"
   ]
  },
  {
   "cell_type": "markdown",
   "metadata": {},
   "source": [
    "# <a id='toc11_'></a>[📎 Anhang](#toc0_)\n",
    "\n",
    "## <a id='toc11_1_'></a>[Anhang: extra Grafik - Weltkarten](#toc0_)\n",
    "\n",
    "- hier für werden schon das gecleante Datensatz verwendet, da mit den Ursprünglichen Probleme aufgetreten sind aufgrund der Kommas.\n",
    "- In Browser öffnen, da ist es eine bessere Sicht.\n",
    "    http://127.0.0.1:8050"
   ]
  },
  {
   "cell_type": "code",
   "execution_count": 73,
   "metadata": {},
   "outputs": [
    {
     "data": {
      "text/html": [
       "\n",
       "        <iframe\n",
       "            width=\"100%\"\n",
       "            height=\"650\"\n",
       "            src=\"http://127.0.0.1:8050/\"\n",
       "            frameborder=\"0\"\n",
       "            allowfullscreen\n",
       "            \n",
       "        ></iframe>\n",
       "        "
      ],
      "text/plain": [
       "<IPython.lib.display.IFrame at 0x1199d7750>"
      ]
     },
     "metadata": {},
     "output_type": "display_data"
    }
   ],
   "source": [
    "\n",
    "# Daten für die Weltkarte vorbereiten\n",
    "netflix = pd.read_csv('../1_Datenset/erstellte/cleaned/netflix_titles_cleaned.csv')\n",
    "disney = pd.read_csv('../1_Datenset/erstellte/cleaned/disney_plus_titles_cleaned.csv')\n",
    "\n",
    "\n",
    "countries_netflix = netflix['country'].str.split(', ', expand=True).stack()\n",
    "countries_counts_netflix = countries_netflix.value_counts()\n",
    "\n",
    "if 'unknown' in countries_counts_netflix.index:\n",
    "    countries_counts_netflix = countries_counts_netflix.drop('unknown')\n",
    "\n",
    "colorscale_netflix = [\n",
    "    [0, '#FFE4C4'],  \n",
    "    [0.025, '#FF0000'],  \n",
    "    [0.2, '#8B0000'],    \n",
    "    [1, '#000000'], \n",
    "]\n",
    "\n",
    "countries_disney = disney['country'].str.split(', ', expand=True).stack()\n",
    "countries_counts_disney = countries_disney.value_counts()\n",
    "\n",
    "if 'unknown' in countries_counts_disney.index:\n",
    "    countries_counts_disney = countries_counts_disney.drop('unknown')\n",
    "\n",
    "colorscale_disney = [\n",
    "    [0, '#BFF5FD'],    \n",
    "    [0.7, '#113CCF'],\n",
    "    [1, '#142864']\n",
    "]\n",
    "\n",
    "# Weltkarte erstellen und Länder darstellen für Netflix\n",
    "fig_netflix = go.Figure((go.Choropleth(\n",
    "    locationmode='country names',\n",
    "    locations=countries_counts_netflix.index,  \n",
    "    z=countries_counts_netflix.values,  \n",
    "    zmin=0,\n",
    "    zmax=3500,\n",
    "    colorscale=colorscale_netflix,\n",
    "    autocolorscale=False,\n",
    "    marker_line_color='darkgrey',  \n",
    "    marker_line_width=1, \n",
    "    text=countries_counts_netflix.index,  \n",
    "    hoverinfo='location+z',  \n",
    ")))\n",
    "fig_netflix.update_layout(\n",
    "    title='Netflix Content by Country',\n",
    "    font=dict(family='Open Sans', color='#E50914', size=15),\n",
    "    title_x=0.5,\n",
    "    geo=dict(\n",
    "        showframe=True,  \n",
    "        showcoastlines=False,  \n",
    "        projection_type='natural earth', \n",
    "        showland=True,  \n",
    "        landcolor='rgb(217, 217, 217)',  \n",
    "    ),\n",
    ")\n",
    "\n",
    "# Weltkarte erstellen und Länder darstellen für Disney+\n",
    "fig_disney = go.Figure((go.Choropleth(\n",
    "    locationmode='country names',\n",
    "    locations=countries_counts_disney.index,  \n",
    "    z=countries_counts_disney.values,  \n",
    "    zmin=0,\n",
    "    zmax=1500,\n",
    "    colorscale=colorscale_disney,\n",
    "    autocolorscale=False,\n",
    "    marker_line_color='darkgrey',  \n",
    "    marker_line_width=1, \n",
    "    text=countries_counts_disney.index,  \n",
    "    hoverinfo='location+z',  \n",
    ")))\n",
    "fig_disney.update_layout(\n",
    "    title='Disney+ Content by Country',\n",
    "    font=dict(family='cursive', color='#113CCF', size=15),\n",
    "    title_x=0.5,\n",
    "    geo=dict(\n",
    "        showframe=True,  \n",
    "        showcoastlines=False,  \n",
    "        projection_type='natural earth', \n",
    "        showland=True,  \n",
    "        landcolor='white',  \n",
    "        showocean=True,\n",
    "        oceancolor='darkgrey',\n",
    "    ),\n",
    ")\n",
    "\n",
    "# Dropdown-Menü-Optionen für alle Länder\n",
    "all_countries = list(set(countries_counts_netflix.index) | set(countries_counts_disney.index))\n",
    "all_countries.sort()  # Sortiere die Liste alphabetisch\n",
    "all_countries.insert(0, 'All')  # Füge \"All\" am Anfang der Liste ein\n",
    "dropdown_options = [{'label': country, 'value': country} for country in all_countries]\n",
    "\n",
    "# Dash-App erstellen\n",
    "app_welt = dash.Dash(__name__)\n",
    "\n",
    "# Layout definieren\n",
    "app_welt.layout = html.Div([\n",
    "    html.H1('Content by Country', style={'text-align': 'center', 'font-style': 'italic', 'font-family':'Droid Serif','font-weight': 'bold', 'font-size': '40px'}),\n",
    "    html.Div([\n",
    "        dcc.Dropdown(\n",
    "            id='country-dropdown',\n",
    "            options=dropdown_options,\n",
    "            value=None,\n",
    "            style={'width': '250px'}),  # Breite der Dropdown-Liste anpassen\n",
    "        html.Label('Once you select a country, that country will be color-highlighted on the maps. You will see how many content were produced in that country. Other countries will also be color-highlighted to show how many content were co-produced with the selected country. For example, 803 content were produced in the United Kingdom, of which 278 content were co-produced with the United States. You can see this information by hovering over the United States on the map. If the colorscale disappears, it means that there are no content in the dataset that were filmed in that country for that platform.',\n",
    "                   style={'font-weight': 'bold', 'font-family': 'Droid Serif', 'font-style':'italic', 'display': 'block', 'margin-top': '10px', 'font-color': 'white'}),\n",
    "    ], style={'display': 'flex', 'align-items': 'center', 'flex-direction': 'column'}),\n",
    "    \n",
    "    html.Div([\n",
    "        html.Div([\n",
    "            dcc.Graph(id='choropleth-map-netflix', figure=fig_netflix),\n",
    "        ], className='six columns', style={'display': 'inline-block', 'width': '46%', 'height': '80vh'}),\n",
    "        html.Div([\n",
    "            dcc.Graph(id='choropleth-map-disney', figure=fig_disney),\n",
    "        ], className='six columns', style={'display': 'inline-block', 'width': '47%', 'height': '80vh'}),\n",
    "    ], className='row', style={'width': '100%',  'center': 'center'}),\n",
    "])\n",
    "\n",
    "\n",
    "# Callback-Funktionen für Dropdown-Menü\n",
    "@app_welt.callback(\n",
    "    Output('choropleth-map-netflix', 'figure'),\n",
    "    Output('choropleth-map-disney', 'figure'),\n",
    "    [Input('country-dropdown', 'value')]\n",
    ")\n",
    "def update_dropdown(selected_country):\n",
    "    fig_netflix_updated = fig_netflix\n",
    "    fig_disney_updated = fig_disney\n",
    "\n",
    "    if selected_country:\n",
    "        if selected_country == 'All' or selected_country is None:\n",
    "            return fig_netflix, fig_disney\n",
    "\n",
    "        if selected_country in countries_counts_netflix.index:\n",
    "            # Filtern der Daten für Netflix\n",
    "            filtered_countries_counts_netflix = countries_counts_netflix[countries_counts_netflix.index == selected_country]\n",
    "\n",
    "            fig_netflix_updated = go.Figure((go.Choropleth(\n",
    "                locationmode='country names',\n",
    "                locations=filtered_countries_counts_netflix.index,  \n",
    "                z=filtered_countries_counts_netflix.values,  \n",
    "                zmin=0,\n",
    "                zmax=3500,\n",
    "                colorscale=colorscale_netflix,\n",
    "                autocolorscale=False,\n",
    "                marker_line_color='darkgrey',  \n",
    "                marker_line_width=1, \n",
    "                text=filtered_countries_counts_netflix.index,  \n",
    "                hoverinfo='location+z',  \n",
    "            )))\n",
    "\n",
    "            # Markiere alle Länder, die mit dem ausgewählten Land verbunden sind, auf der Karte als Scatter Plot\n",
    "            associated_countries_netflix = netflix[netflix['country'].str.contains(selected_country, na=False)]['country'].str.split(', ')\n",
    "            associated_countries_counts_netflix = associated_countries_netflix.explode().value_counts()\n",
    "\n",
    "            # Markiere das ausgewählte Land und die verbundenen Länder auf der Karte\n",
    "            locations = [selected_country] + associated_countries_counts_netflix.index.tolist()\n",
    "            counts = [filtered_countries_counts_netflix[selected_country]] + associated_countries_counts_netflix.tolist()\n",
    "\n",
    "            fig_netflix_updated.add_trace(go.Choropleth(\n",
    "                locationmode='country names',\n",
    "                locations=locations,\n",
    "                z=counts,\n",
    "                zmin=0,\n",
    "                zmax=3500,\n",
    "                colorscale=colorscale_netflix,\n",
    "                autocolorscale=False,\n",
    "                marker_line_color='darkgrey',\n",
    "                marker_line_width=1,\n",
    "                text=[f\"Total count of content in {selected_country}: {counts[0]}<br>{z} contant was co-produced with {location}\" for location, count, z in zip(locations, counts, counts)],\n",
    "                hoverinfo='text'\n",
    "            ))\n",
    "\n",
    "            fig_netflix_updated.update_layout(\n",
    "                title=f'Netflix Content in {selected_country} & associated countries',\n",
    "                font=dict(family='Open Sans', color='#E50914', size=15),\n",
    "                title_x=0.5,\n",
    "                geo=dict(\n",
    "                    showframe=True,  \n",
    "                    showcoastlines=False,  \n",
    "                    projection_type='natural earth', \n",
    "                    showland=True,  \n",
    "                    landcolor='rgb(217, 217, 217)',  \n",
    "                ),\n",
    "            )\n",
    "        else:\n",
    "            # Filtern der Daten für Netflix\n",
    "            filtered_countries_counts_netflix = countries_counts_netflix[countries_counts_netflix.index == selected_country]\n",
    "\n",
    "            fig_netflix_updated = go.Figure((go.Choropleth(\n",
    "                locationmode='country names',\n",
    "                locations=filtered_countries_counts_netflix.index,  \n",
    "                z=filtered_countries_counts_netflix.values,  \n",
    "                zmin=0,\n",
    "                zmax=3500,\n",
    "                colorscale=colorscale_netflix,\n",
    "                autocolorscale=False,\n",
    "                marker_line_color='darkgrey',  \n",
    "                marker_line_width=1, \n",
    "                text=[f\"Total count of content in {selected_country}: {counts[0]}<br>{z} contant was co-produced with {location}\" for location, count, z in zip(locations, counts, counts)],\n",
    "                hoverinfo='text'  \n",
    "            )))\n",
    "            fig_netflix_updated.update_layout(\n",
    "                title=f'Netflix Content in {selected_country} & associated countries',\n",
    "                font=dict(family='Open Sans', color='#E50914', size=15),\n",
    "                title_x=0.5,\n",
    "                geo=dict(\n",
    "                    showframe=True,  \n",
    "                    showcoastlines=False,  \n",
    "                    projection_type='natural earth', \n",
    "                    showland=True,  \n",
    "                    landcolor='rgb(217, 217, 217)',  \n",
    "                ),\n",
    "            )\n",
    "\n",
    "        if selected_country in countries_counts_disney.index:\n",
    "            # Filtern der Daten für Disney+\n",
    "            filtered_countries_counts_disney = countries_counts_disney[countries_counts_disney.index == selected_country]\n",
    "\n",
    "            fig_disney_updated = go.Figure((go.Choropleth(\n",
    "                locationmode='country names',\n",
    "                locations=filtered_countries_counts_disney.index,  \n",
    "                z=filtered_countries_counts_disney.values,  \n",
    "                zmin=0,\n",
    "                zmax=1500,\n",
    "                colorscale=colorscale_disney,\n",
    "                autocolorscale=False,\n",
    "                marker_line_color='darkgrey',  \n",
    "                marker_line_width=1, \n",
    "                text=[f\"Total count of content in {selected_country}: {counts[0]}<br>{z} contant was co-produced with {location}\" for location, count, z in zip(locations, counts, counts)],\n",
    "                hoverinfo='text'  \n",
    "            )))\n",
    "            # Markiere alle Länder, die mit dem ausgewählten Land verbunden sind, auf der Karte als Scatter Plot\n",
    "        \n",
    "            disney_associated_countries = disney[disney['country'].str.contains(selected_country, na=False)]['country'].str.split(', ')\n",
    "            disney_associated_countries_counts = disney_associated_countries.explode().value_counts()\n",
    "\n",
    "            # Markiere das ausgewählte Land und die verbundenen Länder auf der Karte\n",
    "            disney_locations = [selected_country] + disney_associated_countries_counts.index.tolist()\n",
    "            disney_counts = [filtered_countries_counts_disney[selected_country]] + disney_associated_countries_counts.tolist()\n",
    "\n",
    "            fig_disney_updated.add_trace(go.Choropleth(\n",
    "                locationmode='country names',\n",
    "                locations=disney_locations,\n",
    "                z=disney_counts,\n",
    "                zmin=0,\n",
    "                zmax=1500,\n",
    "                colorscale=colorscale_disney,\n",
    "                autocolorscale=False,\n",
    "                marker_line_color='darkgrey',\n",
    "                marker_line_width=1,\n",
    "                text=[f\"Total count of content in {selected_country}: {counts[0]}<br>{z} contant was co-produced with {location}\" for location, count, z in zip(locations, counts, counts)],\n",
    "                hoverinfo='text'\n",
    "            ))\n",
    "            fig_disney_updated.update_layout(\n",
    "                title=f'Disney+ Content in {selected_country} & associated countries',\n",
    "                font=dict(family='cursive', color='#113CCF', size=15),\n",
    "                title_x=0.5,\n",
    "                geo=dict(\n",
    "                    showframe=True,  \n",
    "                    showcoastlines=False,  \n",
    "                    projection_type='natural earth', \n",
    "                    showland=True,  \n",
    "                    landcolor='white',  \n",
    "                    showocean=True,\n",
    "                    oceancolor='darkgrey',\n",
    "                ),\n",
    "            )\n",
    "        else:\n",
    "            filtered_countries_counts_disney = countries_counts_disney[countries_counts_disney.index == selected_country]\n",
    "\n",
    "            fig_disney_updated = go.Figure((go.Choropleth(\n",
    "                locationmode='country names',\n",
    "                locations=filtered_countries_counts_disney.index,  \n",
    "                z=filtered_countries_counts_disney.values,  \n",
    "                zmin=0,\n",
    "                zmax=1500,\n",
    "                colorscale=colorscale_disney,\n",
    "                autocolorscale=False,\n",
    "                marker_line_color='darkgrey',  \n",
    "                marker_line_width=1, \n",
    "                text=[f\"Total count of content in {selected_country}: {counts[0]}<br>{z} contant was co-produced with {location}\" for location, count, z in zip(locations, counts, counts)],\n",
    "                hoverinfo='text'  \n",
    "            )))\n",
    "            fig_disney_updated.update_layout(\n",
    "                title=f'Disney+ Content in {selected_country} & associated countries',\n",
    "                font=dict(family='cursive', color='#113CCF', size=15),\n",
    "                title_x=0.5,\n",
    "                geo=dict(\n",
    "                    showframe=True,  \n",
    "                    showcoastlines=False,  \n",
    "                    projection_type='natural earth', \n",
    "                    showland=True,  \n",
    "                    landcolor='white',  \n",
    "                    showocean=True,\n",
    "                    oceancolor='darkgrey',\n",
    "                ),\n",
    "            )\n",
    "        \n",
    "        return fig_netflix_updated, fig_disney_updated\n",
    "\n",
    "    # Wenn das ausgewählte Land nicht in den entsprechenden Ländern vorhanden ist, gib die ursprünglichen Karten zurück\n",
    "    return fig_netflix, fig_disney\n",
    "\n",
    "# App starten\n",
    "if __name__ == '__main__':\n",
    "    app_welt.run(debug=True, port=8050)\n"
   ]
  }
 ],
 "metadata": {
  "kernelspec": {
   "display_name": "Python 3",
   "language": "python",
   "name": "python3"
  },
  "language_info": {
   "codemirror_mode": {
    "name": "ipython",
    "version": 3
   },
   "file_extension": ".py",
   "mimetype": "text/x-python",
   "name": "python",
   "nbconvert_exporter": "python",
   "pygments_lexer": "ipython3",
   "version": "3.13.2"
  }
 },
 "nbformat": 4,
 "nbformat_minor": 4
}
